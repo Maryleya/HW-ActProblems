{
  "cells": [
    {
      "cell_type": "markdown",
      "id": "00fad453",
      "metadata": {
        "id": "00fad453"
      },
      "source": [
        "# Домашнее задание № 4. Языковые модели"
      ]
    },
    {
      "cell_type": "code",
      "source": [
        "!pip install razdel -q"
      ],
      "metadata": {
        "id": "uLxi7QOIL5ey"
      },
      "id": "uLxi7QOIL5ey",
      "execution_count": 4,
      "outputs": []
    },
    {
      "cell_type": "code",
      "source": [
        "from string import punctuation\n",
        "from razdel import sentenize\n",
        "from razdel import tokenize as razdel_tokenize\n",
        "import numpy as np\n",
        "from nltk.tokenize import sent_tokenize\n",
        "import nltk\n",
        "from collections import Counter\n",
        "from scipy.sparse import lil_matrix, csr_matrix, csc_matrix"
      ],
      "metadata": {
        "id": "faTpkfx4Lus7"
      },
      "id": "faTpkfx4Lus7",
      "execution_count": 12,
      "outputs": []
    },
    {
      "cell_type": "code",
      "source": [
        "nltk.download('punkt_tab')"
      ],
      "metadata": {
        "colab": {
          "base_uri": "https://localhost:8080/"
        },
        "id": "BJaNK-ADMW-P",
        "outputId": "3139b189-2f75-4319-c9a9-4fbe0ef61cb6"
      },
      "id": "BJaNK-ADMW-P",
      "execution_count": 10,
      "outputs": [
        {
          "output_type": "stream",
          "name": "stderr",
          "text": [
            "[nltk_data] Downloading package punkt_tab to /root/nltk_data...\n",
            "[nltk_data]   Unzipping tokenizers/punkt_tab.zip.\n"
          ]
        },
        {
          "output_type": "execute_result",
          "data": {
            "text/plain": [
              "True"
            ]
          },
          "metadata": {},
          "execution_count": 10
        }
      ]
    },
    {
      "cell_type": "markdown",
      "id": "5d056af4",
      "metadata": {
        "id": "5d056af4"
      },
      "source": [
        "## Задание 1 (8 баллов)."
      ]
    },
    {
      "cell_type": "markdown",
      "id": "d1f532a8",
      "metadata": {
        "id": "d1f532a8"
      },
      "source": [
        "В семинаре для генерации мы использовали предположение маркова и считали, что слово зависит только от 1 предыдущего слова. Но ничто нам не мешает попробовать увеличить размер окна и учитывать два или даже три прошлых слова. Для них мы еще сможем собрать достаточно статистик и, логично предположить, что качество сгенерированного текста должно вырасти."
      ]
    },
    {
      "cell_type": "markdown",
      "id": "de743d1d",
      "metadata": {
        "id": "de743d1d"
      },
      "source": [
        "Попробуйте сделать языковую модель, которая будет учитывать два предыдущих слова при генерации текста.\n",
        "Сгенерируйте несколько текстов (3-5) и расчитайте перплексию получившейся модели.\n",
        "Можно использовать данные из семинара или любые другие (можно брать только часть текста, если считается слишком долго). Перплексию рассчитывайте на 10-50 отложенных предложениях (они не должны использоваться при сборе статистик).\n",
        "\n",
        "\n",
        "Подсказки:  \n",
        "    - нужно будет добавить еще один тэг \\<start>  \n",
        "    - можете использовать тот же подход с матрицей вероятностей, но по строкам хронить биграмы, а по колонкам униграммы\n",
        "    - тексты должны быть очень похожи на нормальные (если у вас получается рандомная каша, вы что-то делаете не так)\n",
        "    - у вас будут словари с индексами биграммов и униграммов, не перепутайте их при переводе индекса в слово - словарь биграммов будет больше словаря униграммов и все индексы из униграммного словаря будут формально подходить для словаря биграммов (не будет ошибки при id2bigram[unigram_id]), но маппинг при этом будет совершенно неправильным"
      ]
    },
    {
      "cell_type": "code",
      "execution_count": 2,
      "id": "6afcef88",
      "metadata": {
        "id": "6afcef88"
      },
      "outputs": [],
      "source": [
        "with open('lenta.txt', encoding='utf-8') as f:\n",
        "    news = f.read()"
      ]
    },
    {
      "cell_type": "code",
      "source": [
        "def normalize(text):\n",
        "    normalized_text = [word.text.strip(punctuation) for word \\\n",
        "                                                            in razdel_tokenize(text)]\n",
        "    normalized_text = [word.lower() for word in normalized_text if word and len(word) < 20 ]\n",
        "    return normalized_text"
      ],
      "metadata": {
        "id": "MM3T0RHJLyH7"
      },
      "id": "MM3T0RHJLyH7",
      "execution_count": 3,
      "outputs": []
    },
    {
      "cell_type": "code",
      "source": [
        "def ngrammer(tokens, n=2):\n",
        "    ngrams = []\n",
        "    for i in range(0,len(tokens)-n+1):\n",
        "        ngrams.append(' '.join(tokens[i:i+n]))\n",
        "    return ngrams"
      ],
      "metadata": {
        "id": "lhCqxpTbLyu5"
      },
      "id": "lhCqxpTbLyu5",
      "execution_count": 6,
      "outputs": []
    },
    {
      "cell_type": "code",
      "source": [
        "sentences_news = [['<start>', '<start>'] + normalize(text) + ['<end>'] for text in sent_tokenize(news[:5000000])]"
      ],
      "metadata": {
        "id": "JxklYxTqMNAd"
      },
      "id": "JxklYxTqMNAd",
      "execution_count": 11,
      "outputs": []
    },
    {
      "cell_type": "code",
      "source": [
        "unigrams_news = Counter()\n",
        "bigrams_news = Counter()\n",
        "trigrams_news = Counter()\n",
        "\n",
        "for sentence in sentences_news:\n",
        "    unigrams_news.update(sentence)\n",
        "    bigrams_news.update(ngrammer(sentence))\n",
        "    trigrams_news.update(ngrammer(sentence, 3))"
      ],
      "metadata": {
        "id": "kBgrUAmBNVxW"
      },
      "id": "kBgrUAmBNVxW",
      "execution_count": 13,
      "outputs": []
    },
    {
      "cell_type": "code",
      "source": [
        "matrix_news = lil_matrix((len(bigrams_news),\n",
        "                        len(unigrams_news)))\n",
        "\n",
        "id2unigram_news = list(unigrams_news)\n",
        "id2bigram_news  = list(bigrams_news)\n",
        "\n",
        "unigram2id_news = {unigram:i for i, unigram in enumerate(id2unigram_news)}\n",
        "bigram2id_news  = {bigram :i for i, bigram  in enumerate(id2bigram_news)}\n",
        "\n",
        "for trigram in trigrams_news:\n",
        "    bigram, word = trigram.rsplit(maxsplit=1)\n",
        "    matrix_news[bigram2id_news[bigram], unigram2id_news[word]] = trigrams_news[trigram] / bigrams_news[bigram]\n",
        "\n",
        "matrix_news = csc_matrix(matrix_news)"
      ],
      "metadata": {
        "id": "GUa7RYZBNtpy"
      },
      "id": "GUa7RYZBNtpy",
      "execution_count": 18,
      "outputs": []
    },
    {
      "cell_type": "code",
      "source": [
        "def apply_temperature(probas, temperature):\n",
        "    log_probas = np.log(np.maximum(probas, 1e-10))\n",
        "    adjusted_log_probas = log_probas / temperature\n",
        "    exp_probas = np.exp(adjusted_log_probas)\n",
        "    adjusted_probabilities = exp_probas / np.sum(exp_probas)\n",
        "    return adjusted_probabilities"
      ],
      "metadata": {
        "id": "jbNT3XqMPBue"
      },
      "id": "jbNT3XqMPBue",
      "execution_count": 19,
      "outputs": []
    },
    {
      "cell_type": "code",
      "source": [
        "def generate_temp(matrix, id2unigram, id2bigram, unigram2id, bigram2id, n=100, start='<start> <start>', temperature=1.):\n",
        "    text = start.split()\n",
        "    current_idx = bigram2id[start]\n",
        "\n",
        "    for i in range(n):\n",
        "        chosen = np.random.choice(matrix.shape[1], p=apply_temperature(matrix[current_idx].toarray()[0], temperature=temperature))\n",
        "        text.append(id2unigram[chosen])\n",
        "\n",
        "        if id2unigram[chosen] == '<end>':\n",
        "            current_idx = bigram2id['<start> <start>']\n",
        "            text.extend(['<start>', '<start>'])\n",
        "        else:\n",
        "            current_idx = bigram2id[' '.join(text[-2:])]\n",
        "    return ' '.join(text)"
      ],
      "metadata": {
        "id": "3w7TzPP6Mpk1"
      },
      "id": "3w7TzPP6Mpk1",
      "execution_count": 16,
      "outputs": []
    },
    {
      "cell_type": "code",
      "source": [
        "print(generate_temp(matrix_news, id2unigram_news, id2bigram_news, unigram2id_news, bigram2id_news, n=40, temperature=0.01).replace('<start> <start>', '').replace('<end>', '\\n'))"
      ],
      "metadata": {
        "colab": {
          "base_uri": "https://localhost:8080/"
        },
        "id": "cafRHYvvQowL",
        "outputId": "79664146-25e3-4333-a6d0-8b6912b503a9"
      },
      "id": "cafRHYvvQowL",
      "execution_count": 31,
      "outputs": [
        {
          "output_type": "stream",
          "name": "stdout",
          "text": [
            " в настоящее время в россии \n",
            "  в настоящее время в составе делегации министр внутренних дел россии игорь иванов \n",
            "  в настоящее время в республике \n",
            "  в настоящее время в составе делегации в ходе встречи с президентом сша биллом клинтоном \n",
            " \n"
          ]
        }
      ]
    },
    {
      "cell_type": "code",
      "source": [
        "print(generate_temp(matrix_news, id2unigram_news, id2bigram_news, unigram2id_news, bigram2id_news, n=40, temperature=0.2).replace('<start> <start>', '').replace('<end>', '\\n'))"
      ],
      "metadata": {
        "colab": {
          "base_uri": "https://localhost:8080/"
        },
        "id": "cx-snXg3Qv8W",
        "outputId": "c5cd2ee5-3eb8-421f-f27b-5af365d83cd6"
      },
      "id": "cx-snXg3Qv8W",
      "execution_count": 23,
      "outputs": [
        {
          "output_type": "stream",
          "name": "stdout",
          "text": [
            " по словам представителя штаба огв части и подразделения федеральных сил \n",
            "  в настоящее время в районах населенных пунктов \n",
            "  в частности в исковом заявлении говорится что вклады граждан должны обеспечиваться путем страхования \n",
            "  в то же время в разработке кремлевских\n"
          ]
        }
      ]
    },
    {
      "cell_type": "code",
      "source": [
        "print(generate_temp(matrix_news, id2unigram_news, id2bigram_news, unigram2id_news, bigram2id_news, n=40, temperature=0.8).replace('<start> <start>', '').replace('<end>', '\\n'))"
      ],
      "metadata": {
        "colab": {
          "base_uri": "https://localhost:8080/"
        },
        "id": "6fjPRa7IQxyQ",
        "outputId": "4793a240-ba09-4967-fc02-767f78a3ea87"
      },
      "id": "6fjPRa7IQxyQ",
      "execution_count": 24,
      "outputs": [
        {
          "output_type": "stream",
          "name": "stdout",
          "text": [
            " обвинения могут быть рим и иерусалим именно в этой сфере больше будет построено 10 судов \n",
            "  в результате наводнений в китае официально признаны пять религий буддизм даосизм христианство конфуцианство и ислам и все необходимое чтобы защитить мирное население и работу\n"
          ]
        }
      ]
    },
    {
      "cell_type": "code",
      "source": [
        "print(generate_temp(matrix_news, id2unigram_news, id2bigram_news, unigram2id_news, bigram2id_news, n=40, temperature=1.5).replace('<start> <start>', '').replace('<end>', '\\n'))"
      ],
      "metadata": {
        "colab": {
          "base_uri": "https://localhost:8080/"
        },
        "id": "cdTmYHtnQy5n",
        "outputId": "e48f209c-bc8b-4b28-fc69-d8bc0568a024"
      },
      "id": "cdTmYHtnQy5n",
      "execution_count": 28,
      "outputs": [
        {
          "output_type": "stream",
          "name": "stdout",
          "text": [
            " освободившиеся средства планировалось передать в центральную клиническую больницу в среду проголосовали 385 депутатов воздержавшихся и голосовавших против всех 2,76 избирателей \n",
            "  россию представляет госкомпания росвооружение \n",
            "  усилено положение о федеральном характере таможенного дела и обоснованно пришел к однозначному и единодушному\n"
          ]
        }
      ]
    },
    {
      "cell_type": "code",
      "source": [
        "def compute_joint_proba(text, word_probas):\n",
        "    prob = 0\n",
        "    tokens = normalize(text)\n",
        "    for word in tokens:\n",
        "        if word in word_probas:\n",
        "            prob += (np.log(word_probas[word]))\n",
        "        else:\n",
        "            prob += np.log(2e-4)\n",
        "    return prob, len(tokens)\n",
        "\n",
        "def perplexity(logp, N):\n",
        "    return np.exp((-1/N) * logp)"
      ],
      "metadata": {
        "id": "z3ZEFz2lSMYa"
      },
      "id": "z3ZEFz2lSMYa",
      "execution_count": 34,
      "outputs": []
    },
    {
      "cell_type": "code",
      "source": [
        "perp_corpus = news[5000000:]\n",
        "perp_norm = normalize(perp_corpus)\n",
        "perp_vocab = Counter(perp_norm)\n",
        "perp_probas = Counter({word:c/len(perp_norm) for word, c in perp_vocab.items()})"
      ],
      "metadata": {
        "id": "bOF_BKMMUHpR"
      },
      "id": "bOF_BKMMUHpR",
      "execution_count": 35,
      "outputs": []
    },
    {
      "cell_type": "code",
      "source": [
        "perp_text = generate_temp(matrix_news, id2unigram_news, id2bigram_news, unigram2id_news, bigram2id_news, n=500).replace('<start> <start>', '').replace('<end>', '\\n').split('\\n')"
      ],
      "metadata": {
        "id": "R7KfRP0lUenF"
      },
      "id": "R7KfRP0lUenF",
      "execution_count": 53,
      "outputs": []
    },
    {
      "cell_type": "code",
      "source": [
        "perps = []\n",
        "for text in perp_text:\n",
        "    perps.append(perplexity(*compute_joint_proba(text, perp_probas)))\n",
        "np.mean(perps)"
      ],
      "metadata": {
        "colab": {
          "base_uri": "https://localhost:8080/"
        },
        "id": "sfon7CqLU6G9",
        "outputId": "14517491-a73d-4845-c42b-f689609b219b"
      },
      "id": "sfon7CqLU6G9",
      "execution_count": 54,
      "outputs": [
        {
          "output_type": "execute_result",
          "data": {
            "text/plain": [
              "4754.359638930203"
            ]
          },
          "metadata": {},
          "execution_count": 54
        }
      ]
    },
    {
      "cell_type": "markdown",
      "id": "8e0a8dd5",
      "metadata": {
        "id": "8e0a8dd5"
      },
      "source": [
        "## Задание № 2* (2 балла)."
      ]
    },
    {
      "cell_type": "markdown",
      "id": "f733858c",
      "metadata": {
        "id": "f733858c"
      },
      "source": [
        "Измените функцию generate_with_beam_search так, чтобы она работала с моделью, которая учитывает два предыдущих слова.\n",
        "Сравните получаемый результат с первым заданием.\n",
        "Также попробуйте начинать генерацию не с нуля (подавая \\<start> \\<start>), а с какого-то промпта. Но помните, что учитываться будут только два последних слова, так что не делайте длинные промпты."
      ]
    },
    {
      "cell_type": "code",
      "execution_count": 56,
      "id": "c426746a",
      "metadata": {
        "id": "c426746a"
      },
      "outputs": [],
      "source": [
        "class Beam:\n",
        "    def __init__(self, sequence: list, score: float):\n",
        "        self.sequence: list = sequence\n",
        "        self.score: float = score"
      ]
    },
    {
      "cell_type": "code",
      "source": [
        "def generate_with_beam_search(matrix, id2unigram, id2bigram, unigram2id, bigram2id, n=100, max_beams=5, start='<start> <start>'):\n",
        "    initial_node = Beam(sequence=start.split(), score=np.log1p(0))\n",
        "    beams = [initial_node]\n",
        "\n",
        "    for i in range(n):\n",
        "        new_beams = []\n",
        "        for beam in beams:\n",
        "            if beam.sequence[-1] == '<end>':\n",
        "                new_beams.append(beam)\n",
        "                continue\n",
        "\n",
        "            last_id = bigram2id[' '.join(beam.sequence[-2:])]\n",
        "            probas = matrix[last_id].toarray()[0]\n",
        "            top_idxs = probas.argsort()[:-(max_beams+1):-1]\n",
        "            for top_id in top_idxs:\n",
        "                if not probas[top_id]:\n",
        "                    break\n",
        "                new_sequence = beam.sequence + [id2unigram[top_id]]\n",
        "                new_score = (beam.score + np.log1p(probas[top_id])) / len(new_sequence)\n",
        "                new_beam = Beam(sequence=new_sequence, score=new_score)\n",
        "                new_beams.append(new_beam)\n",
        "        beams = sorted(new_beams, key=lambda x: x.score, reverse=True)[:max_beams]\n",
        "    sorted_sequences = sorted(beams, key=lambda x: x.score, reverse=True)\n",
        "    sorted_sequences = [\" \".join(beam.sequence) for beam in sorted_sequences]\n",
        "    return sorted_sequences"
      ],
      "metadata": {
        "id": "vAvVVlq4VqWq"
      },
      "id": "vAvVVlq4VqWq",
      "execution_count": 57,
      "outputs": []
    },
    {
      "cell_type": "code",
      "source": [
        "generate_with_beam_search(matrix_news, id2unigram_news, id2bigram_news, unigram2id_news, bigram2id_news)"
      ],
      "metadata": {
        "colab": {
          "base_uri": "https://localhost:8080/"
        },
        "id": "x3RhQoyGV6od",
        "outputId": "9ed34d79-b7cb-479e-f735-45cd0bdf98d7"
      },
      "id": "x3RhQoyGV6od",
      "execution_count": 59,
      "outputs": [
        {
          "output_type": "execute_result",
          "data": {
            "text/plain": [
              "['<start> <start> как сообщает риа новости <end>',\n",
              " '<start> <start> об этом риа новости <end>',\n",
              " '<start> <start> об этом сообщает риа новости <end>',\n",
              " '<start> <start> об этом сообщает агентство риа новости <end>',\n",
              " '<start> <start> об этом сообщает итар-тасс со ссылкой на пресс-службу мчс россии сергей шойгу <end>']"
            ]
          },
          "metadata": {},
          "execution_count": 59
        }
      ]
    },
    {
      "cell_type": "code",
      "source": [
        "generate_with_beam_search(matrix_news, id2unigram_news, id2bigram_news, unigram2id_news, bigram2id_news, start='<start> летом')"
      ],
      "metadata": {
        "colab": {
          "base_uri": "https://localhost:8080/"
        },
        "id": "8VYWIR77WwVP",
        "outputId": "f9b0865e-3345-4207-a14a-83baeb0fe27b"
      },
      "id": "8VYWIR77WwVP",
      "execution_count": 62,
      "outputs": [
        {
          "output_type": "execute_result",
          "data": {
            "text/plain": [
              "['<start> летом прошлого года <end>',\n",
              " '<start> летом текущего года <end>',\n",
              " '<start> летом 1998 года <end>',\n",
              " '<start> летом 1994 года в москве <end>',\n",
              " '<start> летом прошлого года в москве <end>']"
            ]
          },
          "metadata": {},
          "execution_count": 62
        }
      ]
    },
    {
      "cell_type": "code",
      "source": [
        "generate_with_beam_search(matrix_news, id2unigram_news, id2bigram_news, unigram2id_news, bigram2id_news, start='завтра утром')"
      ],
      "metadata": {
        "colab": {
          "base_uri": "https://localhost:8080/"
        },
        "id": "S6MlYn7nW4yy",
        "outputId": "0c82ede9-be12-4214-846c-203886c61c3d"
      },
      "id": "S6MlYn7nW4yy",
      "execution_count": 63,
      "outputs": [
        {
          "output_type": "execute_result",
          "data": {
            "text/plain": [
              "['завтра утром <end>',\n",
              " 'завтра утром к рассмотрению протест генпрокуратуры <end>',\n",
              " 'завтра утром к рассмотрению протест генпрокуратуры на большой скорости с грузовиком газ-452 <end>',\n",
              " 'завтра утром к рассмотрению протест генпрокуратуры на большой скорости врезался мини-трактор обслуживавший заправку <end>',\n",
              " 'завтра утром к рассмотрению протест генпрокуратуры на большой скорости неожиданно выскочил автомобиль жигули девятой модели <end>']"
            ]
          },
          "metadata": {},
          "execution_count": 63
        }
      ]
    },
    {
      "cell_type": "code",
      "source": [
        "generate_with_beam_search(matrix_news, id2unigram_news, id2bigram_news, unigram2id_news, bigram2id_news, start='речь идет о')"
      ],
      "metadata": {
        "colab": {
          "base_uri": "https://localhost:8080/"
        },
        "id": "RDb4MwLyW5CK",
        "outputId": "1a3d5c25-2402-434a-fffd-33842afd0893"
      },
      "id": "RDb4MwLyW5CK",
      "execution_count": 68,
      "outputs": [
        {
          "output_type": "execute_result",
          "data": {
            "text/plain": [
              "['речь идет о нескольких десятках новейших боевых самолетов семейства су <end>',\n",
              " 'речь идет о сумме в 100 миллионов долларов <end>',\n",
              " 'речь идет о сумме приблизительно в 11,5 миллионов долларов <end>',\n",
              " 'речь идет о фильме снятом сотрудниками мвд и прокуратуры <end>',\n",
              " 'речь идет о нескольких десятках новейших боевых самолетов и самолетов зафрахтованных гуманитарными организациями <end>']"
            ]
          },
          "metadata": {},
          "execution_count": 68
        }
      ]
    },
    {
      "cell_type": "code",
      "source": [],
      "metadata": {
        "id": "B7Ca8PNjXNI6"
      },
      "id": "B7Ca8PNjXNI6",
      "execution_count": null,
      "outputs": []
    }
  ],
  "metadata": {
    "kernelspec": {
      "display_name": "Python 3 (ipykernel)",
      "language": "python",
      "name": "python3"
    },
    "language_info": {
      "codemirror_mode": {
        "name": "ipython",
        "version": 3
      },
      "file_extension": ".py",
      "mimetype": "text/x-python",
      "name": "python",
      "nbconvert_exporter": "python",
      "pygments_lexer": "ipython3",
      "version": "3.8.14"
    },
    "colab": {
      "provenance": []
    }
  },
  "nbformat": 4,
  "nbformat_minor": 5
}