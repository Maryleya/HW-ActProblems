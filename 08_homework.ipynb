{
  "cells": [
    {
      "cell_type": "markdown",
      "id": "1dba7c0d",
      "metadata": {
        "id": "1dba7c0d"
      },
      "source": [
        "# Домашнее задание № 9"
      ]
    },
    {
      "cell_type": "markdown",
      "id": "c0fb51a4",
      "metadata": {
        "id": "c0fb51a4"
      },
      "source": [
        "### Задание 1 (10 баллов).\n",
        "Это задание основано на этой тетрадке - https://github.com/mannefedov/compling_nlp_hse_course/blob/master/notebooks/transfer_learning_hg/Fine_tunining_pretrained_LMs_torch.ipynb\n",
        "\n",
        "На датасете lenta_sample.ru  дообучите две модели - modernbert-base (из семинара) и rumodernbert-base (https://huggingface.co/deepvk/RuModernBERT-base). Оцените разницу в качестве сравнив поклассовые метрики (classification_report)\n",
        "\n",
        "Для обоих моделей качество должно быть >0.10 по f-мере (прогоните несколько экспериментов если у вас получаются нули, изменяя параметры).\n",
        "Также для обоих моделей попробуйте дообучать модель и целиком и дообучать только последний слой.\n",
        "Для RuModernBERT дополнительно сравните модель, которая использует первый вектор (cls токен, как в семинаре), так и усредненный вектор по всем hidden_state, который выдает bert.\n",
        "\n",
        "\n"
      ]
    },
    {
      "cell_type": "code",
      "execution_count": 1,
      "id": "9deb7969",
      "metadata": {
        "id": "9deb7969"
      },
      "outputs": [],
      "source": [
        "import numpy as np\n",
        "import pandas as pd\n",
        "from string import punctuation\n",
        "\n",
        "from transformers import AutoModel\n",
        "from transformers import AutoTokenizer\n",
        "\n",
        "import torch\n",
        "import torch.nn as nn\n",
        "import torch.nn.functional as F\n",
        "import torch.optim as optim\n",
        "import torch.utils.data\n",
        "\n",
        "from sklearn.metrics import f1_score\n",
        "from sklearn.metrics import classification_report\n",
        "from sklearn.model_selection import train_test_split\n",
        "\n",
        "import matplotlib.pyplot as plt\n",
        "%matplotlib inline"
      ]
    },
    {
      "cell_type": "code",
      "execution_count": 6,
      "id": "2444e3fe",
      "metadata": {
        "colab": {
          "base_uri": "https://localhost:8080/",
          "height": 146
        },
        "id": "2444e3fe",
        "outputId": "14624576-390a-4f09-ef10-109125ab0358"
      },
      "outputs": [
        {
          "output_type": "execute_result",
          "data": {
            "text/plain": [
              "                                           url  \\\n",
              "0  https://lenta.ru/news/2010/12/16/passports/   \n",
              "1    https://lenta.ru/news/2014/05/19/student/   \n",
              "\n",
              "                                               title  \\\n",
              "0     Московская милиция ужесточила паспортный режим   \n",
              "1  Московского студента ограбили на 6 миллионов р...   \n",
              "\n",
              "                                                text   topic tags        date  \n",
              "0  В Москве после серии массовых беспорядков на н...  Россия  Все  2010/12/16  \n",
              "1  Неизвестные вынесли из квартиры московского ст...  Россия  NaN  2014/05/19  "
            ],
            "text/html": [
              "\n",
              "  <div id=\"df-c70bc793-4d4b-4c8b-a917-fe03e548142d\" class=\"colab-df-container\">\n",
              "    <div>\n",
              "<style scoped>\n",
              "    .dataframe tbody tr th:only-of-type {\n",
              "        vertical-align: middle;\n",
              "    }\n",
              "\n",
              "    .dataframe tbody tr th {\n",
              "        vertical-align: top;\n",
              "    }\n",
              "\n",
              "    .dataframe thead th {\n",
              "        text-align: right;\n",
              "    }\n",
              "</style>\n",
              "<table border=\"1\" class=\"dataframe\">\n",
              "  <thead>\n",
              "    <tr style=\"text-align: right;\">\n",
              "      <th></th>\n",
              "      <th>url</th>\n",
              "      <th>title</th>\n",
              "      <th>text</th>\n",
              "      <th>topic</th>\n",
              "      <th>tags</th>\n",
              "      <th>date</th>\n",
              "    </tr>\n",
              "  </thead>\n",
              "  <tbody>\n",
              "    <tr>\n",
              "      <th>0</th>\n",
              "      <td>https://lenta.ru/news/2010/12/16/passports/</td>\n",
              "      <td>Московская милиция ужесточила паспортный режим</td>\n",
              "      <td>В Москве после серии массовых беспорядков на н...</td>\n",
              "      <td>Россия</td>\n",
              "      <td>Все</td>\n",
              "      <td>2010/12/16</td>\n",
              "    </tr>\n",
              "    <tr>\n",
              "      <th>1</th>\n",
              "      <td>https://lenta.ru/news/2014/05/19/student/</td>\n",
              "      <td>Московского студента ограбили на 6 миллионов р...</td>\n",
              "      <td>Неизвестные вынесли из квартиры московского ст...</td>\n",
              "      <td>Россия</td>\n",
              "      <td>NaN</td>\n",
              "      <td>2014/05/19</td>\n",
              "    </tr>\n",
              "  </tbody>\n",
              "</table>\n",
              "</div>\n",
              "    <div class=\"colab-df-buttons\">\n",
              "\n",
              "  <div class=\"colab-df-container\">\n",
              "    <button class=\"colab-df-convert\" onclick=\"convertToInteractive('df-c70bc793-4d4b-4c8b-a917-fe03e548142d')\"\n",
              "            title=\"Convert this dataframe to an interactive table.\"\n",
              "            style=\"display:none;\">\n",
              "\n",
              "  <svg xmlns=\"http://www.w3.org/2000/svg\" height=\"24px\" viewBox=\"0 -960 960 960\">\n",
              "    <path d=\"M120-120v-720h720v720H120Zm60-500h600v-160H180v160Zm220 220h160v-160H400v160Zm0 220h160v-160H400v160ZM180-400h160v-160H180v160Zm440 0h160v-160H620v160ZM180-180h160v-160H180v160Zm440 0h160v-160H620v160Z\"/>\n",
              "  </svg>\n",
              "    </button>\n",
              "\n",
              "  <style>\n",
              "    .colab-df-container {\n",
              "      display:flex;\n",
              "      gap: 12px;\n",
              "    }\n",
              "\n",
              "    .colab-df-convert {\n",
              "      background-color: #E8F0FE;\n",
              "      border: none;\n",
              "      border-radius: 50%;\n",
              "      cursor: pointer;\n",
              "      display: none;\n",
              "      fill: #1967D2;\n",
              "      height: 32px;\n",
              "      padding: 0 0 0 0;\n",
              "      width: 32px;\n",
              "    }\n",
              "\n",
              "    .colab-df-convert:hover {\n",
              "      background-color: #E2EBFA;\n",
              "      box-shadow: 0px 1px 2px rgba(60, 64, 67, 0.3), 0px 1px 3px 1px rgba(60, 64, 67, 0.15);\n",
              "      fill: #174EA6;\n",
              "    }\n",
              "\n",
              "    .colab-df-buttons div {\n",
              "      margin-bottom: 4px;\n",
              "    }\n",
              "\n",
              "    [theme=dark] .colab-df-convert {\n",
              "      background-color: #3B4455;\n",
              "      fill: #D2E3FC;\n",
              "    }\n",
              "\n",
              "    [theme=dark] .colab-df-convert:hover {\n",
              "      background-color: #434B5C;\n",
              "      box-shadow: 0px 1px 3px 1px rgba(0, 0, 0, 0.15);\n",
              "      filter: drop-shadow(0px 1px 2px rgba(0, 0, 0, 0.3));\n",
              "      fill: #FFFFFF;\n",
              "    }\n",
              "  </style>\n",
              "\n",
              "    <script>\n",
              "      const buttonEl =\n",
              "        document.querySelector('#df-c70bc793-4d4b-4c8b-a917-fe03e548142d button.colab-df-convert');\n",
              "      buttonEl.style.display =\n",
              "        google.colab.kernel.accessAllowed ? 'block' : 'none';\n",
              "\n",
              "      async function convertToInteractive(key) {\n",
              "        const element = document.querySelector('#df-c70bc793-4d4b-4c8b-a917-fe03e548142d');\n",
              "        const dataTable =\n",
              "          await google.colab.kernel.invokeFunction('convertToInteractive',\n",
              "                                                    [key], {});\n",
              "        if (!dataTable) return;\n",
              "\n",
              "        const docLinkHtml = 'Like what you see? Visit the ' +\n",
              "          '<a target=\"_blank\" href=https://colab.research.google.com/notebooks/data_table.ipynb>data table notebook</a>'\n",
              "          + ' to learn more about interactive tables.';\n",
              "        element.innerHTML = '';\n",
              "        dataTable['output_type'] = 'display_data';\n",
              "        await google.colab.output.renderOutput(dataTable, element);\n",
              "        const docLink = document.createElement('div');\n",
              "        docLink.innerHTML = docLinkHtml;\n",
              "        element.appendChild(docLink);\n",
              "      }\n",
              "    </script>\n",
              "  </div>\n",
              "\n",
              "\n",
              "<div id=\"df-a9d3198f-ae0d-476c-9dd9-e7d96beaed2a\">\n",
              "  <button class=\"colab-df-quickchart\" onclick=\"quickchart('df-a9d3198f-ae0d-476c-9dd9-e7d96beaed2a')\"\n",
              "            title=\"Suggest charts\"\n",
              "            style=\"display:none;\">\n",
              "\n",
              "<svg xmlns=\"http://www.w3.org/2000/svg\" height=\"24px\"viewBox=\"0 0 24 24\"\n",
              "     width=\"24px\">\n",
              "    <g>\n",
              "        <path d=\"M19 3H5c-1.1 0-2 .9-2 2v14c0 1.1.9 2 2 2h14c1.1 0 2-.9 2-2V5c0-1.1-.9-2-2-2zM9 17H7v-7h2v7zm4 0h-2V7h2v10zm4 0h-2v-4h2v4z\"/>\n",
              "    </g>\n",
              "</svg>\n",
              "  </button>\n",
              "\n",
              "<style>\n",
              "  .colab-df-quickchart {\n",
              "      --bg-color: #E8F0FE;\n",
              "      --fill-color: #1967D2;\n",
              "      --hover-bg-color: #E2EBFA;\n",
              "      --hover-fill-color: #174EA6;\n",
              "      --disabled-fill-color: #AAA;\n",
              "      --disabled-bg-color: #DDD;\n",
              "  }\n",
              "\n",
              "  [theme=dark] .colab-df-quickchart {\n",
              "      --bg-color: #3B4455;\n",
              "      --fill-color: #D2E3FC;\n",
              "      --hover-bg-color: #434B5C;\n",
              "      --hover-fill-color: #FFFFFF;\n",
              "      --disabled-bg-color: #3B4455;\n",
              "      --disabled-fill-color: #666;\n",
              "  }\n",
              "\n",
              "  .colab-df-quickchart {\n",
              "    background-color: var(--bg-color);\n",
              "    border: none;\n",
              "    border-radius: 50%;\n",
              "    cursor: pointer;\n",
              "    display: none;\n",
              "    fill: var(--fill-color);\n",
              "    height: 32px;\n",
              "    padding: 0;\n",
              "    width: 32px;\n",
              "  }\n",
              "\n",
              "  .colab-df-quickchart:hover {\n",
              "    background-color: var(--hover-bg-color);\n",
              "    box-shadow: 0 1px 2px rgba(60, 64, 67, 0.3), 0 1px 3px 1px rgba(60, 64, 67, 0.15);\n",
              "    fill: var(--button-hover-fill-color);\n",
              "  }\n",
              "\n",
              "  .colab-df-quickchart-complete:disabled,\n",
              "  .colab-df-quickchart-complete:disabled:hover {\n",
              "    background-color: var(--disabled-bg-color);\n",
              "    fill: var(--disabled-fill-color);\n",
              "    box-shadow: none;\n",
              "  }\n",
              "\n",
              "  .colab-df-spinner {\n",
              "    border: 2px solid var(--fill-color);\n",
              "    border-color: transparent;\n",
              "    border-bottom-color: var(--fill-color);\n",
              "    animation:\n",
              "      spin 1s steps(1) infinite;\n",
              "  }\n",
              "\n",
              "  @keyframes spin {\n",
              "    0% {\n",
              "      border-color: transparent;\n",
              "      border-bottom-color: var(--fill-color);\n",
              "      border-left-color: var(--fill-color);\n",
              "    }\n",
              "    20% {\n",
              "      border-color: transparent;\n",
              "      border-left-color: var(--fill-color);\n",
              "      border-top-color: var(--fill-color);\n",
              "    }\n",
              "    30% {\n",
              "      border-color: transparent;\n",
              "      border-left-color: var(--fill-color);\n",
              "      border-top-color: var(--fill-color);\n",
              "      border-right-color: var(--fill-color);\n",
              "    }\n",
              "    40% {\n",
              "      border-color: transparent;\n",
              "      border-right-color: var(--fill-color);\n",
              "      border-top-color: var(--fill-color);\n",
              "    }\n",
              "    60% {\n",
              "      border-color: transparent;\n",
              "      border-right-color: var(--fill-color);\n",
              "    }\n",
              "    80% {\n",
              "      border-color: transparent;\n",
              "      border-right-color: var(--fill-color);\n",
              "      border-bottom-color: var(--fill-color);\n",
              "    }\n",
              "    90% {\n",
              "      border-color: transparent;\n",
              "      border-bottom-color: var(--fill-color);\n",
              "    }\n",
              "  }\n",
              "</style>\n",
              "\n",
              "  <script>\n",
              "    async function quickchart(key) {\n",
              "      const quickchartButtonEl =\n",
              "        document.querySelector('#' + key + ' button');\n",
              "      quickchartButtonEl.disabled = true;  // To prevent multiple clicks.\n",
              "      quickchartButtonEl.classList.add('colab-df-spinner');\n",
              "      try {\n",
              "        const charts = await google.colab.kernel.invokeFunction(\n",
              "            'suggestCharts', [key], {});\n",
              "      } catch (error) {\n",
              "        console.error('Error during call to suggestCharts:', error);\n",
              "      }\n",
              "      quickchartButtonEl.classList.remove('colab-df-spinner');\n",
              "      quickchartButtonEl.classList.add('colab-df-quickchart-complete');\n",
              "    }\n",
              "    (() => {\n",
              "      let quickchartButtonEl =\n",
              "        document.querySelector('#df-a9d3198f-ae0d-476c-9dd9-e7d96beaed2a button');\n",
              "      quickchartButtonEl.style.display =\n",
              "        google.colab.kernel.accessAllowed ? 'block' : 'none';\n",
              "    })();\n",
              "  </script>\n",
              "</div>\n",
              "    </div>\n",
              "  </div>\n"
            ],
            "application/vnd.google.colaboratory.intrinsic+json": {
              "type": "dataframe",
              "variable_name": "data",
              "summary": "{\n  \"name\": \"data\",\n  \"rows\": 607,\n  \"fields\": [\n    {\n      \"column\": \"url\",\n      \"properties\": {\n        \"dtype\": \"string\",\n        \"num_unique_values\": 607,\n        \"samples\": [\n          \"https://lenta.ru/news/2015/11/03/meat/\",\n          \"https://lenta.ru/news/2010/01/25/machete/\",\n          \"https://lenta.ru/news/2016/03/10/salarytax/\"\n        ],\n        \"semantic_type\": \"\",\n        \"description\": \"\"\n      }\n    },\n    {\n      \"column\": \"title\",\n      \"properties\": {\n        \"dtype\": \"string\",\n        \"num_unique_values\": 607,\n        \"samples\": [\n          \"\\u0420\\u043e\\u0441\\u0441\\u0438\\u0439\\u0441\\u043a\\u0438\\u0435 \\u043f\\u0440\\u043e\\u0438\\u0437\\u0432\\u043e\\u0434\\u0438\\u0442\\u0435\\u043b\\u0438 \\u043e\\u043f\\u0440\\u043e\\u0432\\u0435\\u0440\\u0433\\u043b\\u0438 \\u0433\\u0440\\u044f\\u0434\\u0443\\u0449\\u0438\\u0439 \\u0434\\u0435\\u0444\\u0438\\u0446\\u0438\\u0442 \\u043c\\u044f\\u0441\\u0430\",\n          \"\\u0421\\u0442\\u0443\\u0434\\u0438\\u044f 20th Century Fox \\u0432\\u044b\\u0438\\u0433\\u0440\\u0430\\u043b\\u0430 \\u0441\\u0445\\u0432\\u0430\\u0442\\u043a\\u0443 \\u0437\\u0430 \\\"\\u041c\\u0430\\u0447\\u0435\\u0442\\u0435\\\"\",\n          \"\\u0417\\u0430\\u0440\\u043f\\u043b\\u0430\\u0442\\u044b \\u0440\\u043e\\u0441\\u0441\\u0438\\u044f\\u043d \\u043f\\u0440\\u0435\\u0434\\u043b\\u043e\\u0436\\u0438\\u043b\\u0438 \\u043e\\u0431\\u043b\\u043e\\u0436\\u0438\\u0442\\u044c \\u043d\\u043e\\u0432\\u044b\\u043c \\u0441\\u0431\\u043e\\u0440\\u043e\\u043c \"\n        ],\n        \"semantic_type\": \"\",\n        \"description\": \"\"\n      }\n    },\n    {\n      \"column\": \"text\",\n      \"properties\": {\n        \"dtype\": \"string\",\n        \"num_unique_values\": 607,\n        \"samples\": [\n          \"\\u0412 \\u041d\\u0430\\u0446\\u0438\\u043e\\u043d\\u0430\\u043b\\u044c\\u043d\\u043e\\u0439 \\u043c\\u044f\\u0441\\u043d\\u043e\\u0439 \\u0430\\u0441\\u0441\\u043e\\u0446\\u0438\\u0430\\u0446\\u0438\\u0438 (\\u041d\\u041c\\u0410) \\u0437\\u0430\\u0432\\u0435\\u0440\\u0438\\u043b\\u0438, \\u0447\\u0442\\u043e \\u0440\\u043e\\u0441\\u0441\\u0438\\u044f\\u043d\\u0430\\u043c \\u043d\\u0435 \\u043d\\u0443\\u0436\\u043d\\u043e \\u043e\\u043f\\u0430\\u0441\\u0430\\u0442\\u044c\\u0441\\u044f \\u0434\\u0435\\u0444\\u0438\\u0446\\u0438\\u0442\\u0430 \\u043c\\u044f\\u0441\\u0430 \\u0432 2016 \\u0433\\u043e\\u0434\\u0443. \\u041e\\u0431 \\u044d\\u0442\\u043e\\u043c \\u00ab\\u0420\\u0443\\u0441\\u0441\\u043a\\u043e\\u0439 \\u0441\\u043b\\u0443\\u0436\\u0431\\u0435 \\u043d\\u043e\\u0432\\u043e\\u0441\\u0442\\u0435\\u0439\\u00bb \\u0437\\u0430\\u044f\\u0432\\u0438\\u043b \\u0437\\u0430\\u043c\\u0435\\u0441\\u0442\\u0438\\u0442\\u0435\\u043b\\u044c \\u0440\\u0443\\u043a\\u043e\\u0432\\u043e\\u0434\\u0438\\u0442\\u0435\\u043b\\u044f \\u0438\\u0441\\u043f\\u043e\\u043b\\u043d\\u0438\\u0442\\u0435\\u043b\\u044c\\u043d\\u043e\\u0433\\u043e \\u043a\\u043e\\u043c\\u0438\\u0442\\u0435\\u0442\\u0430 \\u041d\\u041c\\u0410 \\u041c\\u0430\\u043a\\u0441\\u0438\\u043c \\u0421\\u0438\\u043d\\u0435\\u043b\\u044c\\u043d\\u0438\\u043a\\u043e\\u0432. \\u00ab\\u0421\\u0442\\u0440\\u0430\\u043d\\u043d\\u043e, \\u0447\\u0442\\u043e \\u0421\\u0447\\u0435\\u0442\\u043d\\u0430\\u044f \\u043f\\u0430\\u043b\\u0430\\u0442\\u0430 \\u043d\\u0435 \\u043e\\u0431\\u0440\\u0430\\u0442\\u0438\\u043b\\u0430\\u0441\\u044c \\u043a \\u0441\\u0442\\u0430\\u0442\\u0438\\u0441\\u0442\\u0438\\u0447\\u0435\\u0441\\u043a\\u0438\\u043c \\u0434\\u0430\\u043d\\u043d\\u044b\\u043c, \\u043a\\u043e\\u0442\\u043e\\u0440\\u044b\\u0435 \\u043f\\u043e\\u043a\\u0430\\u0437\\u0430\\u043b\\u0438 \\u0431\\u044b, \\u0447\\u0442\\u043e \\u0443 \\u043d\\u0430\\u0441 \\u0437\\u0430\\u0432\\u0438\\u0441\\u0438\\u043c\\u043e\\u0441\\u0442\\u044c \\u043e\\u0442 \\u0438\\u043c\\u043f\\u043e\\u0440\\u0442\\u0430 \\u0441\\u0443\\u0449\\u0435\\u0441\\u0442\\u0432\\u0435\\u043d\\u043d\\u043e \\u0441\\u043d\\u0438\\u0437\\u0438\\u043b\\u0430\\u0441\\u044c \\u043f\\u043e \\u0441\\u0440\\u0430\\u0432\\u043d\\u0435\\u043d\\u0438\\u044e \\u0441 2014 \\u0433\\u043e\\u0434\\u043e\\u043c\\u00bb, \\u2014 \\u043e\\u0442\\u043c\\u0435\\u0442\\u0438\\u043b \\u043e\\u043d, \\u0434\\u043e\\u0431\\u0430\\u0432\\u0438\\u0432, \\u0447\\u0442\\u043e \\u043f\\u043e \\u043f\\u0440\\u043e\\u0433\\u043d\\u043e\\u0437\\u0430\\u043c \\u0430\\u0441\\u0441\\u043e\\u0446\\u0438\\u0430\\u0446\\u0438\\u0438 \\u0432 \\u043a\\u043e\\u043d\\u0446\\u0435 \\u0433\\u043e\\u0434\\u0430 \\u043f\\u043e\\u043a\\u0430\\u0437\\u0430\\u0442\\u0435\\u043b\\u044c \\u0437\\u0430\\u0432\\u0438\\u0441\\u0438\\u043c\\u043e\\u0441\\u0442\\u0438 \\u043e\\u0442 \\u0438\\u043c\\u043f\\u043e\\u0440\\u0442\\u0430 \\u0441\\u043e\\u0441\\u0442\\u0430\\u0432\\u0438\\u0442 \\u0448\\u0435\\u0441\\u0442\\u044c \\u043f\\u0440\\u043e\\u0446\\u0435\\u043d\\u0442\\u043e\\u0432. \\u041a\\u0440\\u043e\\u043c\\u0435 \\u044d\\u0442\\u043e\\u0433\\u043e, \\u043f\\u043e \\u0441\\u043b\\u043e\\u0432\\u0430\\u043c \\u0421\\u0438\\u043d\\u0435\\u043b\\u044c\\u043d\\u0438\\u043a\\u043e\\u0432\\u0430, \\u0440\\u043e\\u0441\\u0441\\u0438\\u0439\\u0441\\u043a\\u0438\\u0435 \\u043f\\u0440\\u0435\\u0434\\u043f\\u0440\\u0438\\u044f\\u0442\\u0438\\u044f \\u043f\\u043b\\u0430\\u043d\\u0438\\u0440\\u0443\\u044e\\u0442 \\u043d\\u0430\\u0440\\u0430\\u0441\\u0442\\u0438\\u0442\\u044c \\u043e\\u0431\\u044a\\u0435\\u043c\\u044b \\u043f\\u0440\\u043e\\u0438\\u0437\\u0432\\u043e\\u0434\\u0441\\u0442\\u0432\\u0430: \\u0437\\u0430\\u043a\\u043b\\u0430\\u0434\\u044b\\u0432\\u0430\\u0435\\u0442\\u0441\\u044f \\u00ab\\u0443\\u0432\\u0435\\u043b\\u0438\\u0447\\u0435\\u043d\\u0438\\u0435, \\u043c\\u0435\\u0441\\u0442\\u0430\\u043c\\u0438 \\u0434\\u0430\\u0436\\u0435 \\u0443\\u0434\\u0432\\u043e\\u0435\\u043d\\u0438\\u0435 \\u043f\\u0440\\u043e\\u0435\\u043a\\u0442\\u043d\\u044b\\u0445 \\u043c\\u043e\\u0449\\u043d\\u043e\\u0441\\u0442\\u0435\\u0439\\u00bb. \\u041f\\u0440\\u0435\\u0434\\u0441\\u0442\\u0430\\u0432\\u0438\\u0442\\u0435\\u043b\\u044c \\u041d\\u041c\\u0410 \\u043f\\u043e\\u0434\\u0447\\u0435\\u0440\\u043a\\u043d\\u0443\\u043b, \\u0447\\u0442\\u043e \\u0432 \\u043d\\u0430\\u0441\\u0442\\u043e\\u044f\\u0449\\u0435\\u0435 \\u0432\\u0440\\u0435\\u043c\\u044f \\u0440\\u0430\\u0441\\u0442\\u0435\\u0442 \\u0432\\u044b\\u043f\\u0443\\u0441\\u043a \\u043e\\u0431\\u044a\\u0435\\u043c\\u043e\\u0432 \\u043c\\u044f\\u0441\\u0430 \\u043f\\u0442\\u0438\\u0446\\u044b, \\u043f\\u0440\\u043e\\u0438\\u0437\\u0432\\u043e\\u0434\\u0441\\u0442\\u0432\\u043e \\u0441\\u0432\\u0438\\u043d\\u0438\\u043d\\u044b. \\u00ab\\u0421 \\u0433\\u043e\\u0432\\u044f\\u0434\\u0438\\u043d\\u043e\\u0439 \\u0441\\u043b\\u043e\\u0436\\u043d\\u0435\\u0435, \\u043d\\u043e \\u043e\\u0431\\u044a\\u0435\\u043c\\u044b \\u0441\\u043a\\u043e\\u0442\\u0430 \\u043f\\u043e\\u0442\\u0438\\u0445\\u043e\\u043d\\u044c\\u043a\\u0443 \\u043d\\u0430\\u0440\\u0430\\u0449\\u0438\\u0432\\u0430\\u044e\\u0442\\u0441\\u044f\\u00bb, \\u2014 \\u0434\\u043e\\u0431\\u0430\\u0432\\u0438\\u043b \\u0421\\u0438\\u043d\\u0435\\u043b\\u044c\\u043d\\u0438\\u043a\\u043e\\u0432. \\u041f\\u0440\\u0438 \\u044d\\u0442\\u043e\\u043c \\u0434\\u0430\\u043d\\u043d\\u044b\\u0435 \\u041d\\u041c\\u0410 \\u0441\\u0432\\u0438\\u0434\\u0435\\u0442\\u0435\\u043b\\u044c\\u0441\\u0442\\u0432\\u0443\\u044e\\u0442 \\u043e \\u0441\\u043e\\u043a\\u0440\\u0430\\u0449\\u0435\\u043d\\u0438\\u0438 \\u043f\\u043e\\u0442\\u0440\\u0435\\u0431\\u043b\\u0435\\u043d\\u0438\\u044f \\u043c\\u044f\\u0441\\u0430 \\u0432 \\u0420\\u043e\\u0441\\u0441\\u0438\\u0438: \\u0432 2015-\\u043c \\u043d\\u0430 \\u0434\\u0443\\u0448\\u0443 \\u043d\\u0430\\u0441\\u0435\\u043b\\u0435\\u043d\\u0438\\u044f \\u043f\\u0440\\u0438\\u0445\\u043e\\u0434\\u0438\\u0442\\u0441\\u044f 67 \\u043a\\u0438\\u043b\\u043e\\u0433\\u0440\\u0430\\u043c\\u043c\\u043e\\u0432, \\u043f\\u0440\\u043e\\u0442\\u0438\\u0432 72 \\u0432 \\u043f\\u0440\\u043e\\u0448\\u043b\\u043e\\u043c \\u0433\\u043e\\u0434\\u0443. 3 \\u043d\\u043e\\u044f\\u0431\\u0440\\u044f \\u0432 \\u0421\\u0447\\u0435\\u0442\\u043d\\u043e\\u0439 \\u043f\\u0430\\u043b\\u0430\\u0442\\u0435 \\u0437\\u0430\\u044f\\u0432\\u0438\\u043b\\u0438, \\u0447\\u0442\\u043e \\u0420\\u043e\\u0441\\u0441\\u0438\\u044f \\u0432 2016 \\u0433\\u043e\\u0434\\u0443 \\u043c\\u043e\\u0436\\u0435\\u0442 \\u043d\\u0435\\u0434\\u043e\\u043f\\u043e\\u043b\\u0443\\u0447\\u0438\\u0442\\u044c \\u043e\\u0431\\u044a\\u0435\\u043c\\u044b \\u043c\\u044f\\u0441\\u043d\\u043e\\u0439, \\u043c\\u043e\\u043b\\u043e\\u0447\\u043d\\u043e\\u0439 \\u043f\\u0440\\u043e\\u0434\\u0443\\u043a\\u0446\\u0438\\u0438 \\u0438 \\u0441\\u044b\\u0440\\u043e\\u0432. \\u00ab\\u0421\\u0443\\u0449\\u0435\\u0441\\u0442\\u0432\\u0443\\u044e\\u0442 \\u0440\\u0438\\u0441\\u043a\\u0438 \\u043d\\u0435\\u043f\\u043e\\u043b\\u043d\\u043e\\u0439 \\u043a\\u043e\\u043c\\u043f\\u0435\\u043d\\u0441\\u0430\\u0446\\u0438\\u0438 \\u0432\\u044b\\u043f\\u0430\\u0434\\u0430\\u044e\\u0449\\u0438\\u0445 \\u043e\\u0431\\u044a\\u0435\\u043c\\u043e\\u0432 \\u0438\\u043c\\u043f\\u043e\\u0440\\u0442\\u0430 \\u043f\\u0440\\u043e\\u0434\\u043e\\u0432\\u043e\\u043b\\u044c\\u0441\\u0442\\u0432\\u0435\\u043d\\u043d\\u044b\\u0445 \\u0442\\u043e\\u0432\\u0430\\u0440\\u043e\\u0432, \\u0437\\u0430\\u043f\\u0440\\u0435\\u0449\\u0435\\u043d\\u043d\\u044b\\u0445 \\u043a \\u0432\\u0432\\u043e\\u0437\\u0443 \\u0438\\u0437 \\u0440\\u044f\\u0434\\u0430 \\u0441\\u0442\\u0440\\u0430\\u043d\\u00bb, \\u2014 \\u043e\\u0442\\u043c\\u0435\\u0442\\u0438\\u043b\\u0438 \\u0432 \\u0421\\u0447\\u0435\\u0442\\u043d\\u043e\\u0439 \\u043f\\u0430\\u043b\\u0430\\u0442\\u0435. \\u0412 \\u0432\\u0435\\u0434\\u043e\\u043c\\u0441\\u0442\\u0432\\u0435 \\u0442\\u0430\\u043a\\u0436\\u0435 \\u0441\\u043e\\u043e\\u0431\\u0449\\u0438\\u043b\\u0438, \\u0447\\u0442\\u043e \\u043e\\u043f\\u0430\\u0441\\u0430\\u044e\\u0442\\u0441\\u044f \\u0432 \\u0441\\u0440\\u0435\\u0434\\u043d\\u0435\\u0441\\u0440\\u043e\\u0447\\u043d\\u043e\\u043c \\u043f\\u0435\\u0440\\u0438\\u043e\\u0434\\u0435 \\u043f\\u0440\\u043e\\u0431\\u043b\\u0435\\u043c \\u0441 \\u043f\\u043e\\u0442\\u0440\\u0435\\u0431\\u0438\\u0442\\u0435\\u043b\\u044c\\u0441\\u043a\\u0438\\u043c \\u0441\\u043f\\u0440\\u043e\\u0441\\u043e\\u043c. \\u0412 \\u0430\\u0432\\u0433\\u0443\\u0441\\u0442\\u0435 2014 \\u0433\\u043e\\u0434\\u0430 \\u0420\\u043e\\u0441\\u0441\\u0438\\u044f \\u0432\\u0432\\u0435\\u043b\\u0430 \\u043f\\u0440\\u043e\\u0434\\u043e\\u0432\\u043e\\u043b\\u044c\\u0441\\u0442\\u0432\\u0435\\u043d\\u043d\\u043e\\u0435 \\u044d\\u043c\\u0431\\u0430\\u0440\\u0433\\u043e \\u0432 \\u043e\\u0442\\u043d\\u043e\\u0448\\u0435\\u043d\\u0438\\u0438 \\u0441\\u0442\\u0440\\u0430\\u043d-\\u0447\\u043b\\u0435\\u043d\\u043e\\u0432 \\u0415\\u0421, \\u0430 \\u0442\\u0430\\u043a\\u0436\\u0435 \\u0421\\u0428\\u0410, \\u0410\\u0432\\u0441\\u0442\\u0440\\u0430\\u043b\\u0438\\u0438, \\u041a\\u0430\\u043d\\u0430\\u0434\\u044b \\u0438 \\u041d\\u043e\\u0440\\u0432\\u0435\\u0433\\u0438\\u0438. \\u0412 \\u043a\\u043e\\u043d\\u0446\\u0435 \\u0438\\u044e\\u043d\\u044f 2015 \\u0433\\u043e\\u0434\\u0430 \\u041c\\u043e\\u0441\\u043a\\u0432\\u0430 \\u043f\\u0440\\u043e\\u0434\\u043b\\u0438\\u043b\\u0430 \\u044d\\u043c\\u0431\\u0430\\u0440\\u0433\\u043e \\u043d\\u0430 \\u0433\\u043e\\u0434. \\u041f\\u043e\\u0437\\u0436\\u0435 \\u043f\\u0440\\u0435\\u043c\\u044c\\u0435\\u0440-\\u043c\\u0438\\u043d\\u0438\\u0441\\u0442\\u0440 \\u0420\\u043e\\u0441\\u0441\\u0438\\u0438 \\u0414\\u043c\\u0438\\u0442\\u0440\\u0438\\u0439 \\u041c\\u0435\\u0434\\u0432\\u0435\\u0434\\u0435\\u0432 \\u043f\\u043e\\u0434\\u043f\\u0438\\u0441\\u0430\\u043b \\u043f\\u043e\\u0441\\u0442\\u0430\\u043d\\u043e\\u0432\\u043b\\u0435\\u043d\\u0438\\u0435 \\u043e \\u0440\\u0430\\u0441\\u0448\\u0438\\u0440\\u0435\\u043d\\u0438\\u0438 \\u043f\\u0440\\u043e\\u0434\\u0443\\u043a\\u0442\\u043e\\u0432\\u043e\\u0433\\u043e \\u044d\\u043c\\u0431\\u0430\\u0440\\u0433\\u043e \\u043d\\u0430 \\u0410\\u043b\\u0431\\u0430\\u043d\\u0438\\u044e, \\u0427\\u0435\\u0440\\u043d\\u043e\\u0433\\u043e\\u0440\\u0438\\u044e, \\u0418\\u0441\\u043b\\u0430\\u043d\\u0434\\u0438\\u044e, \\u041b\\u0438\\u0445\\u0442\\u0435\\u043d\\u0448\\u0442\\u0435\\u0439\\u043d \\u0438 \\u0423\\u043a\\u0440\\u0430\\u0438\\u043d\\u0443 (\\u0432 \\u043e\\u0442\\u043d\\u043e\\u0448\\u0435\\u043d\\u0438\\u0438 \\u043f\\u043e\\u0441\\u043b\\u0435\\u0434\\u043d\\u0435\\u0439 \\u043e\\u0433\\u0440\\u0430\\u043d\\u0438\\u0447\\u0435\\u043d\\u0438\\u044f \\u0432\\u0441\\u0442\\u0443\\u043f\\u044f\\u0442 \\u0432 \\u0441\\u0438\\u043b\\u0443 \\u043f\\u043e\\u0441\\u043b\\u0435 \\u0438\\u0441\\u043f\\u043e\\u043b\\u043d\\u0435\\u043d\\u0438\\u044f \\u041a\\u0438\\u0435\\u0432\\u043e\\u043c \\u044d\\u043a\\u043e\\u043d\\u043e\\u043c\\u0438\\u0447\\u0435\\u0441\\u043a\\u043e\\u0439 \\u0447\\u0430\\u0441\\u0442\\u0438 \\u0441\\u043e\\u0433\\u043b\\u0430\\u0448\\u0435\\u043d\\u0438\\u044f \\u043e\\u0431 \\u0430\\u0441\\u0441\\u043e\\u0446\\u0438\\u0430\\u0446\\u0438\\u0438 \\u0441 \\u0415\\u0421). \\u0412 \\u0441\\u043f\\u0438\\u0441\\u043e\\u043a \\u0437\\u0430\\u043f\\u0440\\u0435\\u0449\\u0435\\u043d\\u043d\\u044b\\u0445 \\u043a \\u0432\\u0432\\u043e\\u0437\\u0443 \\u043f\\u0440\\u043e\\u0434\\u0443\\u043a\\u0442\\u043e\\u0432, \\u0432 \\u0447\\u0430\\u0441\\u0442\\u043d\\u043e\\u0441\\u0442\\u0438, \\u0432\\u0445\\u043e\\u0434\\u044f\\u0442 \\u043c\\u044f\\u0441\\u043e \\u043a\\u0440\\u0443\\u043f\\u043d\\u043e\\u0433\\u043e \\u0440\\u043e\\u0433\\u0430\\u0442\\u043e\\u0433\\u043e \\u0441\\u043a\\u043e\\u0442\\u0430, \\u0441\\u0432\\u0438\\u043d\\u0438\\u043d\\u0430, \\u0440\\u044b\\u0431\\u0430 \\u0438 \\u043c\\u043e\\u043b\\u043e\\u043a\\u043e. \\u042d\\u0442\\u0438 \\u0442\\u043e\\u0432\\u0430\\u0440\\u044b, \\u0432\\u0432\\u0435\\u0437\\u0435\\u043d\\u043d\\u044b\\u0435 \\u043d\\u0430 \\u0442\\u0435\\u0440\\u0440\\u0438\\u0442\\u043e\\u0440\\u0438\\u044e \\u0420\\u043e\\u0441\\u0441\\u0438\\u0438, \\u043f\\u043e\\u0434\\u043b\\u0435\\u0436\\u0430\\u0442 \\u0443\\u043d\\u0438\\u0447\\u0442\\u043e\\u0436\\u0435\\u043d\\u0438\\u044e.\",\n          \"\\u041a\\u0438\\u043d\\u043e\\u043a\\u043e\\u043c\\u043f\\u0430\\u043d\\u0438\\u044f 20th Century Fox \\u0432 \\u0443\\u043f\\u043e\\u0440\\u043d\\u043e\\u0439 \\u043a\\u043e\\u043d\\u043a\\u0443\\u0440\\u0435\\u043d\\u0442\\u043d\\u043e\\u0439 \\u0431\\u043e\\u0440\\u044c\\u0431\\u0435 \\u0437\\u0430\\u0432\\u043e\\u0435\\u0432\\u0430\\u043b\\u0430 \\u043f\\u0440\\u0430\\u0432\\u043e \\u043d\\u0430 \\u0441\\u0435\\u0432\\u0435\\u0440\\u043e\\u0430\\u043c\\u0435\\u0440\\u0438\\u043a\\u0430\\u043d\\u0441\\u043a\\u0438\\u0439 \\u043f\\u0440\\u043e\\u043a\\u0430\\u0442 \\u043d\\u043e\\u0432\\u043e\\u0433\\u043e \\u0444\\u0438\\u043b\\u044c\\u043c\\u0430 \\u0420\\u043e\\u0431\\u0435\\u0440\\u0442\\u0430 \\u0420\\u043e\\u0434\\u0440\\u0438\\u0433\\u0435\\u0441\\u0430 \\\"\\u041c\\u0430\\u0447\\u0435\\u0442\\u0435\\\". \\u041e\\u0431 \\u044d\\u0442\\u043e\\u043c \\u0441\\u043e\\u043e\\u0431\\u0449\\u0430\\u0435\\u0442 \\u0438\\u0437\\u0434\\u0430\\u043d\\u0438\\u0435 Variety. \\u041e\\u0441\\u043d\\u043e\\u0432\\u043d\\u044b\\u043c\\u0438 \\u043f\\u0440\\u0435\\u0442\\u0435\\u043d\\u0434\\u0435\\u043d\\u0442\\u0430\\u043c\\u0438, \\u043f\\u043e\\u043c\\u0438\\u043c\\u043e 20th Century Fox, \\u0441\\u0447\\u0438\\u0442\\u0430\\u043b\\u0438\\u0441\\u044c \\u0441\\u0442\\u0443\\u0434\\u0438\\u0438 Paramount \\u0438 Lionsgate. \\u0417\\u0430 \\u043c\\u0435\\u0436\\u0434\\u0443\\u043d\\u0430\\u0440\\u043e\\u0434\\u043d\\u044b\\u0439 \\u043f\\u0440\\u043e\\u043a\\u0430\\u0442 \\u043a\\u0430\\u0440\\u0442\\u0438\\u043d\\u044b \\u0431\\u0443\\u0434\\u0435\\u0442 \\u043e\\u0442\\u0432\\u0435\\u0447\\u0430\\u0442\\u044c \\u043a\\u043e\\u043c\\u043f\\u0430\\u043d\\u0438\\u044f Sony. \\\"\\u041c\\u0430\\u0447\\u0435\\u0442\\u0435\\\" \\u0441\\u0442\\u0430\\u043d\\u0435\\u0442 \\u0432\\u0442\\u043e\\u0440\\u044b\\u043c \\u0441\\u043e\\u0432\\u043c\\u0435\\u0441\\u0442\\u043d\\u044b\\u043c \\u043f\\u0440\\u043e\\u0435\\u043a\\u0442\\u043e\\u043c \\u043a\\u0438\\u043d\\u043e\\u0441\\u0442\\u0443\\u0434\\u0438\\u0438 \\u0438 \\u0440\\u0435\\u0436\\u0438\\u0441\\u0441\\u0435\\u0440\\u0430. \\u041d\\u0430\\u043f\\u043e\\u043c\\u043d\\u0438\\u043c, \\u0447\\u0442\\u043e \\u0420\\u043e\\u0434\\u0440\\u0438\\u0433\\u0435\\u0441 \\u044f\\u0432\\u043b\\u044f\\u0435\\u0442\\u0441\\u044f \\u043f\\u0440\\u043e\\u0434\\u044e\\u0441\\u0435\\u0440\\u043e\\u043c \\u0444\\u0438\\u043b\\u044c\\u043c\\u0430 \\\"\\u0425\\u0438\\u0449\\u043d\\u0438\\u043a\\u0438\\\", \\u043a\\u043e\\u0442\\u043e\\u0440\\u044b\\u0439 \\u0441\\u043d\\u0438\\u043c\\u0430\\u0435\\u0442\\u0441\\u044f \\u043f\\u043e\\u0434 \\u043b\\u0435\\u0439\\u0431\\u043b\\u043e\\u043c 20th Century Fox. \\u0412 \\u043e\\u0441\\u043d\\u043e\\u0432\\u0435 \\u043a\\u0430\\u0440\\u0442\\u0438\\u043d\\u044b \\\"\\u041c\\u0430\\u0447\\u0435\\u0442\\u0435\\\" \\\"\\u0432\\u0438\\u0440\\u0443\\u0441\\u043d\\u044b\\u0439\\\" \\u0440\\u043e\\u043b\\u0438\\u043a, \\u0441\\u043d\\u044f\\u0442\\u044b\\u0439 \\u0440\\u0430\\u043d\\u0435\\u0435 \\u043a \\u0444\\u0438\\u043b\\u044c\\u043c\\u0443 \\\"\\u0413\\u0440\\u0430\\u0439\\u043d\\u0434\\u0445\\u0430\\u0443\\u0441\\\" \\u0438 \\u043f\\u0440\\u0435\\u0434\\u0441\\u0442\\u0430\\u0432\\u043b\\u0435\\u043d\\u043d\\u044b\\u0439 \\u043d\\u0430 YouTube. \\u0412 \\u043d\\u0435\\u043c \\u0448\\u043b\\u0430 \\u0440\\u0435\\u0447\\u044c \\u043e \\u043c\\u0435\\u043a\\u0441\\u0438\\u043a\\u0430\\u043d\\u0441\\u043a\\u043e\\u043c \\u043d\\u0430\\u0435\\u043c\\u043d\\u043e\\u043c \\u0443\\u0431\\u0438\\u0439\\u0446\\u0435 \\u0410\\u0439\\u0441\\u0435\\u0434\\u043e\\u0440\\u0435 \\u041a\\u043e\\u0440\\u0442\\u0435\\u0441\\u0435 \\u043f\\u043e \\u043f\\u0440\\u043e\\u0437\\u0432\\u0438\\u0449\\u0443 \\u041c\\u0430\\u0447\\u0435\\u0442\\u0435, \\u0440\\u0430\\u0431\\u043e\\u0442\\u0430\\u0432\\u0448\\u0435\\u043c \\u043d\\u0430 \\u043f\\u0440\\u0430\\u0432\\u0438\\u0442\\u0435\\u043b\\u044c\\u0441\\u0442\\u0432\\u0435\\u043d\\u043d\\u044b\\u0435 \\u0441\\u0442\\u0440\\u0443\\u043a\\u0442\\u0443\\u0440\\u044b. \\u041f\\u043e\\u0441\\u043b\\u0435 \\u0442\\u043e\\u0433\\u043e \\u043a\\u0430\\u043a \\u0440\\u0430\\u0431\\u043e\\u0442\\u043e\\u0434\\u0430\\u0442\\u0435\\u043b\\u0438 \\u043f\\u0440\\u0435\\u0434\\u0430\\u043b\\u0438 \\u0435\\u0433\\u043e, \\u041c\\u0430\\u0447\\u0435\\u0442\\u0435 \\u0432\\u044b\\u0445\\u043e\\u0434\\u0438\\u0442 \\u043d\\u0430 \\u0442\\u0440\\u043e\\u043f\\u0443 \\u043c\\u0435\\u0441\\u0442\\u0438. \\u0413\\u043b\\u0430\\u0432\\u043d\\u0443\\u044e \\u0440\\u043e\\u043b\\u044c \\u0432 \\u0442\\u0440\\u0435\\u0439\\u043b\\u0435\\u0440\\u0435 \\u0441\\u044b\\u0433\\u0440\\u0430\\u043b \\u0430\\u043a\\u0442\\u0435\\u0440 \\u0414\\u044d\\u043d\\u043d\\u0438 \\u0422\\u0440\\u0435\\u0445\\u043e. \\u041e\\u043d \\u0436\\u0435 \\u0438\\u0433\\u0440\\u0430\\u0435\\u0442 \\u041c\\u0430\\u0447\\u0435\\u0442\\u0435 \\u0438 \\u0432 \\u043f\\u043e\\u043b\\u043d\\u043e\\u043c\\u0435\\u0442\\u0440\\u0430\\u0436\\u043d\\u043e\\u0439 \\u0432\\u0435\\u0440\\u0441\\u0438\\u0438. \\u041a\\u0440\\u043e\\u043c\\u0435 \\u043d\\u0435\\u0433\\u043e \\u0432 \\u043a\\u0430\\u0440\\u0442\\u0438\\u043d\\u0435 \\u0441\\u043d\\u0438\\u043c\\u0430\\u044e\\u0442\\u0441\\u044f \\u0420\\u043e\\u0431\\u0435\\u0440\\u0442 \\u0434\\u0435 \\u041d\\u0438\\u0440\\u043e, \\u0414\\u0436\\u0435\\u0441\\u0441\\u0438\\u043a\\u0430 \\u0410\\u043b\\u044c\\u0431\\u0430, \\u041b\\u0438\\u043d\\u0434\\u0441\\u0438 \\u041b\\u043e\\u0445\\u0430\\u043d, \\u041c\\u0438\\u0448\\u0435\\u043b\\u044c \\u0420\\u043e\\u0434\\u0440\\u0438\\u0433\\u0435\\u0441 \\u0438 \\u0434\\u0440\\u0443\\u0433\\u0438\\u0435 \\u0430\\u043a\\u0442\\u0435\\u0440\\u044b.\",\n          \"\\u0413\\u043b\\u0430\\u0432\\u0430 \\u043a\\u043e\\u043d\\u0441\\u0442\\u0438\\u0442\\u0443\\u0446\\u0438\\u043e\\u043d\\u043d\\u043e\\u0433\\u043e \\u043a\\u043e\\u043c\\u0438\\u0442\\u0435\\u0442\\u0430 \\u0421\\u043e\\u0432\\u0435\\u0442\\u0430 \\u0424\\u0435\\u0434\\u0435\\u0440\\u0430\\u0446\\u0438\\u0438 \\u0410\\u043d\\u0434\\u0440\\u0435\\u0439 \\u041a\\u043b\\u0438\\u0448\\u0430\\u0441 \\u0432\\u043d\\u0435\\u0441 \\u0432 \\u0413\\u043e\\u0441\\u0434\\u0443\\u043c\\u0443 \\u0437\\u0430\\u043a\\u043e\\u043d\\u043e\\u043f\\u0440\\u043e\\u0435\\u043a\\u0442 \\u043e \\u0432\\u0432\\u0435\\u0434\\u0435\\u043d\\u0438\\u0438 \\u0432 \\u0420\\u043e\\u0441\\u0441\\u0438\\u0438 \\u043d\\u043e\\u0432\\u043e\\u0433\\u043e \\u0432\\u0438\\u0434\\u0430 \\u043e\\u0431\\u044f\\u0437\\u0430\\u0442\\u0435\\u043b\\u044c\\u043d\\u043e\\u0433\\u043e \\u0441\\u043e\\u0446\\u0438\\u0430\\u043b\\u044c\\u043d\\u043e\\u0433\\u043e \\u0441\\u0442\\u0440\\u0430\\u0445\\u043e\\u0432\\u0430\\u043d\\u0438\\u044f, \\u043f\\u0440\\u0438\\u0437\\u0432\\u0430\\u043d\\u043d\\u043e\\u0433\\u043e \\u0437\\u0430\\u0449\\u0438\\u0442\\u0438\\u0442\\u044c \\u0440\\u0430\\u0431\\u043e\\u0442\\u043d\\u0438\\u043a\\u0430 \\u043e\\u0442 \\u0431\\u0430\\u043d\\u043a\\u0440\\u043e\\u0442\\u0441\\u0442\\u0432\\u0430 \\u0440\\u0430\\u0431\\u043e\\u0442\\u043e\\u0434\\u0430\\u0442\\u0435\\u043b\\u044f. \\u0421\\u0442\\u0430\\u0432\\u043a\\u0430 \\u0441\\u0431\\u043e\\u0440\\u0430 \\u0441\\u043e\\u0441\\u0442\\u0430\\u0432\\u0438\\u0442 0,2 \\u043f\\u0440\\u043e\\u0446\\u0435\\u043d\\u0442\\u0430 \\u043e\\u0442 \\u0444\\u043e\\u043d\\u0434\\u0430 \\u043e\\u043f\\u043b\\u0430\\u0442\\u044b \\u0442\\u0440\\u0443\\u0434\\u0430. \\u041e\\u0431 \\u044d\\u0442\\u043e\\u043c \\u0432 \\u0447\\u0435\\u0442\\u0432\\u0435\\u0440\\u0433, 10 \\u043c\\u0430\\u0440\\u0442\\u0430, \\u043f\\u0438\\u0448\\u0435\\u0442 \\u00ab\\u041a\\u043e\\u043c\\u043c\\u0435\\u0440\\u0441\\u0430\\u043d\\u0442\\u044a\\u00bb. \\u0418\\u0437 \\u043f\\u043e\\u044f\\u0441\\u043d\\u0438\\u0442\\u0435\\u043b\\u044c\\u043d\\u043e\\u0439 \\u0437\\u0430\\u043f\\u0438\\u0441\\u043a\\u0438 \\u043a \\u0437\\u0430\\u043a\\u043e\\u043d\\u043e\\u043f\\u0440\\u043e\\u0435\\u043a\\u0442\\u0443 \\u0441\\u043b\\u0435\\u0434\\u0443\\u0435\\u0442, \\u0447\\u0442\\u043e \\u043e\\u043d \\u043d\\u0430\\u043f\\u0440\\u0430\\u0432\\u043b\\u0435\\u043d \\u043d\\u0430 \\u00ab\\u0432\\u0432\\u0435\\u0434\\u0435\\u043d\\u0438\\u0435 \\u0434\\u043e\\u043f\\u043e\\u043b\\u043d\\u0438\\u0442\\u0435\\u043b\\u044c\\u043d\\u044b\\u0445 \\u0433\\u0430\\u0440\\u0430\\u043d\\u0442\\u0438\\u0439 \\u0434\\u043b\\u044f \\u0440\\u0430\\u0431\\u043e\\u0442\\u043d\\u0438\\u043a\\u043e\\u0432 \\u0432 \\u0447\\u0430\\u0441\\u0442\\u0438 \\u043f\\u043e\\u043b\\u0443\\u0447\\u0435\\u043d\\u0438\\u044f \\u0437\\u0430\\u0434\\u043e\\u043b\\u0436\\u0435\\u043d\\u043d\\u043e\\u0441\\u0442\\u0438 \\u043f\\u043e \\u0437\\u0430\\u0440\\u0430\\u0431\\u043e\\u0442\\u043d\\u043e\\u0439 \\u043f\\u043b\\u0430\\u0442\\u0435 \\u0432 \\u0441\\u043b\\u0443\\u0447\\u0430\\u0435 \\u0431\\u0430\\u043d\\u043a\\u0440\\u043e\\u0442\\u0441\\u0442\\u0432\\u0430 \\u0440\\u0430\\u0431\\u043e\\u0442\\u043e\\u0434\\u0430\\u0442\\u0435\\u043b\\u044f\\u00bb. \\u041f\\u043e \\u043c\\u043d\\u0435\\u043d\\u0438\\u044e \\u0430\\u0432\\u0442\\u043e\\u0440\\u0430, \\u0432 \\u0431\\u043b\\u0438\\u0436\\u0430\\u0439\\u0448\\u0435\\u0435 \\u0432\\u0440\\u0435\\u043c\\u044f \\u0431\\u0430\\u043d\\u043a\\u0440\\u043e\\u0442\\u0441\\u0442\\u0432\\u0430 \\u0432 \\u0420\\u043e\\u0441\\u0441\\u0438\\u0438 \\u043f\\u0440\\u0438\\u043e\\u0431\\u0440\\u0435\\u0442\\u0443\\u0442 \\u043c\\u0430\\u0441\\u0441\\u043e\\u0432\\u044b\\u0439 \\u0445\\u0430\\u0440\\u0430\\u043a\\u0442\\u0435\\u0440. \\u00ab\\u041a\\u0440\\u043e\\u043c\\u0435 \\u0442\\u043e\\u0433\\u043e, \\u0437\\u0430\\u0447\\u0430\\u0441\\u0442\\u0443\\u044e \\u0443 \\u0431\\u0430\\u043d\\u043a\\u0440\\u043e\\u0442\\u044f\\u0449\\u0438\\u0445\\u0441\\u044f \\u0440\\u0430\\u0431\\u043e\\u0442\\u043e\\u0434\\u0430\\u0442\\u0435\\u043b\\u0435\\u0439 \\u043e\\u0442\\u0441\\u0443\\u0442\\u0441\\u0442\\u0432\\u0443\\u0435\\u0442 \\u043b\\u0438\\u043a\\u0432\\u0438\\u0434\\u043d\\u043e\\u0435 \\u0438\\u043c\\u0443\\u0449\\u0435\\u0441\\u0442\\u0432\\u043e, \\u0430 \\u043b\\u044e\\u0434\\u0438 \\u043f\\u0440\\u043e\\u0434\\u043e\\u043b\\u0436\\u0430\\u044e\\u0442 \\u0440\\u0430\\u0431\\u043e\\u0442\\u0430\\u0442\\u044c \\u043f\\u043e \\u043d\\u0435\\u0441\\u043a\\u043e\\u043b\\u044c\\u043a\\u043e \\u043c\\u0435\\u0441\\u044f\\u0446\\u0435\\u0432 \\u0432 \\u043e\\u0442\\u0441\\u0443\\u0442\\u0441\\u0442\\u0432\\u0438\\u0435 \\u0432\\u044b\\u043f\\u043b\\u0430\\u0442\\u044b \\u0437\\u0430\\u0440\\u0430\\u0431\\u043e\\u0442\\u043d\\u043e\\u0439 \\u043f\\u043b\\u0430\\u0442\\u044b \\u0441\\u043e \\u0441\\u0442\\u043e\\u0440\\u043e\\u043d\\u044b \\u0440\\u0430\\u0431\\u043e\\u0442\\u043e\\u0434\\u0430\\u0442\\u0435\\u043b\\u0435\\u0439\\u00bb, \\u2014 \\u0433\\u043e\\u0432\\u043e\\u0440\\u0438\\u0442\\u0441\\u044f \\u0432 \\u0434\\u043e\\u043a\\u0443\\u043c\\u0435\\u043d\\u0442\\u0435. \\u041d\\u043e\\u0432\\u044b\\u0439 \\u0432\\u0438\\u0434 \\u043e\\u0431\\u044f\\u0437\\u0430\\u0442\\u0435\\u043b\\u044c\\u043d\\u043e\\u0433\\u043e \\u0441\\u043e\\u0446\\u0438\\u0430\\u043b\\u044c\\u043d\\u043e\\u0433\\u043e \\u0441\\u0442\\u0440\\u0430\\u0445\\u043e\\u0432\\u0430\\u043d\\u0438\\u044f \\u043f\\u0440\\u0435\\u0434\\u043f\\u043e\\u043b\\u0430\\u0433\\u0430\\u0435\\u0442\\u0441\\u044f \\u043d\\u0430\\u0437\\u0432\\u0430\\u0442\\u044c \\u00ab\\u043d\\u0430 \\u0441\\u043b\\u0443\\u0447\\u0430\\u0439 \\u0443\\u0442\\u0440\\u0430\\u0442\\u044b \\u043f\\u0440\\u0438\\u0447\\u0438\\u0442\\u0430\\u044e\\u0449\\u0435\\u0439\\u0441\\u044f \\u0440\\u0430\\u0431\\u043e\\u0442\\u043d\\u0438\\u043a\\u0443 \\u0437\\u0430\\u0440\\u0430\\u0431\\u043e\\u0442\\u043d\\u043e\\u0439 \\u043f\\u043b\\u0430\\u0442\\u044b \\u0432\\u0441\\u043b\\u0435\\u0434\\u0441\\u0442\\u0432\\u0438\\u0435 \\u043d\\u0435\\u0441\\u043e\\u0441\\u0442\\u043e\\u044f\\u0442\\u0435\\u043b\\u044c\\u043d\\u043e\\u0441\\u0442\\u0438 (\\u0431\\u0430\\u043d\\u043a\\u0440\\u043e\\u0442\\u0441\\u0442\\u0432\\u0430) \\u0440\\u0430\\u0431\\u043e\\u0442\\u043e\\u0434\\u0430\\u0442\\u0435\\u043b\\u044f\\u00bb. \\u0424\\u0443\\u043d\\u043a\\u0446\\u0438\\u0438 \\u0441\\u0442\\u0440\\u0430\\u0445\\u043e\\u0432\\u0449\\u0438\\u043a\\u0430 \\u043f\\u0440\\u0435\\u0434\\u043b\\u0430\\u0433\\u0430\\u0435\\u0442\\u0441\\u044f \\u0432\\u043e\\u0437\\u043b\\u043e\\u0436\\u0438\\u0442\\u044c \\u043d\\u0430 \\u0424\\u043e\\u043d\\u0434 \\u0441\\u043e\\u0446\\u0438\\u0430\\u043b\\u044c\\u043d\\u043e\\u0433\\u043e \\u0441\\u0442\\u0440\\u0430\\u0445\\u043e\\u0432\\u0430\\u043d\\u0438\\u044f. \\u0412 \\u0441\\u043b\\u0443\\u0447\\u0430\\u0435 \\u0431\\u0430\\u043d\\u043a\\u0440\\u043e\\u0442\\u0441\\u0442\\u0432\\u0430 \\u043f\\u0440\\u0435\\u0434\\u043f\\u0440\\u0438\\u044f\\u0442\\u0438\\u044f \\u0435\\u0433\\u043e \\u0440\\u0430\\u0431\\u043e\\u0442\\u043d\\u0438\\u043a\\u0438 \\u0441\\u043c\\u043e\\u0433\\u0443\\u0442 \\u043f\\u043e\\u043b\\u0443\\u0447\\u0438\\u0442\\u044c \\u0438\\u0437 \\u0431\\u044e\\u0434\\u0436\\u0435\\u0442\\u0430 \\u0444\\u043e\\u043d\\u0434\\u0430 \\u0435\\u0434\\u0438\\u043d\\u043e\\u0432\\u0440\\u0435\\u043c\\u0435\\u043d\\u043d\\u0443\\u044e \\u043a\\u043e\\u043c\\u043f\\u0435\\u043d\\u0441\\u0430\\u0446\\u0438\\u044e \\u0437\\u0430\\u0434\\u043e\\u043b\\u0436\\u0435\\u043d\\u043d\\u043e\\u0441\\u0442\\u0438 \\u043f\\u043e \\u0437\\u0430\\u0440\\u043f\\u043b\\u0430\\u0442\\u0435 \\u0437\\u0430 \\u0442\\u0440\\u0438 \\u043c\\u0435\\u0441\\u044f\\u0446\\u0430, \\u043f\\u0440\\u0435\\u0434\\u0448\\u0435\\u0441\\u0442\\u0432\\u0443\\u044e\\u0449\\u0438\\u0445 \\u0434\\u0430\\u0442\\u0435 \\u0432\\u043e\\u0437\\u0431\\u0443\\u0436\\u0434\\u0435\\u043d\\u0438\\u044f \\u0434\\u0435\\u043b\\u0430 \\u043e \\u0431\\u0430\\u043d\\u043a\\u0440\\u043e\\u0442\\u0441\\u0442\\u0432\\u0435. \\u0412 2013 \\u0433\\u043e\\u0434\\u0443 \\u0430\\u043d\\u0430\\u043b\\u043e\\u0433\\u0438\\u0447\\u043d\\u044b\\u0439 \\u0437\\u0430\\u043a\\u043e\\u043d\\u043e\\u043f\\u0440\\u043e\\u0435\\u043a\\u0442 \\u0434\\u043b\\u044f \\u043f\\u0443\\u0431\\u043b\\u0438\\u0447\\u043d\\u043e\\u0433\\u043e \\u043e\\u0431\\u0441\\u0443\\u0436\\u0434\\u0435\\u043d\\u0438\\u044f \\u043f\\u0440\\u0435\\u0434\\u0441\\u0442\\u0430\\u0432\\u043b\\u044f\\u043b \\u041c\\u0438\\u043d\\u0442\\u0440\\u0443\\u0434. \\u041d\\u043e \\u0438\\u043d\\u0438\\u0446\\u0438\\u0430\\u0442\\u0438\\u0432\\u0430 \\u0432\\u0435\\u0434\\u043e\\u043c\\u0441\\u0442\\u0432\\u0430 \\u0434\\u0430\\u043b\\u044c\\u0448\\u0435 \\u043d\\u0435 \\u043f\\u0440\\u043e\\u0434\\u0432\\u0438\\u043d\\u0443\\u043b\\u0430\\u0441\\u044c. \\u041d\\u043e\\u0432\\u044b\\u0439 \\u0434\\u043e\\u043a\\u0443\\u043c\\u0435\\u043d\\u0442, \\u043a\\u0430\\u043a \\u0441\\u043e\\u043e\\u0431\\u0449\\u0438\\u043b\\u0438 \\u0432 \\u0430\\u043f\\u043f\\u0430\\u0440\\u0430\\u0442\\u0435 \\u041a\\u043b\\u0438\\u0448\\u0430\\u0441\\u0430, \\u0443\\u0436\\u0435 \\u043f\\u043e\\u043b\\u0443\\u0447\\u0438\\u043b \\u043e\\u0434\\u043e\\u0431\\u0440\\u0435\\u043d\\u0438\\u0435 \\u0433\\u043b\\u0430\\u0432\\u043d\\u043e\\u0433\\u043e \\u043f\\u0440\\u0430\\u0432\\u043e\\u0432\\u043e\\u0433\\u043e \\u0443\\u043f\\u0440\\u0430\\u0432\\u043b\\u0435\\u043d\\u0438\\u044f \\u043f\\u0440\\u0435\\u0437\\u0438\\u0434\\u0435\\u043d\\u0442\\u0430, \\u0435\\u0433\\u043e \\u043f\\u043e\\u043c\\u043e\\u0449\\u043d\\u0438\\u043a\\u0430 \\u0410\\u043d\\u0434\\u0440\\u0435\\u044f \\u0411\\u0435\\u043b\\u043e\\u0443\\u0441\\u043e\\u0432\\u0430 \\u0438 \\u0430\\u0434\\u043c\\u0438\\u043d\\u0438\\u0441\\u0442\\u0440\\u0430\\u0446\\u0438\\u0435\\u0439 \\u043f\\u0440\\u0435\\u0437\\u0438\\u0434\\u0435\\u043d\\u0442\\u0430 \\u0432 \\u0446\\u0435\\u043b\\u043e\\u043c. \\u0421\\u043e\\u0433\\u043b\\u0430\\u0441\\u043d\\u043e \\u0442\\u0435\\u043a\\u0443\\u0449\\u0435\\u043c\\u0443 \\u0437\\u0430\\u043a\\u043e\\u043d\\u043e\\u0434\\u0430\\u0442\\u0435\\u043b\\u044c\\u0441\\u0442\\u0432\\u0443 \\u043f\\u0440\\u0438 \\u0431\\u0430\\u043d\\u043a\\u0440\\u043e\\u0442\\u0441\\u0442\\u0432\\u0435 \\u043e\\u0440\\u0433\\u0430\\u043d\\u0438\\u0437\\u0430\\u0446\\u0438\\u0438 \\u0435\\u0435 \\u0440\\u0430\\u0431\\u043e\\u0442\\u043d\\u0438\\u043a\\u0438 \\u0438\\u043c\\u0435\\u044e\\u0442 \\u043f\\u0440\\u0430\\u0432\\u043e \\u043d\\u0430 \\u0443\\u0434\\u043e\\u0432\\u043b\\u0435\\u0442\\u0432\\u043e\\u0440\\u0435\\u043d\\u0438\\u0435 \\u0442\\u0440\\u0435\\u0431\\u043e\\u0432\\u0430\\u043d\\u0438\\u0439 \\u043f\\u043e \\u0437\\u0430\\u0440\\u043f\\u043b\\u0430\\u0442\\u0430\\u043c \\u0432\\u043e \\u0432\\u0442\\u043e\\u0440\\u0443\\u044e \\u043e\\u0447\\u0435\\u0440\\u0435\\u0434\\u044c. \\u0415\\u0441\\u043b\\u0438 \\u0443 \\u0440\\u0430\\u0437\\u043e\\u0440\\u0435\\u043d\\u043d\\u043e\\u0433\\u043e \\u043f\\u0440\\u0435\\u0434\\u043f\\u0440\\u0438\\u044f\\u0442\\u0438\\u044f \\u043d\\u0435\\u0442 \\u0438\\u043c\\u0443\\u0449\\u0435\\u0441\\u0442\\u0432\\u0430, \\u0437\\u0430 \\u0441\\u0447\\u0435\\u0442 \\u043a\\u043e\\u0442\\u043e\\u0440\\u043e\\u0433\\u043e \\u0440\\u0430\\u0431\\u043e\\u0442\\u043d\\u0438\\u043a\\u0438 \\u043c\\u043e\\u0433\\u043b\\u0438 \\u0431\\u044b \\u043f\\u043e\\u043b\\u0443\\u0447\\u0438\\u0442\\u044c \\u043a\\u043e\\u043c\\u043f\\u0435\\u043d\\u0441\\u0430\\u0446\\u0438\\u044e, \\u0438\\u0445 \\u0442\\u0440\\u0435\\u0431\\u043e\\u0432\\u0430\\u043d\\u0438\\u044f \\u0441\\u0447\\u0438\\u0442\\u0430\\u044e\\u0442\\u0441\\u044f \\u043f\\u043e\\u0433\\u0430\\u0448\\u0435\\u043d\\u043d\\u044b\\u043c\\u0438. \\u041f\\u043e \\u0434\\u0430\\u043d\\u043d\\u044b\\u043c \\u0435\\u0434\\u0438\\u043d\\u043e\\u0433\\u043e \\u0444\\u0435\\u0434\\u0435\\u0440\\u0430\\u043b\\u044c\\u043d\\u043e\\u0433\\u043e \\u0440\\u0435\\u0435\\u0441\\u0442\\u0440\\u0430 \\u0441\\u0432\\u0435\\u0434\\u0435\\u043d\\u0438\\u0439 \\u043e \\u0431\\u0430\\u043d\\u043a\\u0440\\u043e\\u0442\\u0441\\u0442\\u0432\\u0435, \\u0437\\u0430 \\u044f\\u043d\\u0432\\u0430\\u0440\\u044c-\\u0438\\u044e\\u043d\\u044c 2015 \\u0433\\u043e\\u0434\\u0430 \\u043e\\u043f\\u0443\\u0431\\u043b\\u0438\\u043a\\u043e\\u0432\\u0430\\u043d\\u043e 7 658 \\u0441\\u043e\\u043e\\u0431\\u0449\\u0435\\u043d\\u0438\\u0439 \\u043e \\u043f\\u0440\\u0438\\u0437\\u043d\\u0430\\u043d\\u0438\\u0438 \\u043e\\u0440\\u0433\\u0430\\u043d\\u0438\\u0437\\u0430\\u0446\\u0438\\u0439 \\u0431\\u0430\\u043d\\u043a\\u0440\\u043e\\u0442\\u0430\\u043c\\u0438.\"\n        ],\n        \"semantic_type\": \"\",\n        \"description\": \"\"\n      }\n    },\n    {\n      \"column\": \"topic\",\n      \"properties\": {\n        \"dtype\": \"category\",\n        \"num_unique_values\": 17,\n        \"samples\": [\n          \"\\u0420\\u043e\\u0441\\u0441\\u0438\\u044f\",\n          \"\\u041c\\u0438\\u0440\",\n          \"\\u0411\\u044b\\u0432\\u0448\\u0438\\u0439 \\u0421\\u0421\\u0421\\u0420\"\n        ],\n        \"semantic_type\": \"\",\n        \"description\": \"\"\n      }\n    },\n    {\n      \"column\": \"tags\",\n      \"properties\": {\n        \"dtype\": \"category\",\n        \"num_unique_values\": 57,\n        \"samples\": [\n          \"\\u0412\\u0441\\u0435\",\n          \"\\u041a\\u043e\\u043d\\u0444\\u043b\\u0438\\u043a\\u0442\\u044b\",\n          \"\\u0420\\u0435\\u043a\\u043b\\u0430\\u043c\\u0430\"\n        ],\n        \"semantic_type\": \"\",\n        \"description\": \"\"\n      }\n    },\n    {\n      \"column\": \"date\",\n      \"properties\": {\n        \"dtype\": \"object\",\n        \"num_unique_values\": 563,\n        \"samples\": [\n          \"2002/12/24\",\n          \"2016/08/01\",\n          \"2008/02/07\"\n        ],\n        \"semantic_type\": \"\",\n        \"description\": \"\"\n      }\n    }\n  ]\n}"
            }
          },
          "metadata": {},
          "execution_count": 6
        }
      ],
      "source": [
        "data = pd.read_csv('lenta_sample.csv')\n",
        "data.head(2)"
      ]
    },
    {
      "cell_type": "code",
      "source": [
        "data['topic'].value_counts()"
      ],
      "metadata": {
        "id": "rI0SH5uDYP8L",
        "colab": {
          "base_uri": "https://localhost:8080/",
          "height": 648
        },
        "outputId": "db834f03-7e11-40fb-d7c5-b24531950a75"
      },
      "id": "rI0SH5uDYP8L",
      "execution_count": 7,
      "outputs": [
        {
          "output_type": "execute_result",
          "data": {
            "text/plain": [
              "topic\n",
              "Из жизни             55\n",
              "Наука и техника      54\n",
              "Бывший СССР          54\n",
              "Культура             53\n",
              "Ценности             45\n",
              "Дом                  45\n",
              "Бизнес               44\n",
              "Интернет и СМИ       44\n",
              "Силовые структуры    40\n",
              "Спорт                39\n",
              "Россия               32\n",
              "Экономика            32\n",
              "Мир                  27\n",
              "69-я параллель       13\n",
              "Легпром              13\n",
              "Библиотека           10\n",
              "Крым                  7\n",
              "Name: count, dtype: int64"
            ],
            "text/html": [
              "<div>\n",
              "<style scoped>\n",
              "    .dataframe tbody tr th:only-of-type {\n",
              "        vertical-align: middle;\n",
              "    }\n",
              "\n",
              "    .dataframe tbody tr th {\n",
              "        vertical-align: top;\n",
              "    }\n",
              "\n",
              "    .dataframe thead th {\n",
              "        text-align: right;\n",
              "    }\n",
              "</style>\n",
              "<table border=\"1\" class=\"dataframe\">\n",
              "  <thead>\n",
              "    <tr style=\"text-align: right;\">\n",
              "      <th></th>\n",
              "      <th>count</th>\n",
              "    </tr>\n",
              "    <tr>\n",
              "      <th>topic</th>\n",
              "      <th></th>\n",
              "    </tr>\n",
              "  </thead>\n",
              "  <tbody>\n",
              "    <tr>\n",
              "      <th>Из жизни</th>\n",
              "      <td>55</td>\n",
              "    </tr>\n",
              "    <tr>\n",
              "      <th>Наука и техника</th>\n",
              "      <td>54</td>\n",
              "    </tr>\n",
              "    <tr>\n",
              "      <th>Бывший СССР</th>\n",
              "      <td>54</td>\n",
              "    </tr>\n",
              "    <tr>\n",
              "      <th>Культура</th>\n",
              "      <td>53</td>\n",
              "    </tr>\n",
              "    <tr>\n",
              "      <th>Ценности</th>\n",
              "      <td>45</td>\n",
              "    </tr>\n",
              "    <tr>\n",
              "      <th>Дом</th>\n",
              "      <td>45</td>\n",
              "    </tr>\n",
              "    <tr>\n",
              "      <th>Бизнес</th>\n",
              "      <td>44</td>\n",
              "    </tr>\n",
              "    <tr>\n",
              "      <th>Интернет и СМИ</th>\n",
              "      <td>44</td>\n",
              "    </tr>\n",
              "    <tr>\n",
              "      <th>Силовые структуры</th>\n",
              "      <td>40</td>\n",
              "    </tr>\n",
              "    <tr>\n",
              "      <th>Спорт</th>\n",
              "      <td>39</td>\n",
              "    </tr>\n",
              "    <tr>\n",
              "      <th>Россия</th>\n",
              "      <td>32</td>\n",
              "    </tr>\n",
              "    <tr>\n",
              "      <th>Экономика</th>\n",
              "      <td>32</td>\n",
              "    </tr>\n",
              "    <tr>\n",
              "      <th>Мир</th>\n",
              "      <td>27</td>\n",
              "    </tr>\n",
              "    <tr>\n",
              "      <th>69-я параллель</th>\n",
              "      <td>13</td>\n",
              "    </tr>\n",
              "    <tr>\n",
              "      <th>Легпром</th>\n",
              "      <td>13</td>\n",
              "    </tr>\n",
              "    <tr>\n",
              "      <th>Библиотека</th>\n",
              "      <td>10</td>\n",
              "    </tr>\n",
              "    <tr>\n",
              "      <th>Крым</th>\n",
              "      <td>7</td>\n",
              "    </tr>\n",
              "  </tbody>\n",
              "</table>\n",
              "</div><br><label><b>dtype:</b> int64</label>"
            ]
          },
          "metadata": {},
          "execution_count": 7
        }
      ]
    },
    {
      "cell_type": "code",
      "source": [
        "device = torch.device('cuda' if torch.cuda.is_available() else 'cpu')"
      ],
      "metadata": {
        "id": "wXVJZ74vbMpY"
      },
      "id": "wXVJZ74vbMpY",
      "execution_count": 8,
      "outputs": []
    },
    {
      "cell_type": "code",
      "source": [
        "def train(model, iterator, optimizer, criterion, print_every=1000):\n",
        "\n",
        "    epoch_loss = []\n",
        "    epoch_f1 = []\n",
        "\n",
        "    model.train()\n",
        "\n",
        "    for i, (texts, ys) in enumerate(iterator):\n",
        "\n",
        "        optimizer.zero_grad()\n",
        "        predictions = model(texts.to(device)).squeeze()\n",
        "        loss = criterion(predictions, ys.to(device))\n",
        "\n",
        "\n",
        "\n",
        "        loss.backward()\n",
        "        optimizer.step()\n",
        "        preds = predictions.detach().to('cpu').numpy().argmax(1).tolist()\n",
        "        y_true = ys.tolist()\n",
        "\n",
        "        epoch_loss.append(loss.item())\n",
        "        epoch_f1.append(f1_score(y_true, preds, average=\"micro\"))\n",
        "\n",
        "        if not (i+1) % print_every:\n",
        "            print(f'Loss: {np.mean(epoch_loss)}; F1 measure: {np.mean(epoch_f1)}')\n",
        "\n",
        "    return np.mean(epoch_f1)"
      ],
      "metadata": {
        "id": "vTI_6MmWZX5L"
      },
      "id": "vTI_6MmWZX5L",
      "execution_count": 9,
      "outputs": []
    },
    {
      "cell_type": "code",
      "source": [
        "def evaluate(model, iterator, criterion):\n",
        "\n",
        "    epoch_loss = []\n",
        "    epoch_f1 = []\n",
        "\n",
        "    model.eval()\n",
        "    with torch.no_grad():\n",
        "        for texts, ys in iterator:\n",
        "\n",
        "            predictions = model(texts.to(device)).squeeze()\n",
        "            loss = criterion(predictions, ys.to(device))\n",
        "            preds = predictions.detach().to('cpu').numpy().argmax(1).tolist()\n",
        "            y_true = ys.tolist()\n",
        "\n",
        "\n",
        "            epoch_loss.append(loss.item())\n",
        "            epoch_f1.append(f1_score(y_true, preds, average=\"micro\"))\n",
        "\n",
        "    return np.mean(epoch_f1)"
      ],
      "metadata": {
        "id": "DChCFwcpahGS"
      },
      "id": "DChCFwcpahGS",
      "execution_count": 10,
      "outputs": []
    },
    {
      "cell_type": "code",
      "source": [
        "def predict(model, iterator):\n",
        "\n",
        "    preds = []\n",
        "\n",
        "    model.eval()\n",
        "    with torch.no_grad():\n",
        "        for texts, ys in iterator:\n",
        "            predictions = model(texts.to(device)).squeeze()\n",
        "            ys = predictions.detach().to('cpu').numpy().argmax(1).tolist()\n",
        "            preds.extend(ys)\n",
        "\n",
        "    return preds"
      ],
      "metadata": {
        "id": "hS9SgPw8aouQ"
      },
      "id": "hS9SgPw8aouQ",
      "execution_count": 11,
      "outputs": []
    },
    {
      "cell_type": "code",
      "source": [
        "class Dataset(torch.utils.data.Dataset):\n",
        "\n",
        "    def __init__(self, tokenizer, MAX_LEN, texts, targets):\n",
        "\n",
        "        self.tokenizer = tokenizer\n",
        "        self.texts = [torch.LongTensor(tokenizer.encode(t)[:MAX_LEN]) for t in texts]\n",
        "        self.texts = torch.nn.utils.rnn.pad_sequence(self.texts, batch_first=True,\n",
        "                                                     padding_value=self.tokenizer.pad_token_id)\n",
        "\n",
        "        self.MAX_LEN = MAX_LEN\n",
        "        self.length = len(texts)\n",
        "\n",
        "        self.target = torch.LongTensor(targets)\n",
        "\n",
        "    def __len__(self):\n",
        "        return self.length\n",
        "\n",
        "    def __getitem__(self, index):\n",
        "        ids = self.texts[index]\n",
        "        y = self.target[index]\n",
        "\n",
        "        return ids, y\n",
        "\n",
        "    def preprocess(self, text):\n",
        "        tokens = text.lower().split()\n",
        "        tokens = [token.strip(punctuation) for token in tokens]\n",
        "        tokens = [token for token in tokens if token]\n",
        "        return tokens"
      ],
      "metadata": {
        "id": "tVOjcMWOaqpL"
      },
      "id": "tVOjcMWOaqpL",
      "execution_count": 12,
      "outputs": []
    },
    {
      "cell_type": "code",
      "source": [
        "class CLF(nn.Module):\n",
        "\n",
        "    def __init__(self, pretrained_model, num_classes):\n",
        "        super().__init__()\n",
        "        self.tokenizer = tokenizer\n",
        "        self.pretrained_model = pretrained_model\n",
        "        self.drop = nn.Dropout(0.3)\n",
        "        self.fc = nn.Linear(768, num_classes)\n",
        "        self.act = nn.LogSoftmax(1)\n",
        "\n",
        "    def forward(self, texts):\n",
        "        mask = (texts != tokenizer.pad_token_id).long()\n",
        "\n",
        "        hidden = self.pretrained_model(texts, attention_mask=mask)[0]\n",
        "\n",
        "        dense_outputs=self.fc(self.drop(hidden[:,0] ))\n",
        "        outputs=self.act(dense_outputs)\n",
        "\n",
        "        return outputs"
      ],
      "metadata": {
        "id": "hsu8k1etbebH"
      },
      "id": "hsu8k1etbebH",
      "execution_count": 13,
      "outputs": []
    },
    {
      "cell_type": "code",
      "source": [
        "class CLF_HS(nn.Module):\n",
        "\n",
        "    def __init__(self, pretrained_model, num_classes):\n",
        "        super().__init__()\n",
        "        self.tokenizer = tokenizer\n",
        "        self.pretrained_model = pretrained_model\n",
        "        self.drop = nn.Dropout(0.3)\n",
        "        self.fc = nn.Linear(768, num_classes)\n",
        "        self.act = nn.LogSoftmax(1)\n",
        "\n",
        "    def forward(self, texts):\n",
        "        mask = (texts != self.tokenizer.pad_token_id).long()\n",
        "\n",
        "        hidden = self.pretrained_model(texts, attention_mask=mask, output_hidden_states=True).hidden_states\n",
        "        hidden_avg = torch.stack([torch.mean(hs.float(), dim=1) for hs in hidden[1:]]).mean(dim=0)\n",
        "\n",
        "        dense_outputs = self.fc(self.drop(hidden_avg))\n",
        "        outputs = self.act(dense_outputs)\n",
        "\n",
        "        return outputs"
      ],
      "metadata": {
        "id": "OS6dRWPUevWv"
      },
      "id": "OS6dRWPUevWv",
      "execution_count": 14,
      "outputs": []
    },
    {
      "cell_type": "code",
      "source": [
        "MAX_LEN = 512"
      ],
      "metadata": {
        "id": "YsCn6gEfatul"
      },
      "id": "YsCn6gEfatul",
      "execution_count": 15,
      "outputs": []
    },
    {
      "cell_type": "code",
      "source": [
        "texts = data.text.values\n",
        "id2label = {i:l for i,l in enumerate(set(data.topic))}\n",
        "label2id = {l:i for i,l in id2label.items()}\n",
        "targets = [label2id[l] for l in data.topic]"
      ],
      "metadata": {
        "id": "hyMYdl6ta20e"
      },
      "id": "hyMYdl6ta20e",
      "execution_count": 16,
      "outputs": []
    },
    {
      "cell_type": "code",
      "source": [
        "train_texts, valid_texts, train_targets, valid_targets = train_test_split(texts, targets, test_size=0.05)"
      ],
      "metadata": {
        "id": "WDy-ZFprbAIt"
      },
      "id": "WDy-ZFprbAIt",
      "execution_count": 17,
      "outputs": []
    },
    {
      "cell_type": "markdown",
      "source": [
        "### ModernBERT без заморозки"
      ],
      "metadata": {
        "id": "gPmxUzcacgu9"
      },
      "id": "gPmxUzcacgu9"
    },
    {
      "cell_type": "code",
      "source": [
        "model_id = \"answerdotai/ModernBERT-base\"\n",
        "tokenizer = AutoTokenizer.from_pretrained(model_id)\n",
        "model_bert = AutoModel.from_pretrained(model_id)"
      ],
      "metadata": {
        "id": "RwZScKJBZHSz"
      },
      "id": "RwZScKJBZHSz",
      "execution_count": null,
      "outputs": []
    },
    {
      "cell_type": "code",
      "source": [
        "training_set = Dataset(tokenizer, MAX_LEN, train_texts, train_targets)\n",
        "training_generator = torch.utils.data.DataLoader(training_set, batch_size=16, shuffle=True, )\n",
        "valid_set = Dataset(tokenizer, MAX_LEN, valid_texts, valid_targets)\n",
        "valid_generator = torch.utils.data.DataLoader(valid_set, batch_size=16, shuffle=True)"
      ],
      "metadata": {
        "id": "tgrkRDIBbCbG"
      },
      "id": "tgrkRDIBbCbG",
      "execution_count": null,
      "outputs": []
    },
    {
      "cell_type": "code",
      "source": [
        "model = CLF(model_bert, len(label2id))\n",
        "optimizer = optim.Adam(model.parameters(), lr=2e-4)\n",
        "criterion = nn.NLLLoss()\n",
        "model = model.to(device)\n",
        "criterion = criterion.to(device)"
      ],
      "metadata": {
        "id": "2ujlSIvNbZ4g"
      },
      "id": "2ujlSIvNbZ4g",
      "execution_count": null,
      "outputs": []
    },
    {
      "cell_type": "code",
      "source": [
        "print(\"Percentage of trainable params:\")\n",
        "print('{0:.10f}'.format(sum(p.numel() for p in model.parameters() if p.requires_grad)/sum(p.numel() for p in model.parameters())))"
      ],
      "metadata": {
        "colab": {
          "base_uri": "https://localhost:8080/"
        },
        "id": "WiRA6dcrb9hm",
        "outputId": "c6209cdc-84ae-4a9b-cb05-cfd85b6906c2"
      },
      "id": "WiRA6dcrb9hm",
      "execution_count": null,
      "outputs": [
        {
          "output_type": "stream",
          "name": "stdout",
          "text": [
            "Percentage of trainable params:\n",
            "1.0000000000\n"
          ]
        }
      ]
    },
    {
      "cell_type": "code",
      "source": [
        "f1s = []\n",
        "f1s_eval = []\n",
        "\n",
        "for i in range(30):\n",
        "    print(i)\n",
        "    f1s.append(train(model, training_generator, optimizer, criterion, 2000))\n",
        "    evl = evaluate(model, valid_generator, criterion)\n",
        "    print('Eval - ', evl)\n",
        "    f1s_eval.append(evl)"
      ],
      "metadata": {
        "colab": {
          "base_uri": "https://localhost:8080/"
        },
        "id": "i4kByJXrcajX",
        "outputId": "a7f213e6-b5d4-4665-8cfc-bd5f8266ecda"
      },
      "id": "i4kByJXrcajX",
      "execution_count": null,
      "outputs": [
        {
          "output_type": "stream",
          "name": "stdout",
          "text": [
            "0\n",
            "Eval -  0.09583333333333333\n",
            "1\n",
            "Eval -  0.09583333333333333\n",
            "2\n",
            "Eval -  0.125\n",
            "3\n",
            "Eval -  0.12916666666666665\n",
            "4\n",
            "Eval -  0.12708333333333333\n",
            "5\n",
            "Eval -  0.12708333333333333\n",
            "6\n",
            "Eval -  0.1625\n",
            "7\n",
            "Eval -  0.13125\n",
            "8\n",
            "Eval -  0.22291666666666665\n",
            "9\n",
            "Eval -  0.1625\n",
            "10\n",
            "Eval -  0.19375\n",
            "11\n",
            "Eval -  0.12916666666666665\n",
            "12\n",
            "Eval -  0.06458333333333333\n",
            "13\n",
            "Eval -  0.19375\n",
            "14\n",
            "Eval -  0.12916666666666665\n",
            "15\n",
            "Eval -  0.22708333333333333\n",
            "16\n",
            "Eval -  0.16041666666666665\n",
            "17\n",
            "Eval -  0.15625\n",
            "18\n",
            "Eval -  0.225\n",
            "19\n",
            "Eval -  0.19583333333333333\n",
            "20\n",
            "Eval -  0.19166666666666665\n",
            "21\n",
            "Eval -  0.16041666666666665\n",
            "22\n",
            "Eval -  0.12916666666666665\n",
            "23\n",
            "Eval -  0.16041666666666665\n",
            "24\n",
            "Eval -  0.06458333333333333\n",
            "25\n",
            "Eval -  0.12916666666666665\n",
            "26\n",
            "Eval -  0.15833333333333333\n",
            "27\n",
            "Eval -  0.12708333333333333\n",
            "28\n",
            "Eval -  0.1625\n",
            "29\n",
            "Eval -  0.22916666666666666\n"
          ]
        }
      ]
    },
    {
      "cell_type": "code",
      "source": [
        "plt.plot(f1s)\n",
        "plt.plot(f1s_eval)\n",
        "plt.title('model f1 micro')\n",
        "plt.ylabel('f1')\n",
        "plt.xlabel('epoch')\n",
        "plt.legend(['train', 'val'], loc='upper left')\n",
        "plt.show()"
      ],
      "metadata": {
        "colab": {
          "base_uri": "https://localhost:8080/",
          "height": 472
        },
        "id": "avOwKm6Qcp-g",
        "outputId": "015e4079-2247-4481-c3b1-bedb94cbfd07"
      },
      "id": "avOwKm6Qcp-g",
      "execution_count": null,
      "outputs": [
        {
          "output_type": "display_data",
          "data": {
            "text/plain": [
              "<Figure size 640x480 with 1 Axes>"
            ],
            "image/png": "[encoded data removed]"
          },
          "metadata": {}
        }
      ]
    },
    {
      "cell_type": "code",
      "source": [
        "valid_generator = torch.utils.data.DataLoader(valid_set, batch_size=32, shuffle=False)\n",
        "preds = predict(model, valid_generator)"
      ],
      "metadata": {
        "id": "ZS1d4Iwxcwt6"
      },
      "id": "ZS1d4Iwxcwt6",
      "execution_count": null,
      "outputs": []
    },
    {
      "cell_type": "code",
      "source": [
        "print(classification_report(valid_targets, preds))"
      ],
      "metadata": {
        "colab": {
          "base_uri": "https://localhost:8080/"
        },
        "id": "IU5QPAI9c0ad",
        "outputId": "a66b5a3f-cd9d-4857-8086-fffdfcbad356"
      },
      "id": "IU5QPAI9c0ad",
      "execution_count": null,
      "outputs": [
        {
          "output_type": "stream",
          "name": "stdout",
          "text": [
            "              precision    recall  f1-score   support\n",
            "\n",
            "           0       0.00      0.00      0.00         3\n",
            "           1       0.00      0.00      0.00         1\n",
            "           2       1.00      0.50      0.67         2\n",
            "           4       0.50      0.50      0.50         2\n",
            "           5       0.00      0.00      0.00         2\n",
            "           6       0.00      0.00      0.00         3\n",
            "           9       0.50      0.50      0.50         2\n",
            "          11       0.50      0.50      0.50         2\n",
            "          12       1.00      0.33      0.50         3\n",
            "          13       0.00      0.00      0.00         2\n",
            "          14       0.00      0.00      0.00         1\n",
            "          15       0.12      0.25      0.17         4\n",
            "          16       0.17      0.25      0.20         4\n",
            "\n",
            "    accuracy                           0.23        31\n",
            "   macro avg       0.29      0.22      0.23        31\n",
            "weighted avg       0.30      0.23      0.24        31\n",
            "\n"
          ]
        },
        {
          "output_type": "stream",
          "name": "stderr",
          "text": [
            "/usr/local/lib/python3.11/dist-packages/sklearn/metrics/_classification.py:1565: UndefinedMetricWarning: Precision is ill-defined and being set to 0.0 in labels with no predicted samples. Use `zero_division` parameter to control this behavior.\n",
            "  _warn_prf(average, modifier, f\"{metric.capitalize()} is\", len(result))\n",
            "/usr/local/lib/python3.11/dist-packages/sklearn/metrics/_classification.py:1565: UndefinedMetricWarning: Precision is ill-defined and being set to 0.0 in labels with no predicted samples. Use `zero_division` parameter to control this behavior.\n",
            "  _warn_prf(average, modifier, f\"{metric.capitalize()} is\", len(result))\n",
            "/usr/local/lib/python3.11/dist-packages/sklearn/metrics/_classification.py:1565: UndefinedMetricWarning: Precision is ill-defined and being set to 0.0 in labels with no predicted samples. Use `zero_division` parameter to control this behavior.\n",
            "  _warn_prf(average, modifier, f\"{metric.capitalize()} is\", len(result))\n"
          ]
        }
      ]
    },
    {
      "cell_type": "markdown",
      "source": [
        "### ModernBERT c заморозкой"
      ],
      "metadata": {
        "id": "uOO7frmSdHvl"
      },
      "id": "uOO7frmSdHvl"
    },
    {
      "cell_type": "code",
      "source": [
        "model_id = \"answerdotai/ModernBERT-base\"\n",
        "tokenizer = AutoTokenizer.from_pretrained(model_id)\n",
        "model_bert = AutoModel.from_pretrained(model_id)\n",
        "\n",
        "for param in model_bert.parameters():\n",
        "    param.requires_grad = False"
      ],
      "metadata": {
        "id": "VDULv8yZdKBW"
      },
      "id": "VDULv8yZdKBW",
      "execution_count": null,
      "outputs": []
    },
    {
      "cell_type": "code",
      "source": [
        "model = CLF(model_bert, len(label2id))\n",
        "optimizer = optim.Adam(model.parameters(), lr=2e-4)\n",
        "criterion = nn.NLLLoss()\n",
        "model = model.to(device)\n",
        "criterion = criterion.to(device)"
      ],
      "metadata": {
        "id": "SDNSgBj7dPnD"
      },
      "id": "SDNSgBj7dPnD",
      "execution_count": null,
      "outputs": []
    },
    {
      "cell_type": "code",
      "source": [
        "print(\"Percentage of trainable params:\")\n",
        "print('{0:.10f}'.format(sum(p.numel() for p in model.parameters() if p.requires_grad)/sum(p.numel() for p in model.parameters())))"
      ],
      "metadata": {
        "colab": {
          "base_uri": "https://localhost:8080/"
        },
        "id": "w2RjZ7IVdRUP",
        "outputId": "ef4c2c1c-5c5c-4184-8d21-b2cc5af37567"
      },
      "id": "w2RjZ7IVdRUP",
      "execution_count": null,
      "outputs": [
        {
          "output_type": "stream",
          "name": "stdout",
          "text": [
            "Percentage of trainable params:\n",
            "0.0000877222\n"
          ]
        }
      ]
    },
    {
      "cell_type": "code",
      "source": [
        "f1s = []\n",
        "f1s_eval = []\n",
        "\n",
        "for i in range(30):\n",
        "    print(i)\n",
        "    f1s.append(train(model, training_generator, optimizer, criterion, 2000))\n",
        "    evl = evaluate(model, valid_generator, criterion)\n",
        "    print('Eval - ', evl)\n",
        "    f1s_eval.append(evl)"
      ],
      "metadata": {
        "colab": {
          "base_uri": "https://localhost:8080/"
        },
        "id": "0ZzyynKJdWND",
        "outputId": "fd080cc2-d954-41e7-d6b0-c09455fee7c7"
      },
      "id": "0ZzyynKJdWND",
      "execution_count": null,
      "outputs": [
        {
          "output_type": "stream",
          "name": "stdout",
          "text": [
            "0\n",
            "Eval -  0.16129032258064516\n",
            "1\n",
            "Eval -  0.16129032258064516\n",
            "2\n",
            "Eval -  0.1935483870967742\n",
            "3\n",
            "Eval -  0.1935483870967742\n",
            "4\n",
            "Eval -  0.16129032258064516\n",
            "5\n",
            "Eval -  0.0967741935483871\n",
            "6\n",
            "Eval -  0.12903225806451613\n",
            "7\n",
            "Eval -  0.1935483870967742\n",
            "8\n",
            "Eval -  0.1935483870967742\n",
            "9\n",
            "Eval -  0.16129032258064516\n",
            "10\n",
            "Eval -  0.16129032258064516\n",
            "11\n",
            "Eval -  0.16129032258064516\n",
            "12\n",
            "Eval -  0.1935483870967742\n",
            "13\n",
            "Eval -  0.1935483870967742\n",
            "14\n",
            "Eval -  0.16129032258064516\n",
            "15\n",
            "Eval -  0.12903225806451613\n",
            "16\n",
            "Eval -  0.1935483870967742\n",
            "17\n",
            "Eval -  0.16129032258064516\n",
            "18\n",
            "Eval -  0.1935483870967742\n",
            "19\n",
            "Eval -  0.16129032258064516\n",
            "20\n",
            "Eval -  0.16129032258064516\n",
            "21\n",
            "Eval -  0.1935483870967742\n",
            "22\n",
            "Eval -  0.16129032258064516\n",
            "23\n",
            "Eval -  0.1935483870967742\n",
            "24\n",
            "Eval -  0.1935483870967742\n",
            "25\n",
            "Eval -  0.16129032258064516\n",
            "26\n",
            "Eval -  0.22580645161290322\n",
            "27\n",
            "Eval -  0.1935483870967742\n",
            "28\n",
            "Eval -  0.22580645161290322\n",
            "29\n",
            "Eval -  0.1935483870967742\n"
          ]
        }
      ]
    },
    {
      "cell_type": "code",
      "source": [
        "plt.plot(f1s)\n",
        "plt.plot(f1s_eval)\n",
        "plt.title('model f1 micro')\n",
        "plt.ylabel('f1')\n",
        "plt.xlabel('epoch')\n",
        "plt.legend(['train', 'val'], loc='upper left')\n",
        "plt.show()"
      ],
      "metadata": {
        "colab": {
          "base_uri": "https://localhost:8080/",
          "height": 472
        },
        "id": "5MGLs85sdWvS",
        "outputId": "becba6ed-00ce-4186-9e87-4cc9eb6c2cc0"
      },
      "id": "5MGLs85sdWvS",
      "execution_count": null,
      "outputs": [
        {
          "output_type": "display_data",
          "data": {
            "text/plain": [
              "<Figure size 640x480 with 1 Axes>"
            ],
            "image/png": "[encoded data removed]"
          },
          "metadata": {}
        }
      ]
    },
    {
      "cell_type": "code",
      "source": [
        "valid_generator = torch.utils.data.DataLoader(valid_set, batch_size=32, shuffle=False)\n",
        "preds = predict(model, valid_generator)"
      ],
      "metadata": {
        "id": "uBE7Mn7mdbzB"
      },
      "id": "uBE7Mn7mdbzB",
      "execution_count": null,
      "outputs": []
    },
    {
      "cell_type": "code",
      "source": [
        "print(classification_report(valid_targets, preds))"
      ],
      "metadata": {
        "colab": {
          "base_uri": "https://localhost:8080/"
        },
        "id": "b42lED3Hddcx",
        "outputId": "a691e02d-580e-40be-901f-c0954e36f696"
      },
      "id": "b42lED3Hddcx",
      "execution_count": null,
      "outputs": [
        {
          "output_type": "stream",
          "name": "stdout",
          "text": [
            "              precision    recall  f1-score   support\n",
            "\n",
            "           0       0.50      0.33      0.40         3\n",
            "           1       0.00      0.00      0.00         1\n",
            "           2       0.00      0.00      0.00         2\n",
            "           3       0.00      0.00      0.00         0\n",
            "           4       0.50      0.50      0.50         2\n",
            "           5       0.00      0.00      0.00         2\n",
            "           6       0.25      0.33      0.29         3\n",
            "           9       0.25      0.50      0.33         2\n",
            "          11       0.00      0.00      0.00         2\n",
            "          12       0.00      0.00      0.00         3\n",
            "          13       0.00      0.00      0.00         2\n",
            "          14       0.00      0.00      0.00         1\n",
            "          15       0.00      0.00      0.00         4\n",
            "          16       0.25      0.50      0.33         4\n",
            "\n",
            "    accuracy                           0.19        31\n",
            "   macro avg       0.12      0.15      0.13        31\n",
            "weighted avg       0.15      0.19      0.16        31\n",
            "\n"
          ]
        },
        {
          "output_type": "stream",
          "name": "stderr",
          "text": [
            "/usr/local/lib/python3.11/dist-packages/sklearn/metrics/_classification.py:1565: UndefinedMetricWarning: Precision is ill-defined and being set to 0.0 in labels with no predicted samples. Use `zero_division` parameter to control this behavior.\n",
            "  _warn_prf(average, modifier, f\"{metric.capitalize()} is\", len(result))\n",
            "/usr/local/lib/python3.11/dist-packages/sklearn/metrics/_classification.py:1565: UndefinedMetricWarning: Recall is ill-defined and being set to 0.0 in labels with no true samples. Use `zero_division` parameter to control this behavior.\n",
            "  _warn_prf(average, modifier, f\"{metric.capitalize()} is\", len(result))\n",
            "/usr/local/lib/python3.11/dist-packages/sklearn/metrics/_classification.py:1565: UndefinedMetricWarning: Precision is ill-defined and being set to 0.0 in labels with no predicted samples. Use `zero_division` parameter to control this behavior.\n",
            "  _warn_prf(average, modifier, f\"{metric.capitalize()} is\", len(result))\n",
            "/usr/local/lib/python3.11/dist-packages/sklearn/metrics/_classification.py:1565: UndefinedMetricWarning: Recall is ill-defined and being set to 0.0 in labels with no true samples. Use `zero_division` parameter to control this behavior.\n",
            "  _warn_prf(average, modifier, f\"{metric.capitalize()} is\", len(result))\n",
            "/usr/local/lib/python3.11/dist-packages/sklearn/metrics/_classification.py:1565: UndefinedMetricWarning: Precision is ill-defined and being set to 0.0 in labels with no predicted samples. Use `zero_division` parameter to control this behavior.\n",
            "  _warn_prf(average, modifier, f\"{metric.capitalize()} is\", len(result))\n",
            "/usr/local/lib/python3.11/dist-packages/sklearn/metrics/_classification.py:1565: UndefinedMetricWarning: Recall is ill-defined and being set to 0.0 in labels with no true samples. Use `zero_division` parameter to control this behavior.\n",
            "  _warn_prf(average, modifier, f\"{metric.capitalize()} is\", len(result))\n"
          ]
        }
      ]
    },
    {
      "cell_type": "markdown",
      "source": [
        "### RuModernBERT без заморозки"
      ],
      "metadata": {
        "id": "DTymGvt3dhwO"
      },
      "id": "DTymGvt3dhwO"
    },
    {
      "cell_type": "code",
      "source": [
        "model_id = \"deepvk/RuModernBERT-base\"\n",
        "tokenizer = AutoTokenizer.from_pretrained(model_id)\n",
        "model_bert = AutoModel.from_pretrained(model_id)"
      ],
      "metadata": {
        "colab": {
          "base_uri": "https://localhost:8080/",
          "height": 177,
          "referenced_widgets": [
            "fea49bff6aaf4f199bdba17876ac24d3",
            "639b5e2932224773a293b5274e1a5b69",
            "f41c69ea63a647c38d9e3843d6b03bae",
            "6c5384001f1742a6b82c8a07060af6c5",
            "46c60ba415764f479a8d497690941bb7",
            "7bef395b63554a289cc7511881b6bd21",
            "ac6489d3429f4261936cdc43310c6fc5",
            "4d75dc838c7f4342871e6f29b74bc530",
            "09558bd764fd4b368043840dfaa8d0cf",
            "df19ccf1975c4b0db9b6e34fb8428128",
            "3b96a3c18c6d4541983df95b26b1c26a",
            "c36c546ee49b4d108aa606315980d6ba",
            "aef0645ef9284131badaaaa91ca747ff",
            "ed20bae292ed4864abf6596e6a7d13df",
            "2860c6b8bc604ab68a648a62fa6d25c8",
            "327d13500812439884a637c8ad27b88d",
            "beefbc76c0fe4e6db47bb19c5a2131e5",
            "8ca26d9b719b4cefadb8b20cdb8bc2eb",
            "aa3e5106887e48e09f01ba29d3cff9e7",
            "6ab88bbe17f04be1bae598d4d40ca47a",
            "190c13a3239a4d2788706eccaeb71236",
            "226f267bc9d24a019a3e394b7fac56fd",
            "8315a465df5148b0a1d8599fc44de8e3",
            "367bd88858b542058e311eb2ae82d6bc",
            "42672844301f4c92bb8bc5911502d2da",
            "32a3b330dcb14bae8893b4ceac16ea7b",
            "76e63d45f18a4f739ad33c3a6495d04d",
            "4e3f98b2505c4fc4a994e971d961e022",
            "efb8e121f0c641e9b2f1e5c908233e0b",
            "c780dc96293d43bb90a39ba9cfa62d1f",
            "a52a1f3ac3654bb09cdc4aaebcad2aa7",
            "7aa50be64b974fbbaa6e74ceeebbed48",
            "3af828d252a8486a8ac0acd1e1ccca68",
            "364d57e43a6845118155d2b0031fed27",
            "af3a5e61213142b88afb859998d117fa",
            "9a15b7a4a2384365aaa010344405860a",
            "2e4a49183f244fb0ad20e43ee68649b5",
            "d9457b23f6394722950d8239027b8728",
            "c7c6e2a2b65245fd8946cac1afc553ba",
            "79cf6a95dee24d0292f81dce7299994f",
            "8b558db7b70744d1874437163b5d055d",
            "1b93e11cf668428da152e415a1d03cdd",
            "25b424741e484f238344b8073bfee502",
            "a7ed5c9489f3467ab8c1b9368a7cf5cf",
            "f5fa97dc9f1342369bd4a0973cae7f9d",
            "7538bd667ce64cd78069d23f6484b44d",
            "d7d85d318f2245908da8cbfb95273811",
            "dfcf5b70fa3841a18257a2da2237243e",
            "df812fec2c4540229c538e8776d72165",
            "734740507c714786ad0abb2798933220",
            "0e45dfd0df66478c86fe79fb700130fe",
            "456bd8810bb5441cb7dc63a506efc2b0",
            "a95415314d4c45dbaf1cfddea5654a62",
            "2b1d014fa5104c2297f915b803ad4c58",
            "c66d8945c0d04155921b08cbea76206c"
          ]
        },
        "id": "OZ1u9YjndlLo",
        "outputId": "2d4fab68-9144-4e18-f20f-d0c296bad0e6"
      },
      "id": "OZ1u9YjndlLo",
      "execution_count": null,
      "outputs": [
        {
          "output_type": "display_data",
          "data": {
            "text/plain": [
              "tokenizer_config.json:   0%|          | 0.00/21.0k [00:00<?, ?B/s]"
            ],
            "application/vnd.jupyter.widget-view+json": {
              "version_major": 2,
              "version_minor": 0,
              "model_id": "fea49bff6aaf4f199bdba17876ac24d3"
            }
          },
          "metadata": {}
        },
        {
          "output_type": "display_data",
          "data": {
            "text/plain": [
              "tokenizer.json:   0%|          | 0.00/4.75M [00:00<?, ?B/s]"
            ],
            "application/vnd.jupyter.widget-view+json": {
              "version_major": 2,
              "version_minor": 0,
              "model_id": "c36c546ee49b4d108aa606315980d6ba"
            }
          },
          "metadata": {}
        },
        {
          "output_type": "display_data",
          "data": {
            "text/plain": [
              "special_tokens_map.json:   0%|          | 0.00/837 [00:00<?, ?B/s]"
            ],
            "application/vnd.jupyter.widget-view+json": {
              "version_major": 2,
              "version_minor": 0,
              "model_id": "8315a465df5148b0a1d8599fc44de8e3"
            }
          },
          "metadata": {}
        },
        {
          "output_type": "display_data",
          "data": {
            "text/plain": [
              "config.json:   0%|          | 0.00/2.19k [00:00<?, ?B/s]"
            ],
            "application/vnd.jupyter.widget-view+json": {
              "version_major": 2,
              "version_minor": 0,
              "model_id": "364d57e43a6845118155d2b0031fed27"
            }
          },
          "metadata": {}
        },
        {
          "output_type": "display_data",
          "data": {
            "text/plain": [
              "model.safetensors:   0%|          | 0.00/599M [00:00<?, ?B/s]"
            ],
            "application/vnd.jupyter.widget-view+json": {
              "version_major": 2,
              "version_minor": 0,
              "model_id": "f5fa97dc9f1342369bd4a0973cae7f9d"
            }
          },
          "metadata": {}
        }
      ]
    },
    {
      "cell_type": "code",
      "source": [
        "model = CLF(model_bert, len(label2id))\n",
        "optimizer = optim.Adam(model.parameters(), lr=2e-4)\n",
        "criterion = nn.NLLLoss()\n",
        "model = model.to(device)\n",
        "criterion = criterion.to(device)"
      ],
      "metadata": {
        "id": "KctdP22hd6c3"
      },
      "id": "KctdP22hd6c3",
      "execution_count": null,
      "outputs": []
    },
    {
      "cell_type": "code",
      "source": [
        "print(\"Percentage of trainable params:\")\n",
        "print('{0:.10f}'.format(sum(p.numel() for p in model.parameters() if p.requires_grad)/sum(p.numel() for p in model.parameters())))"
      ],
      "metadata": {
        "colab": {
          "base_uri": "https://localhost:8080/"
        },
        "id": "c3lHyKcgd7_h",
        "outputId": "b4d8ef45-3ffa-45dd-f17d-c8d712faf542"
      },
      "id": "c3lHyKcgd7_h",
      "execution_count": null,
      "outputs": [
        {
          "output_type": "stream",
          "name": "stdout",
          "text": [
            "Percentage of trainable params:\n",
            "1.0000000000\n"
          ]
        }
      ]
    },
    {
      "cell_type": "code",
      "source": [
        "f1s = []\n",
        "f1s_eval = []\n",
        "\n",
        "for i in range(30):\n",
        "    print(i)\n",
        "    f1s.append(train(model, training_generator, optimizer, criterion, 2000))\n",
        "    evl = evaluate(model, valid_generator, criterion)\n",
        "    print('Eval - ', evl)\n",
        "    f1s_eval.append(evl)"
      ],
      "metadata": {
        "colab": {
          "base_uri": "https://localhost:8080/"
        },
        "id": "0UUa4pT2d9hK",
        "outputId": "e6f1934a-3387-4890-938d-eabd7ffe7ffe"
      },
      "id": "0UUa4pT2d9hK",
      "execution_count": null,
      "outputs": [
        {
          "output_type": "stream",
          "name": "stdout",
          "text": [
            "0\n",
            "Eval -  0.0\n",
            "1\n",
            "Eval -  0.0967741935483871\n",
            "2\n",
            "Eval -  0.12903225806451613\n",
            "3\n",
            "Eval -  0.12903225806451613\n",
            "4\n",
            "Eval -  0.0967741935483871\n",
            "5\n",
            "Eval -  0.1935483870967742\n",
            "6\n",
            "Eval -  0.16129032258064516\n",
            "7\n",
            "Eval -  0.3225806451612903\n",
            "8\n",
            "Eval -  0.16129032258064516\n",
            "9\n",
            "Eval -  0.06451612903225806\n",
            "10\n",
            "Eval -  0.2903225806451613\n",
            "11\n",
            "Eval -  0.16129032258064516\n",
            "12\n",
            "Eval -  0.1935483870967742\n",
            "13\n",
            "Eval -  0.16129032258064516\n",
            "14\n",
            "Eval -  0.12903225806451613\n",
            "15\n",
            "Eval -  0.06451612903225806\n",
            "16\n",
            "Eval -  0.1935483870967742\n",
            "17\n",
            "Eval -  0.0967741935483871\n",
            "18\n",
            "Eval -  0.1935483870967742\n",
            "19\n",
            "Eval -  0.16129032258064516\n",
            "20\n",
            "Eval -  0.16129032258064516\n",
            "21\n",
            "Eval -  0.1935483870967742\n",
            "22\n",
            "Eval -  0.1935483870967742\n",
            "23\n",
            "Eval -  0.1935483870967742\n",
            "24\n",
            "Eval -  0.0967741935483871\n",
            "25\n",
            "Eval -  0.16129032258064516\n",
            "26\n",
            "Eval -  0.03225806451612903\n",
            "27\n",
            "Eval -  0.22580645161290322\n",
            "28\n",
            "Eval -  0.12903225806451613\n",
            "29\n",
            "Eval -  0.16129032258064516\n"
          ]
        }
      ]
    },
    {
      "cell_type": "code",
      "source": [
        "plt.plot(f1s)\n",
        "plt.plot(f1s_eval)\n",
        "plt.title('model f1 micro')\n",
        "plt.ylabel('f1')\n",
        "plt.xlabel('epoch')\n",
        "plt.legend(['train', 'val'], loc='upper left')\n",
        "plt.show()"
      ],
      "metadata": {
        "colab": {
          "base_uri": "https://localhost:8080/",
          "height": 472
        },
        "id": "7fFjb5lZd_EW",
        "outputId": "361bc0a9-192c-4326-b028-5f4f75be30ea"
      },
      "id": "7fFjb5lZd_EW",
      "execution_count": null,
      "outputs": [
        {
          "output_type": "display_data",
          "data": {
            "text/plain": [
              "<Figure size 640x480 with 1 Axes>"
            ],
            "image/png": "[encoded data removed]"
          },
          "metadata": {}
        }
      ]
    },
    {
      "cell_type": "code",
      "source": [
        "valid_generator = torch.utils.data.DataLoader(valid_set, batch_size=32, shuffle=False)\n",
        "preds = predict(model, valid_generator)"
      ],
      "metadata": {
        "id": "HGMsqBKleAiC"
      },
      "id": "HGMsqBKleAiC",
      "execution_count": null,
      "outputs": []
    },
    {
      "cell_type": "code",
      "source": [
        "print(classification_report(valid_targets, preds))"
      ],
      "metadata": {
        "colab": {
          "base_uri": "https://localhost:8080/"
        },
        "id": "tNRft0l7eCCo",
        "outputId": "6daada14-5c5c-48ff-be3d-fbf8241465e7"
      },
      "id": "tNRft0l7eCCo",
      "execution_count": null,
      "outputs": [
        {
          "output_type": "stream",
          "name": "stdout",
          "text": [
            "              precision    recall  f1-score   support\n",
            "\n",
            "           0       0.00      0.00      0.00         3\n",
            "           1       0.00      0.00      0.00         1\n",
            "           2       0.00      0.00      0.00         2\n",
            "           4       0.00      0.00      0.00         2\n",
            "           5       0.00      0.00      0.00         2\n",
            "           6       0.00      0.00      0.00         3\n",
            "           8       0.00      0.00      0.00         0\n",
            "           9       0.00      0.00      0.00         2\n",
            "          11       0.33      0.50      0.40         2\n",
            "          12       0.50      0.33      0.40         3\n",
            "          13       1.00      0.50      0.67         2\n",
            "          14       0.00      0.00      0.00         1\n",
            "          15       0.29      0.50      0.36         4\n",
            "          16       0.00      0.00      0.00         4\n",
            "\n",
            "    accuracy                           0.16        31\n",
            "   macro avg       0.15      0.13      0.13        31\n",
            "weighted avg       0.17      0.16      0.15        31\n",
            "\n"
          ]
        },
        {
          "output_type": "stream",
          "name": "stderr",
          "text": [
            "/usr/local/lib/python3.11/dist-packages/sklearn/metrics/_classification.py:1565: UndefinedMetricWarning: Precision is ill-defined and being set to 0.0 in labels with no predicted samples. Use `zero_division` parameter to control this behavior.\n",
            "  _warn_prf(average, modifier, f\"{metric.capitalize()} is\", len(result))\n",
            "/usr/local/lib/python3.11/dist-packages/sklearn/metrics/_classification.py:1565: UndefinedMetricWarning: Recall is ill-defined and being set to 0.0 in labels with no true samples. Use `zero_division` parameter to control this behavior.\n",
            "  _warn_prf(average, modifier, f\"{metric.capitalize()} is\", len(result))\n",
            "/usr/local/lib/python3.11/dist-packages/sklearn/metrics/_classification.py:1565: UndefinedMetricWarning: Precision is ill-defined and being set to 0.0 in labels with no predicted samples. Use `zero_division` parameter to control this behavior.\n",
            "  _warn_prf(average, modifier, f\"{metric.capitalize()} is\", len(result))\n",
            "/usr/local/lib/python3.11/dist-packages/sklearn/metrics/_classification.py:1565: UndefinedMetricWarning: Recall is ill-defined and being set to 0.0 in labels with no true samples. Use `zero_division` parameter to control this behavior.\n",
            "  _warn_prf(average, modifier, f\"{metric.capitalize()} is\", len(result))\n",
            "/usr/local/lib/python3.11/dist-packages/sklearn/metrics/_classification.py:1565: UndefinedMetricWarning: Precision is ill-defined and being set to 0.0 in labels with no predicted samples. Use `zero_division` parameter to control this behavior.\n",
            "  _warn_prf(average, modifier, f\"{metric.capitalize()} is\", len(result))\n",
            "/usr/local/lib/python3.11/dist-packages/sklearn/metrics/_classification.py:1565: UndefinedMetricWarning: Recall is ill-defined and being set to 0.0 in labels with no true samples. Use `zero_division` parameter to control this behavior.\n",
            "  _warn_prf(average, modifier, f\"{metric.capitalize()} is\", len(result))\n"
          ]
        }
      ]
    },
    {
      "cell_type": "markdown",
      "source": [
        "### RuModernBERT с заморозкой"
      ],
      "metadata": {
        "id": "gAaPCyDHeEIw"
      },
      "id": "gAaPCyDHeEIw"
    },
    {
      "cell_type": "code",
      "source": [
        "model_id = \"deepvk/RuModernBERT-base\"\n",
        "tokenizer = AutoTokenizer.from_pretrained(model_id)\n",
        "model_bert = AutoModel.from_pretrained(model_id)\n",
        "\n",
        "for param in model_bert.parameters():\n",
        "    param.requires_grad = False"
      ],
      "metadata": {
        "id": "OjL4udPLeGvn"
      },
      "id": "OjL4udPLeGvn",
      "execution_count": 62,
      "outputs": []
    },
    {
      "cell_type": "code",
      "source": [
        "model = CLF(model_bert, len(label2id))\n",
        "optimizer = optim.Adam(model.parameters(), lr=3e-4)\n",
        "criterion = nn.NLLLoss()\n",
        "model = model.to(device)\n",
        "criterion = criterion.to(device)"
      ],
      "metadata": {
        "id": "z5XQNOHdeLjf"
      },
      "id": "z5XQNOHdeLjf",
      "execution_count": 63,
      "outputs": []
    },
    {
      "cell_type": "code",
      "source": [
        "print(\"Percentage of trainable params:\")\n",
        "print('{0:.10f}'.format(sum(p.numel() for p in model.parameters() if p.requires_grad)/sum(p.numel() for p in model.parameters())))"
      ],
      "metadata": {
        "colab": {
          "base_uri": "https://localhost:8080/"
        },
        "id": "o2s-XVmEeM51",
        "outputId": "f1971017-c3ea-49f5-9da5-1e5061f8d665"
      },
      "id": "o2s-XVmEeM51",
      "execution_count": 64,
      "outputs": [
        {
          "output_type": "stream",
          "name": "stdout",
          "text": [
            "Percentage of trainable params:\n",
            "0.0000877222\n"
          ]
        }
      ]
    },
    {
      "cell_type": "code",
      "source": [
        "f1s = []\n",
        "f1s_eval = []\n",
        "\n",
        "for i in range(10):\n",
        "    print(i)\n",
        "    f1s.append(train(model, training_generator, optimizer, criterion, 2000))\n",
        "    evl = evaluate(model, valid_generator, criterion)\n",
        "    print('Eval - ', evl)\n",
        "    f1s_eval.append(evl)"
      ],
      "metadata": {
        "colab": {
          "base_uri": "https://localhost:8080/"
        },
        "id": "UDKfdnwkeGP4",
        "outputId": "ab90f8c9-22a6-4efd-f17c-bdaf71f76069"
      },
      "id": "UDKfdnwkeGP4",
      "execution_count": 65,
      "outputs": [
        {
          "output_type": "stream",
          "name": "stdout",
          "text": [
            "0\n",
            "Eval -  0.03125\n",
            "1\n",
            "Eval -  0.03333333333333333\n",
            "2\n",
            "Eval -  0.06666666666666667\n",
            "3\n",
            "Eval -  0.06458333333333333\n",
            "4\n",
            "Eval -  0.03333333333333333\n",
            "5\n",
            "Eval -  0.06666666666666667\n",
            "6\n",
            "Eval -  0.0625\n",
            "7\n",
            "Eval -  0.03125\n",
            "8\n",
            "Eval -  0.03125\n",
            "9\n",
            "Eval -  0.06458333333333333\n"
          ]
        }
      ]
    },
    {
      "cell_type": "code",
      "source": [
        "plt.plot(f1s)\n",
        "plt.plot(f1s_eval)\n",
        "plt.title('model f1 micro')\n",
        "plt.ylabel('f1')\n",
        "plt.xlabel('epoch')\n",
        "plt.legend(['train', 'val'], loc='upper left')\n",
        "plt.show()"
      ],
      "metadata": {
        "colab": {
          "base_uri": "https://localhost:8080/",
          "height": 472
        },
        "id": "fRhheomrePyT",
        "outputId": "4114b831-d0ca-4f2c-f0cf-c7d5de0eb0bb"
      },
      "id": "fRhheomrePyT",
      "execution_count": null,
      "outputs": [
        {
          "output_type": "display_data",
          "data": {
            "text/plain": [
              "<Figure size 640x480 with 1 Axes>"
            ],
            "image/png": "[encoded data removed]"
          },
          "metadata": {}
        }
      ]
    },
    {
      "cell_type": "code",
      "source": [
        "valid_generator = torch.utils.data.DataLoader(valid_set, batch_size=32, shuffle=False)\n",
        "preds = predict(model, valid_generator)"
      ],
      "metadata": {
        "id": "pN3TqEKSeRYE"
      },
      "id": "pN3TqEKSeRYE",
      "execution_count": null,
      "outputs": []
    },
    {
      "cell_type": "code",
      "source": [
        "print(classification_report(valid_targets, preds))"
      ],
      "metadata": {
        "colab": {
          "base_uri": "https://localhost:8080/"
        },
        "id": "K7Hly0o0eS4b",
        "outputId": "f5c314bf-c93d-478a-ff3e-2ce9b180d001"
      },
      "id": "K7Hly0o0eS4b",
      "execution_count": null,
      "outputs": [
        {
          "output_type": "stream",
          "name": "stdout",
          "text": [
            "              precision    recall  f1-score   support\n",
            "\n",
            "           0       0.00      0.00      0.00         3\n",
            "           1       0.00      0.00      0.00         1\n",
            "           2       0.00      0.00      0.00         2\n",
            "           4       0.00      0.00      0.00         2\n",
            "           5       0.00      0.00      0.00         2\n",
            "           6       0.40      0.67      0.50         3\n",
            "           9       0.00      0.00      0.00         2\n",
            "          11       0.00      0.00      0.00         2\n",
            "          12       0.00      0.00      0.00         3\n",
            "          13       0.08      1.00      0.14         2\n",
            "          14       0.00      0.00      0.00         1\n",
            "          15       0.00      0.00      0.00         4\n",
            "          16       0.00      0.00      0.00         4\n",
            "\n",
            "    accuracy                           0.13        31\n",
            "   macro avg       0.04      0.13      0.05        31\n",
            "weighted avg       0.04      0.13      0.06        31\n",
            "\n"
          ]
        },
        {
          "output_type": "stream",
          "name": "stderr",
          "text": [
            "/usr/local/lib/python3.11/dist-packages/sklearn/metrics/_classification.py:1565: UndefinedMetricWarning: Precision is ill-defined and being set to 0.0 in labels with no predicted samples. Use `zero_division` parameter to control this behavior.\n",
            "  _warn_prf(average, modifier, f\"{metric.capitalize()} is\", len(result))\n",
            "/usr/local/lib/python3.11/dist-packages/sklearn/metrics/_classification.py:1565: UndefinedMetricWarning: Precision is ill-defined and being set to 0.0 in labels with no predicted samples. Use `zero_division` parameter to control this behavior.\n",
            "  _warn_prf(average, modifier, f\"{metric.capitalize()} is\", len(result))\n",
            "/usr/local/lib/python3.11/dist-packages/sklearn/metrics/_classification.py:1565: UndefinedMetricWarning: Precision is ill-defined and being set to 0.0 in labels with no predicted samples. Use `zero_division` parameter to control this behavior.\n",
            "  _warn_prf(average, modifier, f\"{metric.capitalize()} is\", len(result))\n"
          ]
        }
      ]
    },
    {
      "cell_type": "markdown",
      "source": [
        "### RuModernBERT hidden states"
      ],
      "metadata": {
        "id": "RDA7FQsReU8x"
      },
      "id": "RDA7FQsReU8x"
    },
    {
      "cell_type": "markdown",
      "source": [
        "Без заморозки, так как результаты были лучше."
      ],
      "metadata": {
        "id": "yvGhI9GBH9lX"
      },
      "id": "yvGhI9GBH9lX"
    },
    {
      "cell_type": "code",
      "source": [
        "model_id = \"deepvk/RuModernBERT-base\"\n",
        "tokenizer = AutoTokenizer.from_pretrained(model_id)\n",
        "model_bert = AutoModel.from_pretrained(model_id)"
      ],
      "metadata": {
        "id": "nI8Tw8TTi96M"
      },
      "id": "nI8Tw8TTi96M",
      "execution_count": 67,
      "outputs": []
    },
    {
      "cell_type": "code",
      "source": [
        "training_set = Dataset(tokenizer, MAX_LEN, train_texts, train_targets)\n",
        "training_generator = torch.utils.data.DataLoader(training_set, batch_size=16, shuffle=True, )\n",
        "valid_set = Dataset(tokenizer, MAX_LEN, valid_texts, valid_targets)\n",
        "valid_generator = torch.utils.data.DataLoader(valid_set, batch_size=16, shuffle=True)"
      ],
      "metadata": {
        "id": "eZNfz96qJLmL"
      },
      "id": "eZNfz96qJLmL",
      "execution_count": 68,
      "outputs": []
    },
    {
      "cell_type": "code",
      "source": [
        "model = CLF_HS(model_bert, len(label2id))\n",
        "optimizer = optim.Adam(model.parameters(), lr=2e-4)\n",
        "criterion = nn.NLLLoss()\n",
        "model = model.to(device)\n",
        "criterion = criterion.to(device)"
      ],
      "metadata": {
        "id": "pEQ6mTFFjCYT"
      },
      "id": "pEQ6mTFFjCYT",
      "execution_count": 69,
      "outputs": []
    },
    {
      "cell_type": "code",
      "source": [
        "print(\"Percentage of trainable params:\")\n",
        "print('{0:.10f}'.format(sum(p.numel() for p in model.parameters() if p.requires_grad)/sum(p.numel() for p in model.parameters())))"
      ],
      "metadata": {
        "colab": {
          "base_uri": "https://localhost:8080/"
        },
        "id": "YuPEGMcAjLGu",
        "outputId": "68cfdef1-1f4f-44e4-bb0f-74f09a9a06f7"
      },
      "id": "YuPEGMcAjLGu",
      "execution_count": 70,
      "outputs": [
        {
          "output_type": "stream",
          "name": "stdout",
          "text": [
            "Percentage of trainable params:\n",
            "1.0000000000\n"
          ]
        }
      ]
    },
    {
      "cell_type": "code",
      "source": [
        "f1s = []\n",
        "f1s_eval = []\n",
        "\n",
        "for i in range(30):\n",
        "    print(i)\n",
        "    f1s.append(train(model, training_generator, optimizer, criterion, 2000))\n",
        "    evl = evaluate(model, valid_generator, criterion)\n",
        "    print('Eval - ', evl)\n",
        "    f1s_eval.append(evl)"
      ],
      "metadata": {
        "colab": {
          "base_uri": "https://localhost:8080/"
        },
        "id": "pKlK-2eviWwW",
        "outputId": "e949c8f9-d803-4b8a-8e44-5382d7345353"
      },
      "id": "pKlK-2eviWwW",
      "execution_count": 71,
      "outputs": [
        {
          "output_type": "stream",
          "name": "stdout",
          "text": [
            "0\n",
            "Eval -  0.2583333333333333\n",
            "1\n",
            "Eval -  0.4875\n",
            "2\n",
            "Eval -  0.6166666666666667\n",
            "3\n",
            "Eval -  0.7125\n",
            "4\n",
            "Eval -  0.7041666666666666\n",
            "5\n",
            "Eval -  0.65\n",
            "6\n",
            "Eval -  0.74375\n",
            "7\n",
            "Eval -  0.7416666666666667\n",
            "8\n",
            "Eval -  0.75\n",
            "9\n",
            "Eval -  0.6833333333333333\n",
            "10\n",
            "Eval -  0.74375\n",
            "11\n",
            "Eval -  0.8104166666666667\n",
            "12\n",
            "Eval -  0.74375\n",
            "13\n",
            "Eval -  0.775\n",
            "14\n",
            "Eval -  0.7416666666666667\n",
            "15\n",
            "Eval -  0.7145833333333333\n",
            "16\n",
            "Eval -  0.70625\n",
            "17\n",
            "Eval -  0.6458333333333333\n",
            "18\n",
            "Eval -  0.7104166666666667\n",
            "19\n",
            "Eval -  0.7104166666666667\n",
            "20\n",
            "Eval -  0.7145833333333333\n",
            "21\n",
            "Eval -  0.7083333333333333\n",
            "22\n",
            "Eval -  0.7104166666666667\n",
            "23\n",
            "Eval -  0.7104166666666667\n",
            "24\n",
            "Eval -  0.7083333333333333\n",
            "25\n",
            "Eval -  0.7104166666666667\n",
            "26\n",
            "Eval -  0.7104166666666667\n",
            "27\n",
            "Eval -  0.7125\n",
            "28\n",
            "Eval -  0.7125\n",
            "29\n",
            "Eval -  0.7104166666666667\n"
          ]
        }
      ]
    },
    {
      "cell_type": "code",
      "source": [
        "plt.plot(f1s)\n",
        "plt.plot(f1s_eval)\n",
        "plt.title('model f1 micro')\n",
        "plt.ylabel('f1')\n",
        "plt.xlabel('epoch')\n",
        "plt.legend(['train', 'val'], loc='upper left')\n",
        "plt.show()"
      ],
      "metadata": {
        "id": "7J0wCnYBjPr7",
        "colab": {
          "base_uri": "https://localhost:8080/",
          "height": 472
        },
        "outputId": "3367c190-54ea-4f0d-9596-cb3f39ef5aab"
      },
      "id": "7J0wCnYBjPr7",
      "execution_count": 72,
      "outputs": [
        {
          "output_type": "display_data",
          "data": {
            "text/plain": [
              "<Figure size 640x480 with 1 Axes>"
            ],
            "image/png": "[encoded data removed]"
          },
          "metadata": {}
        }
      ]
    },
    {
      "cell_type": "code",
      "source": [
        "valid_generator = torch.utils.data.DataLoader(valid_set, batch_size=32, shuffle=False)\n",
        "preds = predict(model, valid_generator)"
      ],
      "metadata": {
        "id": "hJ_YrENqjRIQ"
      },
      "id": "hJ_YrENqjRIQ",
      "execution_count": 73,
      "outputs": []
    },
    {
      "cell_type": "code",
      "source": [
        "print(classification_report(valid_targets, preds))"
      ],
      "metadata": {
        "id": "lQgjjAGXjT7q",
        "colab": {
          "base_uri": "https://localhost:8080/"
        },
        "outputId": "f298a062-70c6-41a7-ece1-650393778c3e"
      },
      "id": "lQgjjAGXjT7q",
      "execution_count": 74,
      "outputs": [
        {
          "output_type": "stream",
          "name": "stdout",
          "text": [
            "              precision    recall  f1-score   support\n",
            "\n",
            "           0       0.33      1.00      0.50         1\n",
            "           1       0.40      0.67      0.50         3\n",
            "           2       0.00      0.00      0.00         1\n",
            "           4       0.00      0.00      0.00         1\n",
            "           5       1.00      1.00      1.00         1\n",
            "           6       0.50      1.00      0.67         1\n",
            "           7       1.00      1.00      1.00         1\n",
            "           8       1.00      1.00      1.00         3\n",
            "           9       1.00      1.00      1.00         1\n",
            "          10       0.80      0.67      0.73         6\n",
            "          11       0.75      1.00      0.86         3\n",
            "          13       1.00      1.00      1.00         1\n",
            "          14       1.00      0.50      0.67         2\n",
            "          15       1.00      0.33      0.50         3\n",
            "          16       1.00      0.67      0.80         3\n",
            "\n",
            "    accuracy                           0.71        31\n",
            "   macro avg       0.72      0.72      0.68        31\n",
            "weighted avg       0.78      0.71      0.70        31\n",
            "\n"
          ]
        },
        {
          "output_type": "stream",
          "name": "stderr",
          "text": [
            "/usr/local/lib/python3.11/dist-packages/sklearn/metrics/_classification.py:1565: UndefinedMetricWarning: Precision is ill-defined and being set to 0.0 in labels with no predicted samples. Use `zero_division` parameter to control this behavior.\n",
            "  _warn_prf(average, modifier, f\"{metric.capitalize()} is\", len(result))\n",
            "/usr/local/lib/python3.11/dist-packages/sklearn/metrics/_classification.py:1565: UndefinedMetricWarning: Precision is ill-defined and being set to 0.0 in labels with no predicted samples. Use `zero_division` parameter to control this behavior.\n",
            "  _warn_prf(average, modifier, f\"{metric.capitalize()} is\", len(result))\n",
            "/usr/local/lib/python3.11/dist-packages/sklearn/metrics/_classification.py:1565: UndefinedMetricWarning: Precision is ill-defined and being set to 0.0 in labels with no predicted samples. Use `zero_division` parameter to control this behavior.\n",
            "  _warn_prf(average, modifier, f\"{metric.capitalize()} is\", len(result))\n"
          ]
        }
      ]
    },
    {
      "cell_type": "markdown",
      "source": [
        "RuModernBERT показывает качество хуже, особенно с заморозкой, как бы я не пыталась выбить качество больше 0.1, у меня не получилось... ModernBERT показал себя примерно одинаково, но без заморозки немного лучше. Лучше всего получилась RuModernBERT с hidden states, она показала результаты намного лучше."
      ],
      "metadata": {
        "id": "0wzUGT7GiX6k"
      },
      "id": "0wzUGT7GiX6k"
    }
  ],
  "metadata": {
    "kernelspec": {
      "display_name": "Python 3",
      "name": "python3"
    },
    "language_info": {
      "codemirror_mode": {
        "name": "ipython",
        "version": 3
      },
      "file_extension": ".py",
      "mimetype": "text/x-python",
      "name": "python",
      "nbconvert_exporter": "python",
      "pygments_lexer": "ipython3",
      "version": "3.9.16"
    },
    "colab": {
      "provenance": [],
      "gpuType": "T4"
    },
    "accelerator": "GPU",
    "widgets": {
      "application/vnd.jupyter.widget-state+json": {
        "fea49bff6aaf4f199bdba17876ac24d3": {
          "model_module": "@jupyter-widgets/controls",
          "model_name": "HBoxModel",
          "model_module_version": "1.5.0",
          "state": {
            "_dom_classes": [],
            "_model_module": "@jupyter-widgets/controls",
            "_model_module_version": "1.5.0",
            "_model_name": "HBoxModel",
            "_view_count": null,
            "_view_module": "@jupyter-widgets/controls",
            "_view_module_version": "1.5.0",
            "_view_name": "HBoxView",
            "box_style": "",
            "children": [
              "IPY_MODEL_639b5e2932224773a293b5274e1a5b69",
              "IPY_MODEL_f41c69ea63a647c38d9e3843d6b03bae",
              "IPY_MODEL_6c5384001f1742a6b82c8a07060af6c5"
            ],
            "layout": "IPY_MODEL_46c60ba415764f479a8d497690941bb7"
          }
        },
        "639b5e2932224773a293b5274e1a5b69": {
          "model_module": "@jupyter-widgets/controls",
          "model_name": "HTMLModel",
          "model_module_version": "1.5.0",
          "state": {
            "_dom_classes": [],
            "_model_module": "@jupyter-widgets/controls",
            "_model_module_version": "1.5.0",
            "_model_name": "HTMLModel",
            "_view_count": null,
            "_view_module": "@jupyter-widgets/controls",
            "_view_module_version": "1.5.0",
            "_view_name": "HTMLView",
            "description": "",
            "description_tooltip": null,
            "layout": "IPY_MODEL_7bef395b63554a289cc7511881b6bd21",
            "placeholder": "​",
            "style": "IPY_MODEL_ac6489d3429f4261936cdc43310c6fc5",
            "value": "tokenizer_config.json: 100%"
          }
        },
        "f41c69ea63a647c38d9e3843d6b03bae": {
          "model_module": "@jupyter-widgets/controls",
          "model_name": "FloatProgressModel",
          "model_module_version": "1.5.0",
          "state": {
            "_dom_classes": [],
            "_model_module": "@jupyter-widgets/controls",
            "_model_module_version": "1.5.0",
            "_model_name": "FloatProgressModel",
            "_view_count": null,
            "_view_module": "@jupyter-widgets/controls",
            "_view_module_version": "1.5.0",
            "_view_name": "ProgressView",
            "bar_style": "success",
            "description": "",
            "description_tooltip": null,
            "layout": "IPY_MODEL_4d75dc838c7f4342871e6f29b74bc530",
            "max": 20990,
            "min": 0,
            "orientation": "horizontal",
            "style": "IPY_MODEL_09558bd764fd4b368043840dfaa8d0cf",
            "value": 20990
          }
        },
        "6c5384001f1742a6b82c8a07060af6c5": {
          "model_module": "@jupyter-widgets/controls",
          "model_name": "HTMLModel",
          "model_module_version": "1.5.0",
          "state": {
            "_dom_classes": [],
            "_model_module": "@jupyter-widgets/controls",
            "_model_module_version": "1.5.0",
            "_model_name": "HTMLModel",
            "_view_count": null,
            "_view_module": "@jupyter-widgets/controls",
            "_view_module_version": "1.5.0",
            "_view_name": "HTMLView",
            "description": "",
            "description_tooltip": null,
            "layout": "IPY_MODEL_df19ccf1975c4b0db9b6e34fb8428128",
            "placeholder": "​",
            "style": "IPY_MODEL_3b96a3c18c6d4541983df95b26b1c26a",
            "value": " 21.0k/21.0k [00:00&lt;00:00, 1.35MB/s]"
          }
        },
        "46c60ba415764f479a8d497690941bb7": {
          "model_module": "@jupyter-widgets/base",
          "model_name": "LayoutModel",
          "model_module_version": "1.2.0",
          "state": {
            "_model_module": "@jupyter-widgets/base",
            "_model_module_version": "1.2.0",
            "_model_name": "LayoutModel",
            "_view_count": null,
            "_view_module": "@jupyter-widgets/base",
            "_view_module_version": "1.2.0",
            "_view_name": "LayoutView",
            "align_content": null,
            "align_items": null,
            "align_self": null,
            "border": null,
            "bottom": null,
            "display": null,
            "flex": null,
            "flex_flow": null,
            "grid_area": null,
            "grid_auto_columns": null,
            "grid_auto_flow": null,
            "grid_auto_rows": null,
            "grid_column": null,
            "grid_gap": null,
            "grid_row": null,
            "grid_template_areas": null,
            "grid_template_columns": null,
            "grid_template_rows": null,
            "height": null,
            "justify_content": null,
            "justify_items": null,
            "left": null,
            "margin": null,
            "max_height": null,
            "max_width": null,
            "min_height": null,
            "min_width": null,
            "object_fit": null,
            "object_position": null,
            "order": null,
            "overflow": null,
            "overflow_x": null,
            "overflow_y": null,
            "padding": null,
            "right": null,
            "top": null,
            "visibility": null,
            "width": null
          }
        },
        "7bef395b63554a289cc7511881b6bd21": {
          "model_module": "@jupyter-widgets/base",
          "model_name": "LayoutModel",
          "model_module_version": "1.2.0",
          "state": {
            "_model_module": "@jupyter-widgets/base",
            "_model_module_version": "1.2.0",
            "_model_name": "LayoutModel",
            "_view_count": null,
            "_view_module": "@jupyter-widgets/base",
            "_view_module_version": "1.2.0",
            "_view_name": "LayoutView",
            "align_content": null,
            "align_items": null,
            "align_self": null,
            "border": null,
            "bottom": null,
            "display": null,
            "flex": null,
            "flex_flow": null,
            "grid_area": null,
            "grid_auto_columns": null,
            "grid_auto_flow": null,
            "grid_auto_rows": null,
            "grid_column": null,
            "grid_gap": null,
            "grid_row": null,
            "grid_template_areas": null,
            "grid_template_columns": null,
            "grid_template_rows": null,
            "height": null,
            "justify_content": null,
            "justify_items": null,
            "left": null,
            "margin": null,
            "max_height": null,
            "max_width": null,
            "min_height": null,
            "min_width": null,
            "object_fit": null,
            "object_position": null,
            "order": null,
            "overflow": null,
            "overflow_x": null,
            "overflow_y": null,
            "padding": null,
            "right": null,
            "top": null,
            "visibility": null,
            "width": null
          }
        },
        "ac6489d3429f4261936cdc43310c6fc5": {
          "model_module": "@jupyter-widgets/controls",
          "model_name": "DescriptionStyleModel",
          "model_module_version": "1.5.0",
          "state": {
            "_model_module": "@jupyter-widgets/controls",
            "_model_module_version": "1.5.0",
            "_model_name": "DescriptionStyleModel",
            "_view_count": null,
            "_view_module": "@jupyter-widgets/base",
            "_view_module_version": "1.2.0",
            "_view_name": "StyleView",
            "description_width": ""
          }
        },
        "4d75dc838c7f4342871e6f29b74bc530": {
          "model_module": "@jupyter-widgets/base",
          "model_name": "LayoutModel",
          "model_module_version": "1.2.0",
          "state": {
            "_model_module": "@jupyter-widgets/base",
            "_model_module_version": "1.2.0",
            "_model_name": "LayoutModel",
            "_view_count": null,
            "_view_module": "@jupyter-widgets/base",
            "_view_module_version": "1.2.0",
            "_view_name": "LayoutView",
            "align_content": null,
            "align_items": null,
            "align_self": null,
            "border": null,
            "bottom": null,
            "display": null,
            "flex": null,
            "flex_flow": null,
            "grid_area": null,
            "grid_auto_columns": null,
            "grid_auto_flow": null,
            "grid_auto_rows": null,
            "grid_column": null,
            "grid_gap": null,
            "grid_row": null,
            "grid_template_areas": null,
            "grid_template_columns": null,
            "grid_template_rows": null,
            "height": null,
            "justify_content": null,
            "justify_items": null,
            "left": null,
            "margin": null,
            "max_height": null,
            "max_width": null,
            "min_height": null,
            "min_width": null,
            "object_fit": null,
            "object_position": null,
            "order": null,
            "overflow": null,
            "overflow_x": null,
            "overflow_y": null,
            "padding": null,
            "right": null,
            "top": null,
            "visibility": null,
            "width": null
          }
        },
        "09558bd764fd4b368043840dfaa8d0cf": {
          "model_module": "@jupyter-widgets/controls",
          "model_name": "ProgressStyleModel",
          "model_module_version": "1.5.0",
          "state": {
            "_model_module": "@jupyter-widgets/controls",
            "_model_module_version": "1.5.0",
            "_model_name": "ProgressStyleModel",
            "_view_count": null,
            "_view_module": "@jupyter-widgets/base",
            "_view_module_version": "1.2.0",
            "_view_name": "StyleView",
            "bar_color": null,
            "description_width": ""
          }
        },
        "df19ccf1975c4b0db9b6e34fb8428128": {
          "model_module": "@jupyter-widgets/base",
          "model_name": "LayoutModel",
          "model_module_version": "1.2.0",
          "state": {
            "_model_module": "@jupyter-widgets/base",
            "_model_module_version": "1.2.0",
            "_model_name": "LayoutModel",
            "_view_count": null,
            "_view_module": "@jupyter-widgets/base",
            "_view_module_version": "1.2.0",
            "_view_name": "LayoutView",
            "align_content": null,
            "align_items": null,
            "align_self": null,
            "border": null,
            "bottom": null,
            "display": null,
            "flex": null,
            "flex_flow": null,
            "grid_area": null,
            "grid_auto_columns": null,
            "grid_auto_flow": null,
            "grid_auto_rows": null,
            "grid_column": null,
            "grid_gap": null,
            "grid_row": null,
            "grid_template_areas": null,
            "grid_template_columns": null,
            "grid_template_rows": null,
            "height": null,
            "justify_content": null,
            "justify_items": null,
            "left": null,
            "margin": null,
            "max_height": null,
            "max_width": null,
            "min_height": null,
            "min_width": null,
            "object_fit": null,
            "object_position": null,
            "order": null,
            "overflow": null,
            "overflow_x": null,
            "overflow_y": null,
            "padding": null,
            "right": null,
            "top": null,
            "visibility": null,
            "width": null
          }
        },
        "3b96a3c18c6d4541983df95b26b1c26a": {
          "model_module": "@jupyter-widgets/controls",
          "model_name": "DescriptionStyleModel",
          "model_module_version": "1.5.0",
          "state": {
            "_model_module": "@jupyter-widgets/controls",
            "_model_module_version": "1.5.0",
            "_model_name": "DescriptionStyleModel",
            "_view_count": null,
            "_view_module": "@jupyter-widgets/base",
            "_view_module_version": "1.2.0",
            "_view_name": "StyleView",
            "description_width": ""
          }
        },
        "c36c546ee49b4d108aa606315980d6ba": {
          "model_module": "@jupyter-widgets/controls",
          "model_name": "HBoxModel",
          "model_module_version": "1.5.0",
          "state": {
            "_dom_classes": [],
            "_model_module": "@jupyter-widgets/controls",
            "_model_module_version": "1.5.0",
            "_model_name": "HBoxModel",
            "_view_count": null,
            "_view_module": "@jupyter-widgets/controls",
            "_view_module_version": "1.5.0",
            "_view_name": "HBoxView",
            "box_style": "",
            "children": [
              "IPY_MODEL_aef0645ef9284131badaaaa91ca747ff",
              "IPY_MODEL_ed20bae292ed4864abf6596e6a7d13df",
              "IPY_MODEL_2860c6b8bc604ab68a648a62fa6d25c8"
            ],
            "layout": "IPY_MODEL_327d13500812439884a637c8ad27b88d"
          }
        },
        "aef0645ef9284131badaaaa91ca747ff": {
          "model_module": "@jupyter-widgets/controls",
          "model_name": "HTMLModel",
          "model_module_version": "1.5.0",
          "state": {
            "_dom_classes": [],
            "_model_module": "@jupyter-widgets/controls",
            "_model_module_version": "1.5.0",
            "_model_name": "HTMLModel",
            "_view_count": null,
            "_view_module": "@jupyter-widgets/controls",
            "_view_module_version": "1.5.0",
            "_view_name": "HTMLView",
            "description": "",
            "description_tooltip": null,
            "layout": "IPY_MODEL_beefbc76c0fe4e6db47bb19c5a2131e5",
            "placeholder": "​",
            "style": "IPY_MODEL_8ca26d9b719b4cefadb8b20cdb8bc2eb",
            "value": "tokenizer.json: 100%"
          }
        },
        "ed20bae292ed4864abf6596e6a7d13df": {
          "model_module": "@jupyter-widgets/controls",
          "model_name": "FloatProgressModel",
          "model_module_version": "1.5.0",
          "state": {
            "_dom_classes": [],
            "_model_module": "@jupyter-widgets/controls",
            "_model_module_version": "1.5.0",
            "_model_name": "FloatProgressModel",
            "_view_count": null,
            "_view_module": "@jupyter-widgets/controls",
            "_view_module_version": "1.5.0",
            "_view_name": "ProgressView",
            "bar_style": "success",
            "description": "",
            "description_tooltip": null,
            "layout": "IPY_MODEL_aa3e5106887e48e09f01ba29d3cff9e7",
            "max": 4753266,
            "min": 0,
            "orientation": "horizontal",
            "style": "IPY_MODEL_6ab88bbe17f04be1bae598d4d40ca47a",
            "value": 4753266
          }
        },
        "2860c6b8bc604ab68a648a62fa6d25c8": {
          "model_module": "@jupyter-widgets/controls",
          "model_name": "HTMLModel",
          "model_module_version": "1.5.0",
          "state": {
            "_dom_classes": [],
            "_model_module": "@jupyter-widgets/controls",
            "_model_module_version": "1.5.0",
            "_model_name": "HTMLModel",
            "_view_count": null,
            "_view_module": "@jupyter-widgets/controls",
            "_view_module_version": "1.5.0",
            "_view_name": "HTMLView",
            "description": "",
            "description_tooltip": null,
            "layout": "IPY_MODEL_190c13a3239a4d2788706eccaeb71236",
            "placeholder": "​",
            "style": "IPY_MODEL_226f267bc9d24a019a3e394b7fac56fd",
            "value": " 4.75M/4.75M [00:00&lt;00:00, 10.1MB/s]"
          }
        },
        "327d13500812439884a637c8ad27b88d": {
          "model_module": "@jupyter-widgets/base",
          "model_name": "LayoutModel",
          "model_module_version": "1.2.0",
          "state": {
            "_model_module": "@jupyter-widgets/base",
            "_model_module_version": "1.2.0",
            "_model_name": "LayoutModel",
            "_view_count": null,
            "_view_module": "@jupyter-widgets/base",
            "_view_module_version": "1.2.0",
            "_view_name": "LayoutView",
            "align_content": null,
            "align_items": null,
            "align_self": null,
            "border": null,
            "bottom": null,
            "display": null,
            "flex": null,
            "flex_flow": null,
            "grid_area": null,
            "grid_auto_columns": null,
            "grid_auto_flow": null,
            "grid_auto_rows": null,
            "grid_column": null,
            "grid_gap": null,
            "grid_row": null,
            "grid_template_areas": null,
            "grid_template_columns": null,
            "grid_template_rows": null,
            "height": null,
            "justify_content": null,
            "justify_items": null,
            "left": null,
            "margin": null,
            "max_height": null,
            "max_width": null,
            "min_height": null,
            "min_width": null,
            "object_fit": null,
            "object_position": null,
            "order": null,
            "overflow": null,
            "overflow_x": null,
            "overflow_y": null,
            "padding": null,
            "right": null,
            "top": null,
            "visibility": null,
            "width": null
          }
        },
        "beefbc76c0fe4e6db47bb19c5a2131e5": {
          "model_module": "@jupyter-widgets/base",
          "model_name": "LayoutModel",
          "model_module_version": "1.2.0",
          "state": {
            "_model_module": "@jupyter-widgets/base",
            "_model_module_version": "1.2.0",
            "_model_name": "LayoutModel",
            "_view_count": null,
            "_view_module": "@jupyter-widgets/base",
            "_view_module_version": "1.2.0",
            "_view_name": "LayoutView",
            "align_content": null,
            "align_items": null,
            "align_self": null,
            "border": null,
            "bottom": null,
            "display": null,
            "flex": null,
            "flex_flow": null,
            "grid_area": null,
            "grid_auto_columns": null,
            "grid_auto_flow": null,
            "grid_auto_rows": null,
            "grid_column": null,
            "grid_gap": null,
            "grid_row": null,
            "grid_template_areas": null,
            "grid_template_columns": null,
            "grid_template_rows": null,
            "height": null,
            "justify_content": null,
            "justify_items": null,
            "left": null,
            "margin": null,
            "max_height": null,
            "max_width": null,
            "min_height": null,
            "min_width": null,
            "object_fit": null,
            "object_position": null,
            "order": null,
            "overflow": null,
            "overflow_x": null,
            "overflow_y": null,
            "padding": null,
            "right": null,
            "top": null,
            "visibility": null,
            "width": null
          }
        },
        "8ca26d9b719b4cefadb8b20cdb8bc2eb": {
          "model_module": "@jupyter-widgets/controls",
          "model_name": "DescriptionStyleModel",
          "model_module_version": "1.5.0",
          "state": {
            "_model_module": "@jupyter-widgets/controls",
            "_model_module_version": "1.5.0",
            "_model_name": "DescriptionStyleModel",
            "_view_count": null,
            "_view_module": "@jupyter-widgets/base",
            "_view_module_version": "1.2.0",
            "_view_name": "StyleView",
            "description_width": ""
          }
        },
        "aa3e5106887e48e09f01ba29d3cff9e7": {
          "model_module": "@jupyter-widgets/base",
          "model_name": "LayoutModel",
          "model_module_version": "1.2.0",
          "state": {
            "_model_module": "@jupyter-widgets/base",
            "_model_module_version": "1.2.0",
            "_model_name": "LayoutModel",
            "_view_count": null,
            "_view_module": "@jupyter-widgets/base",
            "_view_module_version": "1.2.0",
            "_view_name": "LayoutView",
            "align_content": null,
            "align_items": null,
            "align_self": null,
            "border": null,
            "bottom": null,
            "display": null,
            "flex": null,
            "flex_flow": null,
            "grid_area": null,
            "grid_auto_columns": null,
            "grid_auto_flow": null,
            "grid_auto_rows": null,
            "grid_column": null,
            "grid_gap": null,
            "grid_row": null,
            "grid_template_areas": null,
            "grid_template_columns": null,
            "grid_template_rows": null,
            "height": null,
            "justify_content": null,
            "justify_items": null,
            "left": null,
            "margin": null,
            "max_height": null,
            "max_width": null,
            "min_height": null,
            "min_width": null,
            "object_fit": null,
            "object_position": null,
            "order": null,
            "overflow": null,
            "overflow_x": null,
            "overflow_y": null,
            "padding": null,
            "right": null,
            "top": null,
            "visibility": null,
            "width": null
          }
        },
        "6ab88bbe17f04be1bae598d4d40ca47a": {
          "model_module": "@jupyter-widgets/controls",
          "model_name": "ProgressStyleModel",
          "model_module_version": "1.5.0",
          "state": {
            "_model_module": "@jupyter-widgets/controls",
            "_model_module_version": "1.5.0",
            "_model_name": "ProgressStyleModel",
            "_view_count": null,
            "_view_module": "@jupyter-widgets/base",
            "_view_module_version": "1.2.0",
            "_view_name": "StyleView",
            "bar_color": null,
            "description_width": ""
          }
        },
        "190c13a3239a4d2788706eccaeb71236": {
          "model_module": "@jupyter-widgets/base",
          "model_name": "LayoutModel",
          "model_module_version": "1.2.0",
          "state": {
            "_model_module": "@jupyter-widgets/base",
            "_model_module_version": "1.2.0",
            "_model_name": "LayoutModel",
            "_view_count": null,
            "_view_module": "@jupyter-widgets/base",
            "_view_module_version": "1.2.0",
            "_view_name": "LayoutView",
            "align_content": null,
            "align_items": null,
            "align_self": null,
            "border": null,
            "bottom": null,
            "display": null,
            "flex": null,
            "flex_flow": null,
            "grid_area": null,
            "grid_auto_columns": null,
            "grid_auto_flow": null,
            "grid_auto_rows": null,
            "grid_column": null,
            "grid_gap": null,
            "grid_row": null,
            "grid_template_areas": null,
            "grid_template_columns": null,
            "grid_template_rows": null,
            "height": null,
            "justify_content": null,
            "justify_items": null,
            "left": null,
            "margin": null,
            "max_height": null,
            "max_width": null,
            "min_height": null,
            "min_width": null,
            "object_fit": null,
            "object_position": null,
            "order": null,
            "overflow": null,
            "overflow_x": null,
            "overflow_y": null,
            "padding": null,
            "right": null,
            "top": null,
            "visibility": null,
            "width": null
          }
        },
        "226f267bc9d24a019a3e394b7fac56fd": {
          "model_module": "@jupyter-widgets/controls",
          "model_name": "DescriptionStyleModel",
          "model_module_version": "1.5.0",
          "state": {
            "_model_module": "@jupyter-widgets/controls",
            "_model_module_version": "1.5.0",
            "_model_name": "DescriptionStyleModel",
            "_view_count": null,
            "_view_module": "@jupyter-widgets/base",
            "_view_module_version": "1.2.0",
            "_view_name": "StyleView",
            "description_width": ""
          }
        },
        "8315a465df5148b0a1d8599fc44de8e3": {
          "model_module": "@jupyter-widgets/controls",
          "model_name": "HBoxModel",
          "model_module_version": "1.5.0",
          "state": {
            "_dom_classes": [],
            "_model_module": "@jupyter-widgets/controls",
            "_model_module_version": "1.5.0",
            "_model_name": "HBoxModel",
            "_view_count": null,
            "_view_module": "@jupyter-widgets/controls",
            "_view_module_version": "1.5.0",
            "_view_name": "HBoxView",
            "box_style": "",
            "children": [
              "IPY_MODEL_367bd88858b542058e311eb2ae82d6bc",
              "IPY_MODEL_42672844301f4c92bb8bc5911502d2da",
              "IPY_MODEL_32a3b330dcb14bae8893b4ceac16ea7b"
            ],
            "layout": "IPY_MODEL_76e63d45f18a4f739ad33c3a6495d04d"
          }
        },
        "367bd88858b542058e311eb2ae82d6bc": {
          "model_module": "@jupyter-widgets/controls",
          "model_name": "HTMLModel",
          "model_module_version": "1.5.0",
          "state": {
            "_dom_classes": [],
            "_model_module": "@jupyter-widgets/controls",
            "_model_module_version": "1.5.0",
            "_model_name": "HTMLModel",
            "_view_count": null,
            "_view_module": "@jupyter-widgets/controls",
            "_view_module_version": "1.5.0",
            "_view_name": "HTMLView",
            "description": "",
            "description_tooltip": null,
            "layout": "IPY_MODEL_4e3f98b2505c4fc4a994e971d961e022",
            "placeholder": "​",
            "style": "IPY_MODEL_efb8e121f0c641e9b2f1e5c908233e0b",
            "value": "special_tokens_map.json: 100%"
          }
        },
        "42672844301f4c92bb8bc5911502d2da": {
          "model_module": "@jupyter-widgets/controls",
          "model_name": "FloatProgressModel",
          "model_module_version": "1.5.0",
          "state": {
            "_dom_classes": [],
            "_model_module": "@jupyter-widgets/controls",
            "_model_module_version": "1.5.0",
            "_model_name": "FloatProgressModel",
            "_view_count": null,
            "_view_module": "@jupyter-widgets/controls",
            "_view_module_version": "1.5.0",
            "_view_name": "ProgressView",
            "bar_style": "success",
            "description": "",
            "description_tooltip": null,
            "layout": "IPY_MODEL_c780dc96293d43bb90a39ba9cfa62d1f",
            "max": 837,
            "min": 0,
            "orientation": "horizontal",
            "style": "IPY_MODEL_a52a1f3ac3654bb09cdc4aaebcad2aa7",
            "value": 837
          }
        },
        "32a3b330dcb14bae8893b4ceac16ea7b": {
          "model_module": "@jupyter-widgets/controls",
          "model_name": "HTMLModel",
          "model_module_version": "1.5.0",
          "state": {
            "_dom_classes": [],
            "_model_module": "@jupyter-widgets/controls",
            "_model_module_version": "1.5.0",
            "_model_name": "HTMLModel",
            "_view_count": null,
            "_view_module": "@jupyter-widgets/controls",
            "_view_module_version": "1.5.0",
            "_view_name": "HTMLView",
            "description": "",
            "description_tooltip": null,
            "layout": "IPY_MODEL_7aa50be64b974fbbaa6e74ceeebbed48",
            "placeholder": "​",
            "style": "IPY_MODEL_3af828d252a8486a8ac0acd1e1ccca68",
            "value": " 837/837 [00:00&lt;00:00, 86.3kB/s]"
          }
        },
        "76e63d45f18a4f739ad33c3a6495d04d": {
          "model_module": "@jupyter-widgets/base",
          "model_name": "LayoutModel",
          "model_module_version": "1.2.0",
          "state": {
            "_model_module": "@jupyter-widgets/base",
            "_model_module_version": "1.2.0",
            "_model_name": "LayoutModel",
            "_view_count": null,
            "_view_module": "@jupyter-widgets/base",
            "_view_module_version": "1.2.0",
            "_view_name": "LayoutView",
            "align_content": null,
            "align_items": null,
            "align_self": null,
            "border": null,
            "bottom": null,
            "display": null,
            "flex": null,
            "flex_flow": null,
            "grid_area": null,
            "grid_auto_columns": null,
            "grid_auto_flow": null,
            "grid_auto_rows": null,
            "grid_column": null,
            "grid_gap": null,
            "grid_row": null,
            "grid_template_areas": null,
            "grid_template_columns": null,
            "grid_template_rows": null,
            "height": null,
            "justify_content": null,
            "justify_items": null,
            "left": null,
            "margin": null,
            "max_height": null,
            "max_width": null,
            "min_height": null,
            "min_width": null,
            "object_fit": null,
            "object_position": null,
            "order": null,
            "overflow": null,
            "overflow_x": null,
            "overflow_y": null,
            "padding": null,
            "right": null,
            "top": null,
            "visibility": null,
            "width": null
          }
        },
        "4e3f98b2505c4fc4a994e971d961e022": {
          "model_module": "@jupyter-widgets/base",
          "model_name": "LayoutModel",
          "model_module_version": "1.2.0",
          "state": {
            "_model_module": "@jupyter-widgets/base",
            "_model_module_version": "1.2.0",
            "_model_name": "LayoutModel",
            "_view_count": null,
            "_view_module": "@jupyter-widgets/base",
            "_view_module_version": "1.2.0",
            "_view_name": "LayoutView",
            "align_content": null,
            "align_items": null,
            "align_self": null,
            "border": null,
            "bottom": null,
            "display": null,
            "flex": null,
            "flex_flow": null,
            "grid_area": null,
            "grid_auto_columns": null,
            "grid_auto_flow": null,
            "grid_auto_rows": null,
            "grid_column": null,
            "grid_gap": null,
            "grid_row": null,
            "grid_template_areas": null,
            "grid_template_columns": null,
            "grid_template_rows": null,
            "height": null,
            "justify_content": null,
            "justify_items": null,
            "left": null,
            "margin": null,
            "max_height": null,
            "max_width": null,
            "min_height": null,
            "min_width": null,
            "object_fit": null,
            "object_position": null,
            "order": null,
            "overflow": null,
            "overflow_x": null,
            "overflow_y": null,
            "padding": null,
            "right": null,
            "top": null,
            "visibility": null,
            "width": null
          }
        },
        "efb8e121f0c641e9b2f1e5c908233e0b": {
          "model_module": "@jupyter-widgets/controls",
          "model_name": "DescriptionStyleModel",
          "model_module_version": "1.5.0",
          "state": {
            "_model_module": "@jupyter-widgets/controls",
            "_model_module_version": "1.5.0",
            "_model_name": "DescriptionStyleModel",
            "_view_count": null,
            "_view_module": "@jupyter-widgets/base",
            "_view_module_version": "1.2.0",
            "_view_name": "StyleView",
            "description_width": ""
          }
        },
        "c780dc96293d43bb90a39ba9cfa62d1f": {
          "model_module": "@jupyter-widgets/base",
          "model_name": "LayoutModel",
          "model_module_version": "1.2.0",
          "state": {
            "_model_module": "@jupyter-widgets/base",
            "_model_module_version": "1.2.0",
            "_model_name": "LayoutModel",
            "_view_count": null,
            "_view_module": "@jupyter-widgets/base",
            "_view_module_version": "1.2.0",
            "_view_name": "LayoutView",
            "align_content": null,
            "align_items": null,
            "align_self": null,
            "border": null,
            "bottom": null,
            "display": null,
            "flex": null,
            "flex_flow": null,
            "grid_area": null,
            "grid_auto_columns": null,
            "grid_auto_flow": null,
            "grid_auto_rows": null,
            "grid_column": null,
            "grid_gap": null,
            "grid_row": null,
            "grid_template_areas": null,
            "grid_template_columns": null,
            "grid_template_rows": null,
            "height": null,
            "justify_content": null,
            "justify_items": null,
            "left": null,
            "margin": null,
            "max_height": null,
            "max_width": null,
            "min_height": null,
            "min_width": null,
            "object_fit": null,
            "object_position": null,
            "order": null,
            "overflow": null,
            "overflow_x": null,
            "overflow_y": null,
            "padding": null,
            "right": null,
            "top": null,
            "visibility": null,
            "width": null
          }
        },
        "a52a1f3ac3654bb09cdc4aaebcad2aa7": {
          "model_module": "@jupyter-widgets/controls",
          "model_name": "ProgressStyleModel",
          "model_module_version": "1.5.0",
          "state": {
            "_model_module": "@jupyter-widgets/controls",
            "_model_module_version": "1.5.0",
            "_model_name": "ProgressStyleModel",
            "_view_count": null,
            "_view_module": "@jupyter-widgets/base",
            "_view_module_version": "1.2.0",
            "_view_name": "StyleView",
            "bar_color": null,
            "description_width": ""
          }
        },
        "7aa50be64b974fbbaa6e74ceeebbed48": {
          "model_module": "@jupyter-widgets/base",
          "model_name": "LayoutModel",
          "model_module_version": "1.2.0",
          "state": {
            "_model_module": "@jupyter-widgets/base",
            "_model_module_version": "1.2.0",
            "_model_name": "LayoutModel",
            "_view_count": null,
            "_view_module": "@jupyter-widgets/base",
            "_view_module_version": "1.2.0",
            "_view_name": "LayoutView",
            "align_content": null,
            "align_items": null,
            "align_self": null,
            "border": null,
            "bottom": null,
            "display": null,
            "flex": null,
            "flex_flow": null,
            "grid_area": null,
            "grid_auto_columns": null,
            "grid_auto_flow": null,
            "grid_auto_rows": null,
            "grid_column": null,
            "grid_gap": null,
            "grid_row": null,
            "grid_template_areas": null,
            "grid_template_columns": null,
            "grid_template_rows": null,
            "height": null,
            "justify_content": null,
            "justify_items": null,
            "left": null,
            "margin": null,
            "max_height": null,
            "max_width": null,
            "min_height": null,
            "min_width": null,
            "object_fit": null,
            "object_position": null,
            "order": null,
            "overflow": null,
            "overflow_x": null,
            "overflow_y": null,
            "padding": null,
            "right": null,
            "top": null,
            "visibility": null,
            "width": null
          }
        },
        "3af828d252a8486a8ac0acd1e1ccca68": {
          "model_module": "@jupyter-widgets/controls",
          "model_name": "DescriptionStyleModel",
          "model_module_version": "1.5.0",
          "state": {
            "_model_module": "@jupyter-widgets/controls",
            "_model_module_version": "1.5.0",
            "_model_name": "DescriptionStyleModel",
            "_view_count": null,
            "_view_module": "@jupyter-widgets/base",
            "_view_module_version": "1.2.0",
            "_view_name": "StyleView",
            "description_width": ""
          }
        },
        "364d57e43a6845118155d2b0031fed27": {
          "model_module": "@jupyter-widgets/controls",
          "model_name": "HBoxModel",
          "model_module_version": "1.5.0",
          "state": {
            "_dom_classes": [],
            "_model_module": "@jupyter-widgets/controls",
            "_model_module_version": "1.5.0",
            "_model_name": "HBoxModel",
            "_view_count": null,
            "_view_module": "@jupyter-widgets/controls",
            "_view_module_version": "1.5.0",
            "_view_name": "HBoxView",
            "box_style": "",
            "children": [
              "IPY_MODEL_af3a5e61213142b88afb859998d117fa",
              "IPY_MODEL_9a15b7a4a2384365aaa010344405860a",
              "IPY_MODEL_2e4a49183f244fb0ad20e43ee68649b5"
            ],
            "layout": "IPY_MODEL_d9457b23f6394722950d8239027b8728"
          }
        },
        "af3a5e61213142b88afb859998d117fa": {
          "model_module": "@jupyter-widgets/controls",
          "model_name": "HTMLModel",
          "model_module_version": "1.5.0",
          "state": {
            "_dom_classes": [],
            "_model_module": "@jupyter-widgets/controls",
            "_model_module_version": "1.5.0",
            "_model_name": "HTMLModel",
            "_view_count": null,
            "_view_module": "@jupyter-widgets/controls",
            "_view_module_version": "1.5.0",
            "_view_name": "HTMLView",
            "description": "",
            "description_tooltip": null,
            "layout": "IPY_MODEL_c7c6e2a2b65245fd8946cac1afc553ba",
            "placeholder": "​",
            "style": "IPY_MODEL_79cf6a95dee24d0292f81dce7299994f",
            "value": "config.json: 100%"
          }
        },
        "9a15b7a4a2384365aaa010344405860a": {
          "model_module": "@jupyter-widgets/controls",
          "model_name": "FloatProgressModel",
          "model_module_version": "1.5.0",
          "state": {
            "_dom_classes": [],
            "_model_module": "@jupyter-widgets/controls",
            "_model_module_version": "1.5.0",
            "_model_name": "FloatProgressModel",
            "_view_count": null,
            "_view_module": "@jupyter-widgets/controls",
            "_view_module_version": "1.5.0",
            "_view_name": "ProgressView",
            "bar_style": "success",
            "description": "",
            "description_tooltip": null,
            "layout": "IPY_MODEL_8b558db7b70744d1874437163b5d055d",
            "max": 2190,
            "min": 0,
            "orientation": "horizontal",
            "style": "IPY_MODEL_1b93e11cf668428da152e415a1d03cdd",
            "value": 2190
          }
        },
        "2e4a49183f244fb0ad20e43ee68649b5": {
          "model_module": "@jupyter-widgets/controls",
          "model_name": "HTMLModel",
          "model_module_version": "1.5.0",
          "state": {
            "_dom_classes": [],
            "_model_module": "@jupyter-widgets/controls",
            "_model_module_version": "1.5.0",
            "_model_name": "HTMLModel",
            "_view_count": null,
            "_view_module": "@jupyter-widgets/controls",
            "_view_module_version": "1.5.0",
            "_view_name": "HTMLView",
            "description": "",
            "description_tooltip": null,
            "layout": "IPY_MODEL_25b424741e484f238344b8073bfee502",
            "placeholder": "​",
            "style": "IPY_MODEL_a7ed5c9489f3467ab8c1b9368a7cf5cf",
            "value": " 2.19k/2.19k [00:00&lt;00:00, 248kB/s]"
          }
        },
        "d9457b23f6394722950d8239027b8728": {
          "model_module": "@jupyter-widgets/base",
          "model_name": "LayoutModel",
          "model_module_version": "1.2.0",
          "state": {
            "_model_module": "@jupyter-widgets/base",
            "_model_module_version": "1.2.0",
            "_model_name": "LayoutModel",
            "_view_count": null,
            "_view_module": "@jupyter-widgets/base",
            "_view_module_version": "1.2.0",
            "_view_name": "LayoutView",
            "align_content": null,
            "align_items": null,
            "align_self": null,
            "border": null,
            "bottom": null,
            "display": null,
            "flex": null,
            "flex_flow": null,
            "grid_area": null,
            "grid_auto_columns": null,
            "grid_auto_flow": null,
            "grid_auto_rows": null,
            "grid_column": null,
            "grid_gap": null,
            "grid_row": null,
            "grid_template_areas": null,
            "grid_template_columns": null,
            "grid_template_rows": null,
            "height": null,
            "justify_content": null,
            "justify_items": null,
            "left": null,
            "margin": null,
            "max_height": null,
            "max_width": null,
            "min_height": null,
            "min_width": null,
            "object_fit": null,
            "object_position": null,
            "order": null,
            "overflow": null,
            "overflow_x": null,
            "overflow_y": null,
            "padding": null,
            "right": null,
            "top": null,
            "visibility": null,
            "width": null
          }
        },
        "c7c6e2a2b65245fd8946cac1afc553ba": {
          "model_module": "@jupyter-widgets/base",
          "model_name": "LayoutModel",
          "model_module_version": "1.2.0",
          "state": {
            "_model_module": "@jupyter-widgets/base",
            "_model_module_version": "1.2.0",
            "_model_name": "LayoutModel",
            "_view_count": null,
            "_view_module": "@jupyter-widgets/base",
            "_view_module_version": "1.2.0",
            "_view_name": "LayoutView",
            "align_content": null,
            "align_items": null,
            "align_self": null,
            "border": null,
            "bottom": null,
            "display": null,
            "flex": null,
            "flex_flow": null,
            "grid_area": null,
            "grid_auto_columns": null,
            "grid_auto_flow": null,
            "grid_auto_rows": null,
            "grid_column": null,
            "grid_gap": null,
            "grid_row": null,
            "grid_template_areas": null,
            "grid_template_columns": null,
            "grid_template_rows": null,
            "height": null,
            "justify_content": null,
            "justify_items": null,
            "left": null,
            "margin": null,
            "max_height": null,
            "max_width": null,
            "min_height": null,
            "min_width": null,
            "object_fit": null,
            "object_position": null,
            "order": null,
            "overflow": null,
            "overflow_x": null,
            "overflow_y": null,
            "padding": null,
            "right": null,
            "top": null,
            "visibility": null,
            "width": null
          }
        },
        "79cf6a95dee24d0292f81dce7299994f": {
          "model_module": "@jupyter-widgets/controls",
          "model_name": "DescriptionStyleModel",
          "model_module_version": "1.5.0",
          "state": {
            "_model_module": "@jupyter-widgets/controls",
            "_model_module_version": "1.5.0",
            "_model_name": "DescriptionStyleModel",
            "_view_count": null,
            "_view_module": "@jupyter-widgets/base",
            "_view_module_version": "1.2.0",
            "_view_name": "StyleView",
            "description_width": ""
          }
        },
        "8b558db7b70744d1874437163b5d055d": {
          "model_module": "@jupyter-widgets/base",
          "model_name": "LayoutModel",
          "model_module_version": "1.2.0",
          "state": {
            "_model_module": "@jupyter-widgets/base",
            "_model_module_version": "1.2.0",
            "_model_name": "LayoutModel",
            "_view_count": null,
            "_view_module": "@jupyter-widgets/base",
            "_view_module_version": "1.2.0",
            "_view_name": "LayoutView",
            "align_content": null,
            "align_items": null,
            "align_self": null,
            "border": null,
            "bottom": null,
            "display": null,
            "flex": null,
            "flex_flow": null,
            "grid_area": null,
            "grid_auto_columns": null,
            "grid_auto_flow": null,
            "grid_auto_rows": null,
            "grid_column": null,
            "grid_gap": null,
            "grid_row": null,
            "grid_template_areas": null,
            "grid_template_columns": null,
            "grid_template_rows": null,
            "height": null,
            "justify_content": null,
            "justify_items": null,
            "left": null,
            "margin": null,
            "max_height": null,
            "max_width": null,
            "min_height": null,
            "min_width": null,
            "object_fit": null,
            "object_position": null,
            "order": null,
            "overflow": null,
            "overflow_x": null,
            "overflow_y": null,
            "padding": null,
            "right": null,
            "top": null,
            "visibility": null,
            "width": null
          }
        },
        "1b93e11cf668428da152e415a1d03cdd": {
          "model_module": "@jupyter-widgets/controls",
          "model_name": "ProgressStyleModel",
          "model_module_version": "1.5.0",
          "state": {
            "_model_module": "@jupyter-widgets/controls",
            "_model_module_version": "1.5.0",
            "_model_name": "ProgressStyleModel",
            "_view_count": null,
            "_view_module": "@jupyter-widgets/base",
            "_view_module_version": "1.2.0",
            "_view_name": "StyleView",
            "bar_color": null,
            "description_width": ""
          }
        },
        "25b424741e484f238344b8073bfee502": {
          "model_module": "@jupyter-widgets/base",
          "model_name": "LayoutModel",
          "model_module_version": "1.2.0",
          "state": {
            "_model_module": "@jupyter-widgets/base",
            "_model_module_version": "1.2.0",
            "_model_name": "LayoutModel",
            "_view_count": null,
            "_view_module": "@jupyter-widgets/base",
            "_view_module_version": "1.2.0",
            "_view_name": "LayoutView",
            "align_content": null,
            "align_items": null,
            "align_self": null,
            "border": null,
            "bottom": null,
            "display": null,
            "flex": null,
            "flex_flow": null,
            "grid_area": null,
            "grid_auto_columns": null,
            "grid_auto_flow": null,
            "grid_auto_rows": null,
            "grid_column": null,
            "grid_gap": null,
            "grid_row": null,
            "grid_template_areas": null,
            "grid_template_columns": null,
            "grid_template_rows": null,
            "height": null,
            "justify_content": null,
            "justify_items": null,
            "left": null,
            "margin": null,
            "max_height": null,
            "max_width": null,
            "min_height": null,
            "min_width": null,
            "object_fit": null,
            "object_position": null,
            "order": null,
            "overflow": null,
            "overflow_x": null,
            "overflow_y": null,
            "padding": null,
            "right": null,
            "top": null,
            "visibility": null,
            "width": null
          }
        },
        "a7ed5c9489f3467ab8c1b9368a7cf5cf": {
          "model_module": "@jupyter-widgets/controls",
          "model_name": "DescriptionStyleModel",
          "model_module_version": "1.5.0",
          "state": {
            "_model_module": "@jupyter-widgets/controls",
            "_model_module_version": "1.5.0",
            "_model_name": "DescriptionStyleModel",
            "_view_count": null,
            "_view_module": "@jupyter-widgets/base",
            "_view_module_version": "1.2.0",
            "_view_name": "StyleView",
            "description_width": ""
          }
        },
        "f5fa97dc9f1342369bd4a0973cae7f9d": {
          "model_module": "@jupyter-widgets/controls",
          "model_name": "HBoxModel",
          "model_module_version": "1.5.0",
          "state": {
            "_dom_classes": [],
            "_model_module": "@jupyter-widgets/controls",
            "_model_module_version": "1.5.0",
            "_model_name": "HBoxModel",
            "_view_count": null,
            "_view_module": "@jupyter-widgets/controls",
            "_view_module_version": "1.5.0",
            "_view_name": "HBoxView",
            "box_style": "",
            "children": [
              "IPY_MODEL_7538bd667ce64cd78069d23f6484b44d",
              "IPY_MODEL_d7d85d318f2245908da8cbfb95273811",
              "IPY_MODEL_dfcf5b70fa3841a18257a2da2237243e"
            ],
            "layout": "IPY_MODEL_df812fec2c4540229c538e8776d72165"
          }
        },
        "7538bd667ce64cd78069d23f6484b44d": {
          "model_module": "@jupyter-widgets/controls",
          "model_name": "HTMLModel",
          "model_module_version": "1.5.0",
          "state": {
            "_dom_classes": [],
            "_model_module": "@jupyter-widgets/controls",
            "_model_module_version": "1.5.0",
            "_model_name": "HTMLModel",
            "_view_count": null,
            "_view_module": "@jupyter-widgets/controls",
            "_view_module_version": "1.5.0",
            "_view_name": "HTMLView",
            "description": "",
            "description_tooltip": null,
            "layout": "IPY_MODEL_734740507c714786ad0abb2798933220",
            "placeholder": "​",
            "style": "IPY_MODEL_0e45dfd0df66478c86fe79fb700130fe",
            "value": "model.safetensors: 100%"
          }
        },
        "d7d85d318f2245908da8cbfb95273811": {
          "model_module": "@jupyter-widgets/controls",
          "model_name": "FloatProgressModel",
          "model_module_version": "1.5.0",
          "state": {
            "_dom_classes": [],
            "_model_module": "@jupyter-widgets/controls",
            "_model_module_version": "1.5.0",
            "_model_name": "FloatProgressModel",
            "_view_count": null,
            "_view_module": "@jupyter-widgets/controls",
            "_view_module_version": "1.5.0",
            "_view_name": "ProgressView",
            "bar_style": "success",
            "description": "",
            "description_tooltip": null,
            "layout": "IPY_MODEL_456bd8810bb5441cb7dc63a506efc2b0",
            "max": 598635032,
            "min": 0,
            "orientation": "horizontal",
            "style": "IPY_MODEL_a95415314d4c45dbaf1cfddea5654a62",
            "value": 598635032
          }
        },
        "dfcf5b70fa3841a18257a2da2237243e": {
          "model_module": "@jupyter-widgets/controls",
          "model_name": "HTMLModel",
          "model_module_version": "1.5.0",
          "state": {
            "_dom_classes": [],
            "_model_module": "@jupyter-widgets/controls",
            "_model_module_version": "1.5.0",
            "_model_name": "HTMLModel",
            "_view_count": null,
            "_view_module": "@jupyter-widgets/controls",
            "_view_module_version": "1.5.0",
            "_view_name": "HTMLView",
            "description": "",
            "description_tooltip": null,
            "layout": "IPY_MODEL_2b1d014fa5104c2297f915b803ad4c58",
            "placeholder": "​",
            "style": "IPY_MODEL_c66d8945c0d04155921b08cbea76206c",
            "value": " 599M/599M [00:09&lt;00:00, 78.9MB/s]"
          }
        },
        "df812fec2c4540229c538e8776d72165": {
          "model_module": "@jupyter-widgets/base",
          "model_name": "LayoutModel",
          "model_module_version": "1.2.0",
          "state": {
            "_model_module": "@jupyter-widgets/base",
            "_model_module_version": "1.2.0",
            "_model_name": "LayoutModel",
            "_view_count": null,
            "_view_module": "@jupyter-widgets/base",
            "_view_module_version": "1.2.0",
            "_view_name": "LayoutView",
            "align_content": null,
            "align_items": null,
            "align_self": null,
            "border": null,
            "bottom": null,
            "display": null,
            "flex": null,
            "flex_flow": null,
            "grid_area": null,
            "grid_auto_columns": null,
            "grid_auto_flow": null,
            "grid_auto_rows": null,
            "grid_column": null,
            "grid_gap": null,
            "grid_row": null,
            "grid_template_areas": null,
            "grid_template_columns": null,
            "grid_template_rows": null,
            "height": null,
            "justify_content": null,
            "justify_items": null,
            "left": null,
            "margin": null,
            "max_height": null,
            "max_width": null,
            "min_height": null,
            "min_width": null,
            "object_fit": null,
            "object_position": null,
            "order": null,
            "overflow": null,
            "overflow_x": null,
            "overflow_y": null,
            "padding": null,
            "right": null,
            "top": null,
            "visibility": null,
            "width": null
          }
        },
        "734740507c714786ad0abb2798933220": {
          "model_module": "@jupyter-widgets/base",
          "model_name": "LayoutModel",
          "model_module_version": "1.2.0",
          "state": {
            "_model_module": "@jupyter-widgets/base",
            "_model_module_version": "1.2.0",
            "_model_name": "LayoutModel",
            "_view_count": null,
            "_view_module": "@jupyter-widgets/base",
            "_view_module_version": "1.2.0",
            "_view_name": "LayoutView",
            "align_content": null,
            "align_items": null,
            "align_self": null,
            "border": null,
            "bottom": null,
            "display": null,
            "flex": null,
            "flex_flow": null,
            "grid_area": null,
            "grid_auto_columns": null,
            "grid_auto_flow": null,
            "grid_auto_rows": null,
            "grid_column": null,
            "grid_gap": null,
            "grid_row": null,
            "grid_template_areas": null,
            "grid_template_columns": null,
            "grid_template_rows": null,
            "height": null,
            "justify_content": null,
            "justify_items": null,
            "left": null,
            "margin": null,
            "max_height": null,
            "max_width": null,
            "min_height": null,
            "min_width": null,
            "object_fit": null,
            "object_position": null,
            "order": null,
            "overflow": null,
            "overflow_x": null,
            "overflow_y": null,
            "padding": null,
            "right": null,
            "top": null,
            "visibility": null,
            "width": null
          }
        },
        "0e45dfd0df66478c86fe79fb700130fe": {
          "model_module": "@jupyter-widgets/controls",
          "model_name": "DescriptionStyleModel",
          "model_module_version": "1.5.0",
          "state": {
            "_model_module": "@jupyter-widgets/controls",
            "_model_module_version": "1.5.0",
            "_model_name": "DescriptionStyleModel",
            "_view_count": null,
            "_view_module": "@jupyter-widgets/base",
            "_view_module_version": "1.2.0",
            "_view_name": "StyleView",
            "description_width": ""
          }
        },
        "456bd8810bb5441cb7dc63a506efc2b0": {
          "model_module": "@jupyter-widgets/base",
          "model_name": "LayoutModel",
          "model_module_version": "1.2.0",
          "state": {
            "_model_module": "@jupyter-widgets/base",
            "_model_module_version": "1.2.0",
            "_model_name": "LayoutModel",
            "_view_count": null,
            "_view_module": "@jupyter-widgets/base",
            "_view_module_version": "1.2.0",
            "_view_name": "LayoutView",
            "align_content": null,
            "align_items": null,
            "align_self": null,
            "border": null,
            "bottom": null,
            "display": null,
            "flex": null,
            "flex_flow": null,
            "grid_area": null,
            "grid_auto_columns": null,
            "grid_auto_flow": null,
            "grid_auto_rows": null,
            "grid_column": null,
            "grid_gap": null,
            "grid_row": null,
            "grid_template_areas": null,
            "grid_template_columns": null,
            "grid_template_rows": null,
            "height": null,
            "justify_content": null,
            "justify_items": null,
            "left": null,
            "margin": null,
            "max_height": null,
            "max_width": null,
            "min_height": null,
            "min_width": null,
            "object_fit": null,
            "object_position": null,
            "order": null,
            "overflow": null,
            "overflow_x": null,
            "overflow_y": null,
            "padding": null,
            "right": null,
            "top": null,
            "visibility": null,
            "width": null
          }
        },
        "a95415314d4c45dbaf1cfddea5654a62": {
          "model_module": "@jupyter-widgets/controls",
          "model_name": "ProgressStyleModel",
          "model_module_version": "1.5.0",
          "state": {
            "_model_module": "@jupyter-widgets/controls",
            "_model_module_version": "1.5.0",
            "_model_name": "ProgressStyleModel",
            "_view_count": null,
            "_view_module": "@jupyter-widgets/base",
            "_view_module_version": "1.2.0",
            "_view_name": "StyleView",
            "bar_color": null,
            "description_width": ""
          }
        },
        "2b1d014fa5104c2297f915b803ad4c58": {
          "model_module": "@jupyter-widgets/base",
          "model_name": "LayoutModel",
          "model_module_version": "1.2.0",
          "state": {
            "_model_module": "@jupyter-widgets/base",
            "_model_module_version": "1.2.0",
            "_model_name": "LayoutModel",
            "_view_count": null,
            "_view_module": "@jupyter-widgets/base",
            "_view_module_version": "1.2.0",
            "_view_name": "LayoutView",
            "align_content": null,
            "align_items": null,
            "align_self": null,
            "border": null,
            "bottom": null,
            "display": null,
            "flex": null,
            "flex_flow": null,
            "grid_area": null,
            "grid_auto_columns": null,
            "grid_auto_flow": null,
            "grid_auto_rows": null,
            "grid_column": null,
            "grid_gap": null,
            "grid_row": null,
            "grid_template_areas": null,
            "grid_template_columns": null,
            "grid_template_rows": null,
            "height": null,
            "justify_content": null,
            "justify_items": null,
            "left": null,
            "margin": null,
            "max_height": null,
            "max_width": null,
            "min_height": null,
            "min_width": null,
            "object_fit": null,
            "object_position": null,
            "order": null,
            "overflow": null,
            "overflow_x": null,
            "overflow_y": null,
            "padding": null,
            "right": null,
            "top": null,
            "visibility": null,
            "width": null
          }
        },
        "c66d8945c0d04155921b08cbea76206c": {
          "model_module": "@jupyter-widgets/controls",
          "model_name": "DescriptionStyleModel",
          "model_module_version": "1.5.0",
          "state": {
            "_model_module": "@jupyter-widgets/controls",
            "_model_module_version": "1.5.0",
            "_model_name": "DescriptionStyleModel",
            "_view_count": null,
            "_view_module": "@jupyter-widgets/base",
            "_view_module_version": "1.2.0",
            "_view_name": "StyleView",
            "description_width": ""
          }
        }
      }
    }
  },
  "nbformat": 4,
  "nbformat_minor": 5
}